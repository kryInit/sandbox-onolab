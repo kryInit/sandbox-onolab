{
 "cells": [
  {
   "cell_type": "code",
   "id": "initial_id",
   "metadata": {
    "collapsed": true,
    "ExecuteTime": {
     "end_time": "2024-05-24T08:53:16.341630Z",
     "start_time": "2024-05-24T08:53:16.338033Z"
    }
   },
   "source": "print(\"HI\")",
   "outputs": [
    {
     "name": "stdout",
     "output_type": "stream",
     "text": [
      "HI\n"
     ]
    }
   ],
   "execution_count": 1
  },
  {
   "metadata": {
    "ExecuteTime": {
     "end_time": "2024-05-24T08:53:18.147407Z",
     "start_time": "2024-05-24T08:53:18.043348Z"
    }
   },
   "cell_type": "code",
   "source": "from pathlib import Path",
   "id": "3b360a136918bc76",
   "outputs": [],
   "execution_count": 2
  },
  {
   "metadata": {
    "ExecuteTime": {
     "end_time": "2024-05-24T08:53:21.049815Z",
     "start_time": "2024-05-24T08:53:21.042832Z"
    }
   },
   "cell_type": "code",
   "source": "print(Path().resolve())",
   "id": "b779b8515680092e",
   "outputs": [
    {
     "name": "stdout",
     "output_type": "stream",
     "text": [
      "/home/kr/workspace/sandbox-onolab/notebook\n"
     ]
    }
   ],
   "execution_count": 3
  },
  {
   "metadata": {
    "ExecuteTime": {
     "end_time": "2024-05-24T08:53:22.519464Z",
     "start_time": "2024-05-24T08:53:22.514670Z"
    }
   },
   "cell_type": "code",
   "source": "a = 10",
   "id": "fd379e6532850a67",
   "outputs": [],
   "execution_count": 4
  },
  {
   "metadata": {
    "ExecuteTime": {
     "end_time": "2024-05-24T08:55:04.457182Z",
     "start_time": "2024-05-24T08:55:04.451345Z"
    }
   },
   "cell_type": "code",
   "source": "a * 20\n",
   "id": "22f432910000f44a",
   "outputs": [
    {
     "data": {
      "text/plain": [
       "200"
      ]
     },
     "execution_count": 6,
     "metadata": {},
     "output_type": "execute_result"
    }
   ],
   "execution_count": 6
  }
 ],
 "metadata": {
  "kernelspec": {
   "display_name": "Python 3",
   "language": "python",
   "name": "python3"
  },
  "language_info": {
   "codemirror_mode": {
    "name": "ipython",
    "version": 2
   },
   "file_extension": ".py",
   "mimetype": "text/x-python",
   "name": "python",
   "nbconvert_exporter": "python",
   "pygments_lexer": "ipython2",
   "version": "2.7.6"
  }
 },
 "nbformat": 4,
 "nbformat_minor": 5
}
