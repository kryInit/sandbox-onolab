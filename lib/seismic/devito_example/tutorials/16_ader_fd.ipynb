{
 "cells": [
  {
   "cell_type": "markdown",
   "id": "31226b14-e907-4503-9918-a09163363217",
   "metadata": {},
   "source": [
    "# ADER-FD\n",
    "\n",
    "This notebook demonstrates the implementation of a finite-difference scheme for solving the first-order formulation of the acoustic wave equation using ADER (Arbitrary-order-accuracy via DERivatives) time integration. This enables a temporal discretisation up the order of the spatial discretisation, whilst preventing the grid-grid decoupling (often referred to as checkerboarding) associated with solving first-order systems of equations on a single finite-difference grid.\n",
    "\n",
    "The method is detailed in \"Fast High Order ADER Schemes for Linear Hyperbolic Equations\" by Schwartzkopf et al. (https://doi.org/10.1016/j.jcp.2003.12.007).\n",
    "\n",
    "The state vector is defined as\n",
    "\n",
    "$\\mathbf{U} = \\begin{bmatrix} p \\\\ \\mathbf{v} \\end{bmatrix}$,\n",
    "\n",
    "where $p$ is pressure, and $\\mathbf{v}$ is particle velocity. Taking a Taylor-series expansion of $\\mathbf{U}(t+\\Delta t)$ at time $t$, one obtains\n",
    "\n",
    "$\\mathbf{U}(t+\\Delta t) = \\mathbf{U}(t) + \\Delta t\\frac{\\partial \\mathbf{U}}{\\partial t}(t) + \\frac{\\Delta t^2}{2}\\frac{\\partial^2 \\mathbf{U}}{\\partial t^2}(t) + \\frac{\\Delta t^3}{6}\\frac{\\partial^3 \\mathbf{U}}{\\partial t^3}(t) + \\dots$.\n",
    "\n",
    "Using the governing equations\n",
    "\n",
    "$\\frac{\\partial \\mathbf{U}}{\\partial t} = \\begin{bmatrix}\\rho c^2 \\boldsymbol{\\nabla}\\cdot\\mathbf{v} \\\\ \\frac{1}{\\rho}\\boldsymbol{\\nabla}p \\end{bmatrix}$,\n",
    "\n",
    "expressions for higher-order time derivatives of the state vector are derived in terms of spatial derivatives. For example, taking the second derivative of the state vector with respect to time\n",
    "\n",
    "$\\frac{\\partial^2 \\mathbf{U}}{\\partial t^2} = \\begin{bmatrix}\\rho c^2 \\boldsymbol{\\nabla}\\cdot\\frac{\\partial \\mathbf{v}}{\\partial t} \\\\ \\frac{1}{\\rho}\\boldsymbol{\\nabla}\\frac{\\partial p}{\\partial t} \\end{bmatrix}$.\n",
    "\n",
    "Substituting the temporal derivatives on the right hand side for the expressions given in the governing equations\n",
    "\n",
    "$\\frac{\\partial^2 \\mathbf{U}}{\\partial t^2} = \\begin{bmatrix}\\rho c^2 \\boldsymbol{\\nabla}\\cdot\\left(\\frac{1}{\\rho}\\boldsymbol{\\nabla}p\\right) \\\\ \\frac{1}{\\rho}\\boldsymbol{\\nabla}\\left(\\rho c^2 \\boldsymbol{\\nabla}\\cdot\\mathbf{v}\\right) \\end{bmatrix}$.\n",
    "\n",
    "Assuming constant $c$ and $\\rho$, this simplifies to\n",
    "\n",
    "$\\frac{\\partial^2 \\mathbf{U}}{\\partial t^2} = \\begin{bmatrix}c^2 \\nabla^2 p \\\\ c^2\\boldsymbol{\\nabla}\\left(\\boldsymbol{\\nabla}\\cdot\\mathbf{v}\\right) \\end{bmatrix}$.\n",
    "\n",
    "This process is iterated to obtain the required temporal derivatives.\n",
    "\n",
    "High-order explicit timestepping is achieved by substituting these expressions into the Taylor expansion, truncated at the desired temporal discretisation order. As such, the order of the temporal discretisation can be increased to that of the spatial discretisation."
   ]
  },
  {
   "cell_type": "code",
   "execution_count": 1,
   "id": "e7f08ea5-2007-4c35-aae2-ed38eded5e16",
   "metadata": {},
   "source": [
    "#NBVAL_IGNORE_OUTPUT\n",
    "# Necessary imports\n",
    "import devito as dv\n",
    "import sympy as sp\n",
    "import numpy as np\n",
    "import matplotlib.pyplot as plt\n",
    "\n",
    "from examples.seismic import TimeAxis, RickerSource"
   ],
   "outputs": []
  },
  {
   "cell_type": "markdown",
   "id": "e3ed902a-fc78-4199-80df-766df1f21e55",
   "metadata": {},
   "source": [
    "To begin, we set up the `Grid`. Note that no staggering is specified for the `Function`s as it is not needed in this case."
   ]
  },
  {
   "cell_type": "code",
   "execution_count": 2,
   "id": "f4308415-d7ad-441c-b889-60ab4ce7155f",
   "metadata": {},
   "source": [
    "# 1km x 1km grid\n",
    "grid = dv.Grid(shape=(201, 201), extent=(1000., 1000.))\n",
    "p = dv.TimeFunction(name='p', grid=grid, space_order=16)\n",
    "v = dv.VectorTimeFunction(name='v', grid=grid, space_order=16, staggered=(None, None))"
   ],
   "outputs": []
  },
  {
   "cell_type": "markdown",
   "id": "9bf842ff-3d17-4e0e-bb84-df1015cab505",
   "metadata": {},
   "source": [
    "Material parameters are specified as in the staggered case. Note that if one assumes non-constant material parameters when deriving higher-order time derivatives in terms of spatial derivatives, the resultant expressions will contain derivatives of material parameters. As such, it will be necessary to set the `space_order` of the `Function`s containing material parameters accordingly, and values may need extending into the halo using the  `data_with_halo` view."
   ]
  },
  {
   "cell_type": "code",
   "execution_count": 3,
   "id": "9c9b755b-3128-4dc0-9a96-4e1f12787ec5",
   "metadata": {},
   "source": [
    "# Material parameters\n",
    "c = dv.Function(name='c', grid=grid)\n",
    "rho = dv.Function(name='rho', grid=grid)\n",
    "\n",
    "c.data[:] = 1.5\n",
    "c.data[:, :150] = 1.25\n",
    "c.data[:, :100] = 1.\n",
    "c.data[:, :50] = 0.75\n",
    "\n",
    "rho.data[:] = c.data[:]\n",
    "\n",
    "# Define bouyancy for shorthand\n",
    "b = 1/rho\n",
    "# Define celerity shorthands\n",
    "c2 = c**2\n",
    "c4 = c**4"
   ],
   "outputs": []
  },
  {
   "cell_type": "markdown",
   "id": "de44e4b4-b669-44f8-a2e4-93030217e651",
   "metadata": {},
   "source": [
    "Now we will specify each of the temporal derivatives required for a 4th-order ADER timestepping scheme. Note that for conciseness, the derivations assume constant material parameters."
   ]
  },
  {
   "cell_type": "code",
   "execution_count": 4,
   "id": "8e44ac5a-0b68-40bc-8f3f-a7d30fb4964a",
   "metadata": {},
   "source": [
    "# dv.grad(dv.div(v)) is not the same as expanding the continuous operator and then discretising\n",
    "# This is because dv.grad(dv.div(v)) applies a gradient stencil to a divergence stencil\n",
    "def graddiv(f):\n",
    "    return sp.Matrix([[f[0].dx2 + f[1].dxdy],\n",
    "                      [f[0].dxdy + f[1].dy2]])\n",
    "\n",
    "def lapdiv(f):\n",
    "    return f[0].dx3 + f[0].dxdy2 + f[1].dx2dy + f[1].dy3\n",
    "\n",
    "def gradlap(f):\n",
    "    return sp.Matrix([[f.dx3 + f.dxdy2],\n",
    "                      [f.dx2dy + f.dy3]])\n",
    "\n",
    "def gradlapdiv(f):\n",
    "    return sp.Matrix([[f[0].dx4 + f[0].dx2dy2 + f[1].dx3dy + f[1].dxdy3],\n",
    "                      [f[0].dx3dy + f[0].dxdy3 + f[1].dx2dy2 + f[1].dy4]])\\\n",
    "\n",
    "def biharmonic(f):\n",
    "    return f.dx4 + 2*f.dx2dy2 + f.dy4\n",
    "\n",
    "# First time derivatives\n",
    "pdt = rho*c2*dv.div(v)\n",
    "vdt = b*dv.grad(p)\n",
    "\n",
    "# Second time derivatives\n",
    "pdt2 = c2*p.laplace\n",
    "vdt2 = c2*graddiv(v)\n",
    "\n",
    "# Third time derivatives\n",
    "pdt3 = rho*c4*lapdiv(v)\n",
    "vdt3 = c2*b*gradlap(p)\n",
    "\n",
    "# Fourth time derivatives\n",
    "pdt4 = c4*biharmonic(p)\n",
    "vdt4 = c4*gradlapdiv(v)"
   ],
   "outputs": []
  },
  {
   "cell_type": "markdown",
   "id": "602638ab-8b84-4b8a-b462-af56998972b3",
   "metadata": {},
   "source": [
    "Define the model timestep."
   ]
  },
  {
   "cell_type": "code",
   "execution_count": 5,
   "id": "7c45fb73-d5ce-40a6-aaf1-288590ddb381",
   "metadata": {},
   "source": [
    "# Model timestep\n",
    "op_dt = 0.85*np.amin(grid.spacing)/np.amax(c.data)  # Courant number of 0.85"
   ],
   "outputs": []
  },
  {
   "cell_type": "markdown",
   "id": "8aff89b5-a76d-4ce3-9f72-582692ab990a",
   "metadata": {},
   "source": [
    "Now define the update equations for 4th-order ADER timestepping."
   ]
  },
  {
   "cell_type": "code",
   "execution_count": 6,
   "id": "01d7ff5a-d917-43d2-87c8-ed669461017f",
   "metadata": {},
   "source": [
    "dt = grid.stepping_dim.spacing\n",
    "\n",
    "# Update equations (2nd-order ADER timestepping)\n",
    "# eq_p = dv.Eq(p.forward, p + dt*pdt + (dt**2/2)*pdt2)\n",
    "# eq_v = dv.Eq(v.forward, v + dt*vdt + (dt**2/2)*vdt2)\n",
    "\n",
    "# Update equations (3rd-order ADER timestepping)\n",
    "# eq_p = dv.Eq(p.forward, p + dt*pdt + (dt**2/2)*pdt2 + (dt**3/6)*pdt3)\n",
    "# eq_v = dv.Eq(v.forward, v + dt*vdt + (dt**2/2)*vdt2 + (dt**3/6)*vdt3)\n",
    "\n",
    "# Update equations (4th-order ADER timestepping)\n",
    "eq_p = dv.Eq(p.forward, p + dt*pdt + (dt**2/2)*pdt2 + (dt**3/6)*pdt3 + (dt**4/24)*pdt4)\n",
    "eq_v = dv.Eq(v.forward, v + dt*vdt + (dt**2/2)*vdt2 + (dt**3/6)*vdt3 + (dt**4/24)*vdt4)"
   ],
   "outputs": []
  },
  {
   "cell_type": "markdown",
   "id": "3ad0cc13-41c0-4137-b3fa-18bdc8836871",
   "metadata": {},
   "source": [
    "Add a source."
   ]
  },
  {
   "cell_type": "code",
   "execution_count": 7,
   "id": "32a84cdf-bd94-4d82-b2c7-f097e86cfb1f",
   "metadata": {},
   "source": [
    "#NBVAL_IGNORE_OUTPUT\n",
    "t0 = 0.  # Simulation starts a t=0\n",
    "tn = 450.  # Simulation last 0.45 seconds (450 ms)\n",
    "\n",
    "time_range = TimeAxis(start=t0, stop=tn, step=op_dt)\n",
    "\n",
    "f0 = 0.020  # Source peak frequency is 20Hz (0.020 kHz)\n",
    "src = RickerSource(name='src', grid=grid, f0=f0,\n",
    "                   npoint=1, time_range=time_range)\n",
    "\n",
    "# Position source centrally in all dimensions\n",
    "src.coordinates.data[0, :] = np.array(grid.extent) * .5\n",
    "\n",
    "# We can plot the time signature to see the wavelet\n",
    "src.show()"
   ],
   "outputs": []
  },
  {
   "cell_type": "markdown",
   "id": "7c9a01be-04ab-4a5c-a638-068d05c183dd",
   "metadata": {},
   "source": [
    "Finally we can run our propagator."
   ]
  },
  {
   "cell_type": "code",
   "execution_count": 8,
   "id": "a3cb961e-6522-490d-933b-b03bdd9a3e86",
   "metadata": {},
   "source": [
    "#NBVAL_IGNORE_OUTPUT\n",
    "src_term = src.inject(field=p.forward, expr=src)\n",
    "\n",
    "op = dv.Operator([eq_p, eq_v] + src_term)\n",
    "op.apply(dt=op_dt)"
   ],
   "outputs": []
  },
  {
   "cell_type": "code",
   "execution_count": 9,
   "id": "2927e296-9294-4e00-8eb7-727b1f7fd161",
   "metadata": {},
   "source": [
    "#NBVAL_IGNORE_OUTPUT\n",
    "extent = [0, 1000, 1000, 0]\n",
    "vmax = np.abs(np.amax(p.data[-1]))\n",
    "plt.imshow(c.data.T, cmap='Greys', extent=extent)\n",
    "plt.imshow(p.data[-1].T, cmap='seismic', alpha=0.75, extent=extent, vmin=-vmax, vmax=vmax)\n",
    "plt.xlabel(\"x (m)\")\n",
    "plt.ylabel(\"y (m)\")\n",
    "plt.title(\"ADER-FD scheme\")\n",
    "plt.show()"
   ],
   "outputs": []
  },
  {
   "cell_type": "markdown",
   "id": "f491a525-fec7-4795-9aac-72477b09784a",
   "metadata": {},
   "source": [
    "Using a staggered discretisation to solve the first-order acoustic wave equation with the same parameterisation:"
   ]
  },
  {
   "cell_type": "code",
   "execution_count": 10,
   "id": "211d698c-451e-4c9f-9672-dfead5039221",
   "metadata": {},
   "source": [
    "#NBVAL_IGNORE_OUTPUT\n",
    "ps = dv.TimeFunction(name='ps', grid=grid, space_order=16, staggered=dv.NODE)\n",
    "vs = dv.VectorTimeFunction(name='vs', grid=grid, space_order=16)\n",
    "\n",
    "# First time derivatives\n",
    "psdt = rho*c2*dv.div(vs.forward)\n",
    "vsdt = b*dv.grad(ps)\n",
    "\n",
    "eq_ps = dv.Eq(ps.forward, ps + dt*psdt)\n",
    "eq_vs = dv.Eq(vs.forward, vs + dt*vsdt)\n",
    "\n",
    "src_term_s = src.inject(field=ps.forward, expr=src)\n",
    "\n",
    "ops = dv.Operator([eq_vs, eq_ps] + src_term_s)\n",
    "ops.apply(dt=op_dt)"
   ],
   "outputs": []
  },
  {
   "cell_type": "code",
   "execution_count": 11,
   "id": "0df1c5ae-5b9d-488e-ac94-8c05ef277656",
   "metadata": {},
   "source": [
    "#NBVAL_IGNORE_OUTPUT\n",
    "vmax = np.abs(np.amax(ps.data[-1]))\n",
    "plt.imshow(c.data.T, cmap='Greys', extent=extent)\n",
    "plt.imshow(ps.data[-1].T, cmap='seismic', alpha=0.75, extent=extent, vmin=-vmax, vmax=vmax)\n",
    "plt.xlabel(\"x (m)\")\n",
    "plt.ylabel(\"y (m)\")\n",
    "plt.title(\"Staggered FD scheme\")\n",
    "plt.show()"
   ],
   "outputs": []
  },
  {
   "cell_type": "markdown",
   "id": "17b938aa-2772-4f7f-8347-ea2039781205",
   "metadata": {},
   "source": [
    "It is apparent that the staggered scheme with leapfrog timestepping is unstable with the timestep used in the unstaggered scheme with ADER timestepping."
   ]
  },
  {
   "cell_type": "code",
   "execution_count": 12,
   "id": "a609fce5-7faa-478b-9906-48367774f837",
   "metadata": {},
   "source": [
    "np.amax(ps.data[-1])  # Printing the maximum shows that the wavefield has gone to NaN"
   ],
   "outputs": []
  },
  {
   "cell_type": "markdown",
   "id": "b41b90e4-9168-4297-b409-228491c94774",
   "metadata": {},
   "source": [
    "Reducing the timestep for comparison:"
   ]
  },
  {
   "cell_type": "code",
   "execution_count": 13,
   "id": "723c7139-1fcb-400a-834e-ab537712bb69",
   "metadata": {},
   "source": [
    "#NBVAL_IGNORE_OUTPUT\n",
    "# Reset the fields\n",
    "p.data[:] = 0\n",
    "ps.data[:] = 0\n",
    "\n",
    "v[0].data[:] = 0\n",
    "v[1].data[:] = 0\n",
    "vs[0].data[:] = 0\n",
    "vs[1].data[:] = 0\n",
    "\n",
    "new_dt = 0.5*np.amin(grid.spacing)/np.amax(c.data)  # Courant number of 0.5\n",
    "\n",
    "op.apply(dt=new_dt, src=src.resample(dt=new_dt))\n",
    "ops.apply(dt=new_dt, src=src.resample(dt=new_dt))"
   ],
   "outputs": []
  },
  {
   "cell_type": "code",
   "execution_count": 14,
   "id": "0cbc102c-c6fc-4186-89e9-ce5b1ec826d0",
   "metadata": {},
   "source": [
    "#NBVAL_IGNORE_OUTPUT\n",
    "vmax = np.amax(np.abs(p.data[-1]))\n",
    "\n",
    "fig, ax = plt.subplots(1, 3, figsize=(15, 10), tight_layout=True, sharey=True)\n",
    "\n",
    "# Note that due to the leapfrog timestepping, fields need to be accessed at different timesteps\n",
    "ax[0].imshow(c.data.T, cmap='Greys', extent=extent)\n",
    "im_p = ax[0].imshow(p.data[1].T, cmap='seismic', alpha=0.75, extent=extent, vmin=-vmax, vmax=vmax)\n",
    "ax[0].set_xlabel(\"x (m)\")\n",
    "ax[0].set_ylabel(\"y (m)\")\n",
    "ax[0].title.set_text(\"ADER-FD scheme\")\n",
    "\n",
    "ax[1].imshow(c.data.T, cmap='Greys', extent=extent)\n",
    "ax[1].imshow(ps.data[0].T, cmap='seismic', alpha=0.75, extent=extent, vmin=-vmax, vmax=vmax)\n",
    "ax[1].set_xlabel(\"x (m)\")\n",
    "ax[1].set_ylabel(\"y (m)\")\n",
    "ax[1].title.set_text(\"Staggered FD scheme\")\n",
    "\n",
    "ax[2].imshow(c.data.T, cmap='Greys', extent=extent)\n",
    "ax[2].imshow(ps.data[0].T - p.data[1].T, cmap='seismic', alpha=0.75, extent=extent, vmin=-vmax, vmax=vmax)\n",
    "ax[2].set_xlabel(\"x (m)\")\n",
    "ax[2].set_ylabel(\"y (m)\")\n",
    "ax[2].title.set_text(\"Diff\")\n",
    "\n",
    "plt.show()"
   ],
   "outputs": []
  },
  {
   "cell_type": "markdown",
   "id": "2d4d119c-e723-4792-8449-df80e7ac6fc9",
   "metadata": {},
   "source": [
    "Note the damping of the field at the boundaries when using the ADER scheme. This is in the absence of any damping boundary conditions, hence the presence of reflections in the staggered case."
   ]
  },
  {
   "cell_type": "code",
   "execution_count": 15,
   "id": "f1523bd3-2b78-49c6-b517-57f945b00f63",
   "metadata": {},
   "source": [
    "assert(np.isclose(np.linalg.norm(p.data), 1.6494513))\n",
    "assert(np.isclose(np.linalg.norm(ps.data), 1.8125491))"
   ],
   "outputs": []
  }
 ],
 "metadata": {
  "kernelspec": {
   "display_name": "Python 3 (ipykernel)",
   "language": "python",
   "name": "python3"
  },
  "language_info": {
   "codemirror_mode": {
    "name": "ipython",
    "version": 3
   },
   "file_extension": ".py",
   "mimetype": "text/x-python",
   "name": "python",
   "nbconvert_exporter": "python",
   "pygments_lexer": "ipython3",
   "version": "3.11.5"
  }
 },
 "nbformat": 4,
 "nbformat_minor": 5
}
