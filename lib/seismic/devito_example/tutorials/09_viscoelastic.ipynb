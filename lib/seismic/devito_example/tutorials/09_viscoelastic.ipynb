{
 "cells": [
  {
   "cell_type": "markdown",
   "metadata": {},
   "source": [
    "# 09 - Viscoelastic wave equation implementation on a staggered grid\n",
    "\n",
    "This is a first attempt at implementing the viscoelastic wave equation as described in [1]. See also the FDELMODC implementation by Jan Thorbecke [2]. \n",
    "\n",
    "In the following example, a three dimensional toy problem will be introduced consisting of a single Ricker source located at (100, 50, 35) in a 200 m $\\times$ 100 m $\\times$ 100 *m* domain."
   ]
  },
  {
   "cell_type": "code",
   "execution_count": 1,
   "metadata": {},
   "source": [
    "# Required imports:\n",
    "import numpy as np\n",
    "import sympy as sp\n",
    "\n",
    "from devito import *\n",
    "from examples.seismic.source import RickerSource, TimeAxis\n",
    "from examples.seismic import ModelViscoelastic, plot_image"
   ],
   "outputs": []
  },
  {
   "cell_type": "markdown",
   "metadata": {},
   "source": [
    "The model domain is now constructed. It consists of an upper layer of water, 50 m in depth, and a lower rock layer separated by a 4 m thick sediment layer."
   ]
  },
  {
   "cell_type": "code",
   "execution_count": 2,
   "metadata": {},
   "source": [
    "# Domain size:\n",
    "extent = (200., 100., 100.) # 200 x 100 x 100 m domain\n",
    "h = 1.0 # Desired grid spacing\n",
    "shape = (int(extent[0]/h+1), int(extent[1]/h+1), int(extent[2]/h+1))\n",
    "\n",
    "# Model physical parameters:\n",
    "vp = np.zeros(shape)\n",
    "qp = np.zeros(shape)\n",
    "vs = np.zeros(shape)\n",
    "qs = np.zeros(shape)\n",
    "rho = np.zeros(shape)\n",
    "\n",
    "# Set up three horizontally separated layers:\n",
    "vp[:,:,:int(0.5*shape[2])+1] = 1.52\n",
    "qp[:,:,:int(0.5*shape[2])+1] = 10000.\n",
    "vs[:,:,:int(0.5*shape[2])+1] = 0.\n",
    "qs[:,:,:int(0.5*shape[2])+1] = 0.\n",
    "rho[:,:,:int(0.5*shape[2])+1] = 1.05\n",
    "\n",
    "vp[:,:,int(0.5*shape[2])+1:int(0.5*shape[2])+1+int(4/h)] = 1.6\n",
    "qp[:,:,int(0.5*shape[2])+1:int(0.5*shape[2])+1+int(4/h)] = 40.\n",
    "vs[:,:,int(0.5*shape[2])+1:int(0.5*shape[2])+1+int(4/h)] = 0.4\n",
    "qs[:,:,int(0.5*shape[2])+1:int(0.5*shape[2])+1+int(4/h)] = 30.\n",
    "rho[:,:,int(0.5*shape[2])+1:int(0.5*shape[2])+1+int(4/h)] = 1.3\n",
    "\n",
    "vp[:,:,int(0.5*shape[2])+1+int(4/h):] = 2.2\n",
    "qp[:,:,int(0.5*shape[2])+1+int(4/h):] = 100.\n",
    "vs[:,:,int(0.5*shape[2])+1+int(4/h):] = 1.2\n",
    "qs[:,:,int(0.5*shape[2])+1+int(4/h):] = 70.\n",
    "rho[:,:,int(0.5*shape[2])+1+int(4/h):] = 2."
   ],
   "outputs": []
  },
  {
   "cell_type": "markdown",
   "metadata": {},
   "source": [
    "Now create a Devito vsicoelastic model generating an appropriate computational grid along with absorbing boundary layers:"
   ]
  },
  {
   "cell_type": "code",
   "execution_count": 3,
   "metadata": {
    "tags": [
     "nbval-ignore-output"
    ]
   },
   "source": [
    "# Create model\n",
    "origin = (0, 0, 0)\n",
    "spacing = (h, h, h)\n",
    "so = 4 # FD space order (Note that the time order is by default 1).\n",
    "nbl = 20 # Number of absorbing boundary layers cells\n",
    "model = ModelViscoelastic(space_order=so, vp=vp, qp=qp, vs=vs, qs=qs,\n",
    "                          b=1/rho, origin=origin, shape=shape, spacing=spacing,\n",
    "                          nbl=nbl)"
   ],
   "outputs": []
  },
  {
   "cell_type": "code",
   "execution_count": 4,
   "metadata": {},
   "source": [
    "# As pointed out in Thorbecke's implementation and documentation, the viscoelastic wave euqation is\n",
    "# not always stable with the standard elastic CFL condition. We enforce a smaller critical dt here\n",
    "# to ensure the stability.\n",
    "model.dt_scale = .9"
   ],
   "outputs": []
  },
  {
   "cell_type": "markdown",
   "metadata": {},
   "source": [
    "The source frequency is now set along with the required model parameters:"
   ]
  },
  {
   "cell_type": "code",
   "execution_count": 5,
   "metadata": {},
   "source": [
    "# Source freq. in MHz (note that the source is defined below):\n",
    "f0 = 0.12\n",
    "\n",
    "# Thorbecke's parameter notation\n",
    "l = model.lam\n",
    "mu = model.mu\n",
    "ro = model.b\n",
    "\n",
    "k = 1.0/(l + 2*mu)\n",
    "pi = l + 2*mu\n",
    "\n",
    "t_s = (sp.sqrt(1.+1./model.qp**2)-1./model.qp)/f0\n",
    "t_ep = 1./(f0**2*t_s)\n",
    "t_es = (1.+f0*model.qs*t_s)/(f0*model.qs-f0**2*t_s)"
   ],
   "outputs": []
  },
  {
   "cell_type": "code",
   "execution_count": 6,
   "metadata": {},
   "source": [
    "# Time step in ms and time range:\n",
    "t0, tn = 0., 30.\n",
    "dt = model.critical_dt\n",
    "time_range = TimeAxis(start=t0, stop=tn, step=dt)"
   ],
   "outputs": []
  },
  {
   "cell_type": "markdown",
   "metadata": {},
   "source": [
    "Generate Devito time functions for the velocity, stress and memory variables appearing in the viscoelastic model equations. By default, the initial data of each field will be set to zero."
   ]
  },
  {
   "cell_type": "code",
   "execution_count": 7,
   "metadata": {},
   "source": [
    "# PDE fn's:\n",
    "x, y, z = model.grid.dimensions\n",
    "damp = model.damp\n",
    "\n",
    "# Staggered grid setup:\n",
    "\n",
    "# Velocity:\n",
    "v = VectorTimeFunction(name=\"v\", grid=model.grid, time_order=1, space_order=so)\n",
    "\n",
    "# Stress:\n",
    "tau = TensorTimeFunction(name='t', grid=model.grid, space_order=so, time_order=1)\n",
    "\n",
    "# Memory variable:\n",
    "r = TensorTimeFunction(name='r', grid=model.grid, space_order=so, time_order=1)\n",
    "\n",
    "s = model.grid.stepping_dim.spacing # Symbolic representation of the model grid spacing"
   ],
   "outputs": []
  },
  {
   "cell_type": "markdown",
   "metadata": {},
   "source": [
    "And now the source and PDE's are constructed:"
   ]
  },
  {
   "cell_type": "code",
   "execution_count": 8,
   "metadata": {},
   "source": [
    "# Source\n",
    "src = RickerSource(name='src', grid=model.grid, f0=f0, time_range=time_range)\n",
    "src.coordinates.data[:] = np.array([100., 50., 35.])\n",
    "\n",
    "# The source injection term\n",
    "src_xx = src.inject(field=tau[0, 0].forward, expr=src*s)\n",
    "src_yy = src.inject(field=tau[1, 1].forward, expr=src*s)\n",
    "src_zz = src.inject(field=tau[2, 2].forward, expr=src*s)\n",
    "\n",
    "# Particle velocity\n",
    "pde_v = v.dt - ro * div(tau)\n",
    "u_v = Eq(v.forward, model.damp * solve(pde_v, v.forward))\n",
    "# Strain\n",
    "e = grad(v.forward) + grad(v.forward).transpose(inner=False)\n",
    "\n",
    "# Stress equations\n",
    "pde_tau = tau.dt - r.forward - l * t_ep / t_s * diag(div(v.forward)) -  mu * t_es / t_s * e\n",
    "u_t = Eq(tau.forward, model.damp * solve(pde_tau, tau.forward))\n",
    "\n",
    "# Memory variable equations:\n",
    "pde_r = r.dt + 1 / t_s * (r + l * (t_ep/t_s-1) * diag(div(v.forward)) + mu * (t_es/t_s-1) * e)\n",
    "u_r = Eq(r.forward, damp * solve(pde_r, r.forward))"
   ],
   "outputs": []
  },
  {
   "cell_type": "markdown",
   "metadata": {},
   "source": [
    "We now create and then run the operator:"
   ]
  },
  {
   "cell_type": "code",
   "execution_count": 9,
   "metadata": {},
   "source": [
    "# Create the operator:\n",
    "op = Operator([u_v, u_r, u_t] + src_xx + src_yy + src_zz,\n",
    "               subs=model.spacing_map)"
   ],
   "outputs": []
  },
  {
   "cell_type": "code",
   "execution_count": 10,
   "metadata": {},
   "source": [
    "#NBVAL_IGNORE_OUTPUT\n",
    "\n",
    "# Execute the operator:\n",
    "op(dt=dt)"
   ],
   "outputs": []
  },
  {
   "cell_type": "markdown",
   "metadata": {},
   "source": [
    "Before plotting some results, let us first look at the shape of the data stored in one of our time functions:"
   ]
  },
  {
   "cell_type": "code",
   "execution_count": 11,
   "metadata": {},
   "source": [
    "v[0].data.shape"
   ],
   "outputs": []
  },
  {
   "cell_type": "markdown",
   "metadata": {},
   "source": [
    "Since our functions are first order in time, the time dimension is of length 2. The spatial extent of the data includes the absorbing boundary layers in each dimension (i.e. each spatial dimension is padded by 20 grid points to the left and to the right).\n",
    "\n",
    "The total number of instances in time considered is obtained from:"
   ]
  },
  {
   "cell_type": "code",
   "execution_count": 12,
   "metadata": {},
   "source": [
    "time_range.num"
   ],
   "outputs": []
  },
  {
   "cell_type": "markdown",
   "metadata": {},
   "source": [
    "Hence 223 time steps were executed. Thus the final time step will be stored in index given by:"
   ]
  },
  {
   "cell_type": "code",
   "execution_count": 13,
   "metadata": {},
   "source": [
    "np.mod(time_range.num,2)"
   ],
   "outputs": []
  },
  {
   "cell_type": "markdown",
   "metadata": {},
   "source": [
    "Now, let us plot some 2D slices of the fields `vx` and `szz` at the final time step:"
   ]
  },
  {
   "cell_type": "code",
   "execution_count": 14,
   "metadata": {},
   "source": [
    "#NBVAL_SKIP\n",
    "\n",
    "# Mid-points:\n",
    "mid_x = int(0.5*(v[0].data.shape[1]-1))+1\n",
    "mid_y = int(0.5*(v[0].data.shape[2]-1))+1\n",
    "\n",
    "# Plot some selected results:\n",
    "\n",
    "plot_image(v[0].data[1, :, mid_y, :], cmap=\"seismic\")\n",
    "plot_image(v[0].data[1, mid_x, :, :], cmap=\"seismic\")\n",
    "\n",
    "plot_image(tau[2, 2].data[1, :, mid_y, :], cmap=\"seismic\")\n",
    "plot_image(tau[2, 2].data[1, mid_x, :, :], cmap=\"seismic\")"
   ],
   "outputs": []
  },
  {
   "cell_type": "code",
   "execution_count": 15,
   "metadata": {},
   "source": [
    "#NBVAL_IGNORE_OUTPUT\n",
    "\n",
    "assert np.isclose(norm(v[0]), 0.102959, atol=1e-4, rtol=0)"
   ],
   "outputs": []
  },
  {
   "cell_type": "markdown",
   "metadata": {},
   "source": [
    "# References\n",
    "\n",
    "[1] Johan O. A. Roberston, *et.al.* (1994). \"Viscoelatic finite-difference modeling\" GEOPHYSICS, 59(9), 1444-1456.\n",
    "\n",
    "\n",
    "[2] https://janth.home.xs4all.nl/Software/fdelmodcManual.pdf"
   ]
  }
 ],
 "metadata": {
  "@webio": {
   "lastCommId": null,
   "lastKernelId": null
  },
  "hide_input": false,
  "kernelspec": {
   "display_name": "Python 3 (ipykernel)",
   "language": "python",
   "name": "python3"
  },
  "language_info": {
   "codemirror_mode": {
    "name": "ipython",
    "version": 3
   },
   "file_extension": ".py",
   "mimetype": "text/x-python",
   "name": "python",
   "nbconvert_exporter": "python",
   "pygments_lexer": "ipython3",
   "version": "3.9.16"
  },
  "latex_envs": {
   "LaTeX_envs_menu_present": true,
   "autoclose": false,
   "autocomplete": true,
   "bibliofile": "biblio.bib",
   "cite_by": "apalike",
   "current_citInitial": 1,
   "eqLabelWithNumbers": true,
   "eqNumInitial": 1,
   "hotkeys": {
    "equation": "Ctrl-E",
    "itemize": "Ctrl-I"
   },
   "labels_anchors": false,
   "latex_user_defs": false,
   "report_style_numbering": false,
   "user_envs_cfg": false
  }
 },
 "nbformat": 4,
 "nbformat_minor": 4
}
