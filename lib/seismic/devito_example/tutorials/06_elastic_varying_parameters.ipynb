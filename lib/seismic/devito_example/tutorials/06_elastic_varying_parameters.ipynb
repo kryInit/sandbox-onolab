{
 "cells": [
  {
   "cell_type": "markdown",
   "metadata": {},
   "source": [
    "# 06 - Elastic wave equation implementation on a staggered grid\n",
    "\n",
    "This second elastic tutorial extends the previous constant parameter implementation to varying parameters (Lame parameters) and takes advantage of the Tensorial capabilities of Devito to write the elastic wave equation following its mathematical definition. The staggering is automated via the TensorFunction API.\n",
    "\n",
    "## Explosive source\n",
    "\n",
    "We will first attempt to replicate the explosive source test case described in [1], Figure 4. We start by defining the source signature $g(t)$, the derivative of a Gaussian pulse, given by Eq 4:\n",
    "\n",
    "$$g(t) = -2 \\alpha(t - t_0)e^{-\\alpha(t-t_0)^2}$$"
   ]
  },
  {
   "cell_type": "code",
   "execution_count": 1,
   "metadata": {},
   "source": [
    "from devito import *\n",
    "from examples.seismic.source import RickerSource, Receiver, TimeAxis\n",
    "from examples.seismic import plot_image, demo_model\n",
    "import numpy as np\n",
    "\n",
    "import matplotlib.pyplot as plt\n",
    "\n",
    "from sympy import init_printing, latex\n",
    "init_printing(use_latex='mathjax')\n",
    "\n",
    "# Some ploting setup\n",
    "plt.rc('text', usetex=True)\n",
    "plt.rc('font', family='serif')\n",
    "plt.rc('xtick', labelsize=20) \n",
    "plt.rc('ytick', labelsize=20)"
   ],
   "outputs": []
  },
  {
   "cell_type": "code",
   "execution_count": 2,
   "metadata": {},
   "source": [
    "#NBVAL_IGNORE_OUTPUT\n",
    "# Initial grid: 3km x 3km, with spacing 10m\n",
    "nlayers = 5\n",
    "so = 8\n",
    "model = demo_model(preset='layers-elastic', nlayers=nlayers, shape=(301, 301), spacing=(10., 10.),\n",
    "                   space_order=so)"
   ],
   "outputs": []
  },
  {
   "cell_type": "code",
   "execution_count": 3,
   "metadata": {},
   "source": [
    "#NBVAL_SKIP\n",
    "aspect_ratio = model.shape[0]/model.shape[1]\n",
    "\n",
    "plt_options_model = {'cmap': 'jet', 'extent': [model.origin[0], model.origin[0] + model.domain_size[0],\n",
    "                                               model.origin[1] + model.domain_size[1], model.origin[1]]}\n",
    "fig, ax = plt.subplots(nrows=3, ncols=1, figsize=(15, 15))\n",
    "\n",
    "slices = [slice(model.nbl, -model.nbl), slice(model.nbl, -model.nbl)]\n",
    "\n",
    "img1 = ax[0].imshow(np.transpose(model.lam.data[slices]), vmin=1.5**2, vmax=4.0**2, **plt_options_model)\n",
    "fig.colorbar(img1, ax=ax[0])\n",
    "ax[0].set_title(r\"First Lam\\'e parameter $\\lambda$\", fontsize=20)\n",
    "ax[0].set_xlabel('X (m)', fontsize=20)\n",
    "ax[0].set_ylabel('Depth (m)', fontsize=20)\n",
    "ax[0].set_aspect('auto')\n",
    "\n",
    "\n",
    "img2 = ax[1].imshow(np.transpose(model.mu.data[slices]), vmin=0, vmax=15, **plt_options_model)\n",
    "fig.colorbar(img2, ax=ax[1])\n",
    "ax[1].set_title(r\"Shear modulus $\\mu$\", fontsize=20)\n",
    "ax[1].set_xlabel('X (m)', fontsize=20)\n",
    "ax[1].set_ylabel('Depth (m)', fontsize=20)\n",
    "ax[1].set_aspect('auto')\n",
    "\n",
    "\n",
    "img3 = ax[2].imshow(1/np.transpose(model.b.data[slices]), vmin=1.0, vmax=3.0, **plt_options_model)\n",
    "fig.colorbar(img3, ax=ax[2])\n",
    "ax[2].set_title(r\"Density $\\rho$\", fontsize=20)\n",
    "ax[2].set_xlabel('X (m)', fontsize=20)\n",
    "ax[2].set_ylabel('Depth (m)', fontsize=20)\n",
    "ax[2].set_aspect('auto')\n",
    "\n",
    "\n",
    "plt.tight_layout()"
   ],
   "outputs": []
  },
  {
   "cell_type": "code",
   "execution_count": 4,
   "metadata": {},
   "source": [
    "# Timestep size from Eq. 7 with V_p=6000. and dx=100\n",
    "t0, tn = 0., 2000.\n",
    "dt = model.critical_dt\n",
    "time_range = TimeAxis(start=t0, stop=tn, step=dt)\n",
    "\n",
    "src = RickerSource(name='src', grid=model.grid, f0=0.015, time_range=time_range)\n",
    "src.coordinates.data[:] = [1500., 10.]"
   ],
   "outputs": []
  },
  {
   "cell_type": "code",
   "execution_count": 5,
   "metadata": {},
   "source": [
    "#NBVAL_SKIP\n",
    "\n",
    "src.show()"
   ],
   "outputs": []
  },
  {
   "cell_type": "markdown",
   "metadata": {},
   "source": [
    "# Vectorial form\n",
    "\n",
    "While conventional litterature writes the elastic wave-equation as a set of scalar PDEs, the higher level representation comes from Hooke's law and the equation of motion and writes as:\n",
    "\n",
    "\\begin{cases}\n",
    "&\\frac{dv}{dt} = \\nabla . \\tau \\\\\n",
    "&\\frac{d \\tau}{dt} = \\lambda tr(\\nabla v) \\mathbf{I}  + \\mu (\\nabla v + (\\nabla v)^T)\n",
    "\\end{cases}\n",
    "\n",
    "and as $tr(\\nabla v)$ is the divergence of $v$ we can reqrite it as\n",
    "\n",
    "\\begin{cases}\n",
    "&\\frac{dv}{dt} = \\nabla . \\tau \\\\\n",
    "&\\frac{d \\tau}{dt} = \\lambda \\text{diag}(\\nabla . v) + \\mu (\\nabla v + (\\nabla v)^T)\n",
    "\\end{cases}\n",
    "\n",
    "where $v$ is a vector valued function:\n",
    "\n",
    "$v(t, x, y) = (v_x(t, x, y), v_y(t, x, y)$\n",
    "\n",
    "and the stress $\\tau$ is a symmetric tensor valued function:\n",
    "\n",
    "\n",
    "$\\tau(t, x, y) = \\begin{bmatrix}\\tau_{xx}(t, x, y) & \\tau_{xy}(t, x, y)\\\\\\tau_{xy}t, x, y) & \\tau_{yy}(t, x, y)\\end{bmatrix}$\n",
    "\n",
    "\n",
    "We show in the following how to setup the elastic wave-equation form Devito's high-level tensorial types."
   ]
  },
  {
   "cell_type": "code",
   "execution_count": 6,
   "metadata": {},
   "source": [
    "# Now we create the velocity and pressure fields\n",
    "\n",
    "x, z = model.grid.dimensions\n",
    "t = model.grid.stepping_dim\n",
    "time = model.grid.time_dim\n",
    "s = time.spacing\n",
    "\n",
    "v = VectorTimeFunction(name='v', grid=model.grid, space_order=so, time_order=1)\n",
    "tau = TensorTimeFunction(name='t', grid=model.grid, space_order=so, time_order=1)"
   ],
   "outputs": []
  },
  {
   "cell_type": "code",
   "execution_count": 7,
   "metadata": {},
   "source": [
    "# The source injection term\n",
    "src_xx = src.inject(field=tau.forward[0, 0], expr=s*src)\n",
    "src_zz = src.inject(field=tau.forward[1, 1], expr=s*src)\n",
    "\n",
    "# The receiver\n",
    "nrec = 301\n",
    "rec = Receiver(name=\"rec\", grid=model.grid, npoint=nrec, time_range=time_range)\n",
    "rec.coordinates.data[:, 0] = np.linspace(0., model.domain_size[0], num=nrec)\n",
    "rec.coordinates.data[:, -1] = 5.\n",
    "\n",
    "rec2 = Receiver(name=\"rec2\", grid=model.grid, npoint=nrec, time_range=time_range)\n",
    "rec2.coordinates.data[:, 0] = np.linspace(0., model.domain_size[0], num=nrec)\n",
    "rec2.coordinates.data[:, -1] = 3000.0/nlayers\n",
    "\n",
    "rec3 = Receiver(name=\"rec3\", grid=model.grid, npoint=nrec, time_range=time_range)\n",
    "rec3.coordinates.data[:, 0] = np.linspace(0., model.domain_size[0], num=nrec)\n",
    "rec3.coordinates.data[:, -1] = 3000.0/nlayers\n",
    "\n",
    "rec_term = rec.interpolate(expr=tau[0, 0] + tau[1, 1])\n",
    "rec_term += rec2.interpolate(expr=v[1])\n",
    "rec_term += rec3.interpolate(expr=v[0])"
   ],
   "outputs": []
  },
  {
   "cell_type": "code",
   "execution_count": 8,
   "metadata": {},
   "source": [
    "#NBVAL_SKIP\n",
    "from examples.seismic import plot_velocity\n",
    "plot_velocity(model, source=src.coordinates.data,\n",
    "              receiver=rec.coordinates.data[::10, :])\n",
    "plot_velocity(model, source=src.coordinates.data,\n",
    "              receiver=rec2.coordinates.data[::10, :])"
   ],
   "outputs": []
  },
  {
   "cell_type": "code",
   "execution_count": 9,
   "metadata": {},
   "source": [
    "# Now let's try and create the staggered updates\n",
    "# Lame parameters\n",
    "l, mu, ro = model.lam, model.mu, model.b\n",
    "\n",
    "# First order elastic wave equation\n",
    "pde_v = v.dt - ro * div(tau)\n",
    "pde_tau = tau.dt - l * diag(div(v.forward)) - mu * (grad(v.forward) + grad(v.forward).transpose(inner=False))\n",
    "# Time update\n",
    "u_v = Eq(v.forward, model.damp * solve(pde_v, v.forward))\n",
    "u_t = Eq(tau.forward,  model.damp * solve(pde_tau, tau.forward))\n",
    "\n",
    "op = Operator([u_v] + [u_t] + src_xx + src_zz + rec_term)"
   ],
   "outputs": []
  },
  {
   "cell_type": "code",
   "execution_count": 10,
   "metadata": {},
   "source": [
    "v.time_order"
   ],
   "outputs": []
  },
  {
   "cell_type": "code",
   "execution_count": 11,
   "metadata": {},
   "source": [
    "ro._eval_at(v[0]).evaluate"
   ],
   "outputs": []
  },
  {
   "cell_type": "markdown",
   "metadata": {},
   "source": [
    "We can now see that both the particle velocities and stress equations are vectorial and tensorial equations. Devito takes care of the discretization and staggered grids automatically for these types of object."
   ]
  },
  {
   "cell_type": "code",
   "execution_count": 12,
   "metadata": {},
   "source": [
    "u_v"
   ],
   "outputs": []
  },
  {
   "cell_type": "code",
   "execution_count": 13,
   "metadata": {},
   "source": [
    "u_t"
   ],
   "outputs": []
  },
  {
   "cell_type": "code",
   "execution_count": 14,
   "metadata": {},
   "source": [
    "#NBVAL_IGNORE_OUTPUT\n",
    "# Partial ru for 1.2sec to plot the wavefield\n",
    "op(dt=model.critical_dt, time_M=int(1000/model.critical_dt))"
   ],
   "outputs": []
  },
  {
   "cell_type": "code",
   "execution_count": 15,
   "metadata": {},
   "source": [
    "#NBVAL_SKIP\n",
    "scale = .5*1e-3\n",
    "\n",
    "plt_options_model = {'extent': [model.origin[0] , model.origin[0] + model.domain_size[0],\n",
    "                                model.origin[1] + model.domain_size[1], model.origin[1]]}\n",
    "\n",
    "\n",
    "fig, ax = plt.subplots(nrows=2, ncols=2, figsize=(15, 15))\n",
    "\n",
    "ax[0, 0].imshow(np.transpose(v[0].data[0][slices]), vmin=-scale, vmax=scale, cmap=\"RdGy\", **plt_options_model)\n",
    "ax[0, 0].imshow(np.transpose(model.lam.data[slices]), vmin=2.5, vmax=15.0, cmap=\"jet\", alpha=.5, **plt_options_model)\n",
    "ax[0, 0].set_aspect('auto')\n",
    "ax[0, 0].set_xlabel('X (m)', fontsize=20)\n",
    "ax[0, 0].set_ylabel('Depth (m)', fontsize=20)\n",
    "ax[0, 0].set_title(r\"$v_{x}$\", fontsize=20)\n",
    "\n",
    "ax[0, 1].imshow(np.transpose(v[1].data[0][slices]), vmin=-scale, vmax=scale, cmap=\"RdGy\", **plt_options_model)\n",
    "ax[0, 1].imshow(np.transpose(model.lam.data[slices]), vmin=2.5, vmax=15.0, cmap=\"jet\", alpha=.5, **plt_options_model)\n",
    "ax[0, 1].set_aspect('auto')\n",
    "ax[0, 1].set_title(r\"$v_{z}$\", fontsize=20)\n",
    "ax[0, 1].set_xlabel('X (m)', fontsize=20)\n",
    "ax[0, 1].set_ylabel('Depth (m)', fontsize=20)\n",
    "\n",
    "ax[1, 0].imshow(np.transpose(tau[0,0].data[0][slices]+tau[1,1].data[0][slices]),\n",
    "             vmin=-10*scale, vmax=10*scale, cmap=\"RdGy\", **plt_options_model)\n",
    "ax[1, 0].imshow(np.transpose(model.lam.data[slices]), vmin=2.5, vmax=15.0, cmap=\"jet\",\n",
    "               alpha=.5, **plt_options_model)\n",
    "ax[1, 0].set_aspect('auto')\n",
    "ax[1, 0].set_title(r\"$\\tau_{xx} + \\tau_{zz}$\", fontsize=20)\n",
    "ax[1, 0].set_xlabel('X (m)', fontsize=20)\n",
    "ax[1, 0].set_ylabel('Depth (m)', fontsize=20)\n",
    "\n",
    "\n",
    "ax[1, 1].imshow(np.transpose(tau[0,1].data[0][slices]), vmin=-scale, vmax=scale, cmap=\"RdGy\", **plt_options_model)\n",
    "ax[1, 1].imshow(np.transpose(model.lam.data[slices]), vmin=2.5, vmax=15.0, cmap=\"jet\", alpha=.5, **plt_options_model)\n",
    "ax[1, 1].set_aspect('auto')\n",
    "ax[1, 1].set_title(r\"$\\tau_{xy}$\", fontsize=20)\n",
    "ax[1, 1].set_xlabel('X (m)', fontsize=20)\n",
    "ax[1, 1].set_ylabel('Depth (m)', fontsize=20)\n",
    "\n",
    "\n",
    "plt.tight_layout()"
   ],
   "outputs": []
  },
  {
   "cell_type": "code",
   "execution_count": 16,
   "metadata": {},
   "source": [
    "model._physical_parameters"
   ],
   "outputs": []
  },
  {
   "cell_type": "code",
   "execution_count": 17,
   "metadata": {},
   "source": [
    "#NBVAL_IGNORE_OUTPUT\n",
    "# Full run for the data\n",
    "op(dt=model.critical_dt, time_m=int(1000/model.critical_dt))"
   ],
   "outputs": []
  },
  {
   "cell_type": "code",
   "execution_count": 18,
   "metadata": {},
   "source": [
    "# Data on a standard 2ms tim axis\n",
    "rec_plot = rec.resample(num=1001)\n",
    "rec2_plot = rec2.resample(num=1001)\n",
    "rec3_plot = rec3.resample(num=1001)"
   ],
   "outputs": []
  },
  {
   "cell_type": "code",
   "execution_count": 19,
   "metadata": {},
   "source": [
    "scale_for_plot = np.diag(np.linspace(1.0, 2.5, 1001)**2.0)"
   ],
   "outputs": []
  },
  {
   "cell_type": "code",
   "execution_count": 20,
   "metadata": {},
   "source": [
    "#NBVAL_SKIP\n",
    "# Pressure (txx + tzz) data at sea surface\n",
    "extent = [rec_plot.coordinates.data[0, 0], rec_plot.coordinates.data[-1, 0], 1e-3*tn, t0]\n",
    "aspect = rec_plot.coordinates.data[-1, 0]/(1e-3*tn)/.5\n",
    "\n",
    "plt.figure(figsize=(15, 15))\n",
    "plt.imshow(np.dot(scale_for_plot, rec_plot.data), vmin=-.01, vmax=.01, cmap=\"seismic\",\n",
    "           interpolation='lanczos', extent=extent, aspect=aspect)\n",
    "plt.ylabel(\"Time (s)\", fontsize=20)\n",
    "plt.xlabel(\"Receiver position (m)\", fontsize=20)\n"
   ],
   "outputs": []
  },
  {
   "cell_type": "code",
   "execution_count": 21,
   "metadata": {},
   "source": [
    "#NBVAL_SKIP\n",
    "# OBC data of vx/vz\n",
    "plt.figure(figsize=(15, 15))\n",
    "plt.subplot(121)\n",
    "plt.imshow(rec2_plot.data, vmin=-1e-3, vmax=1e-3, cmap=\"seismic\",\n",
    "           interpolation='lanczos', extent=extent, aspect=aspect)\n",
    "plt.ylabel(\"Time (s)\", fontsize=20)\n",
    "plt.xlabel(\"Receiver position (m)\", fontsize=20)\n",
    "plt.subplot(122)\n",
    "plt.imshow(rec3_plot.data, vmin=-1e-3, vmax=1e-3, cmap=\"seismic\",\n",
    "           interpolation='lanczos', extent=extent, aspect=aspect)\n",
    "plt.ylabel(\"Time (s)\", fontsize=20)\n",
    "plt.xlabel(\"Receiver position (m)\", fontsize=20)"
   ],
   "outputs": []
  },
  {
   "cell_type": "code",
   "execution_count": 22,
   "metadata": {},
   "source": [
    "assert np.isclose(norm(rec), 22.68, atol=0, rtol=1e-3)\n",
    "assert np.isclose(norm(rec2), 1.8299, atol=0, rtol=1e-3)\n",
    "assert np.isclose(norm(rec3), 3.8671, atol=0, rtol=1e-3)"
   ],
   "outputs": []
  },
  {
   "cell_type": "markdown",
   "metadata": {},
   "source": [
    "# Second order in time\n",
    "\n",
    "Now that looks pretty! But let's do it again with a 2nd order in time"
   ]
  },
  {
   "cell_type": "code",
   "execution_count": 23,
   "metadata": {},
   "source": [
    "so = 8\n",
    "v2 = VectorTimeFunction(name='v2', grid=model.grid, space_order=so, time_order=2)\n",
    "tau0 = TensorFunction(name='t0', grid=model.grid, space_order=so)\n",
    "# The source injection term\n",
    "src_xx = src.inject(field=tau0[0, 0], expr=src.dt)\n",
    "src_zz = src.inject(field=tau0[1, 1], expr=src.dt)\n",
    "\n",
    "s = model.grid.time_dim.spacing\n",
    "\n",
    "# Second order elastic wave equation\n",
    "pde_v2 = v2.dt2 - ro * div(tau0) + (1 - model.damp) * v2.dt\n",
    "\n",
    "# Time update\n",
    "u_v = Eq(v2.forward, solve(pde_v2, v2.forward))\n",
    "# The stress equation isn't time dependent so we don't need solve.\n",
    "u_t = Eq(tau0, model.damp * (l * diag(div(v2.forward)) + mu * (grad(v2.forward) + grad(v2.forward).transpose(inner=False))))\n",
    "\n",
    "rec_term2 = rec2.interpolate(expr=v2[0])\n",
    "rec_term2 += rec3.interpolate(expr=v2[1])\n",
    "op = Operator([u_v] + [u_t] + src_xx + src_zz + rec_term2)\n"
   ],
   "outputs": []
  },
  {
   "cell_type": "code",
   "execution_count": 24,
   "metadata": {},
   "source": [
    "#NBVAL_IGNORE_OUTPUT\n",
    "# Partial ru for 1.2sec to plot the wavefield\n",
    "op(dt=model.critical_dt, time_M=int(1000/model.critical_dt))"
   ],
   "outputs": []
  },
  {
   "cell_type": "code",
   "execution_count": 25,
   "metadata": {},
   "source": [
    "#NBVAL_SKIP\n",
    "scale = 1e-4\n",
    "\n",
    "plt_options_model = {'extent': [model.origin[0] , model.origin[0] + model.domain_size[0],\n",
    "                                model.origin[1] + model.domain_size[1], model.origin[1]]}\n",
    "\n",
    "\n",
    "fig, ax = plt.subplots(nrows=2, ncols=2, figsize=(15, 15))\n",
    "\n",
    "ax[0, 0].imshow(np.transpose(v2[0].data[0][slices]), vmin=-scale, vmax=scale, cmap=\"RdGy\", **plt_options_model)\n",
    "ax[0, 0].imshow(np.transpose(model.lam.data[slices]), vmin=2.5, vmax=15.0, cmap=\"jet\", alpha=.5, **plt_options_model)\n",
    "ax[0, 0].set_aspect('auto')\n",
    "ax[0, 0].set_xlabel('X (m)', fontsize=20)\n",
    "ax[0, 0].set_ylabel('Depth (m)', fontsize=20)\n",
    "ax[0, 0].set_title(r\"$v_{x}$\", fontsize=20)\n",
    "\n",
    "ax[0, 1].imshow(np.transpose(v2[1].data[0][slices]), vmin=-scale, vmax=scale, cmap=\"RdGy\", **plt_options_model)\n",
    "ax[0, 1].imshow(np.transpose(model.lam.data[slices]), vmin=2.5, vmax=15.0, cmap=\"jet\", alpha=.5, **plt_options_model)\n",
    "ax[0, 1].set_aspect('auto')\n",
    "ax[0, 1].set_title(r\"$v_{z}$\", fontsize=20)\n",
    "ax[0, 1].set_xlabel('X (m)', fontsize=20)\n",
    "ax[0, 1].set_ylabel('Depth (m)', fontsize=20)\n",
    "\n",
    "ax[1, 0].imshow(np.transpose(tau0[0,0].data[slices]+tau0[1,1].data[slices]),\n",
    "             vmin=-10*scale, vmax=10*scale, cmap=\"RdGy\", **plt_options_model)\n",
    "ax[1, 0].imshow(np.transpose(model.lam.data[slices]), vmin=2.5, vmax=15.0, cmap=\"jet\",\n",
    "               alpha=.5, **plt_options_model)\n",
    "ax[1, 0].set_aspect('auto')\n",
    "ax[1, 0].set_title(r\"$\\tau_{xx} + \\tau_{zz}$\", fontsize=20)\n",
    "ax[1, 0].set_xlabel('X (m)', fontsize=20)\n",
    "ax[1, 0].set_ylabel('Depth (m)', fontsize=20)\n",
    "\n",
    "\n",
    "ax[1, 1].imshow(np.transpose(tau0[0,1].data[slices]), vmin=-scale, vmax=scale, cmap=\"RdGy\", **plt_options_model)\n",
    "ax[1, 1].imshow(np.transpose(model.lam.data[slices]), vmin=2.5, vmax=15.0, cmap=\"jet\", alpha=.5, **plt_options_model)\n",
    "ax[1, 1].set_aspect('auto')\n",
    "ax[1, 1].set_title(r\"$\\tau_{xy}$\", fontsize=20)\n",
    "ax[1, 1].set_xlabel('X (m)', fontsize=20)\n",
    "ax[1, 1].set_ylabel('Depth (m)', fontsize=20)\n",
    "\n",
    "\n",
    "plt.tight_layout()"
   ],
   "outputs": []
  },
  {
   "cell_type": "code",
   "execution_count": 26,
   "metadata": {},
   "source": [
    "#NBVAL_IGNORE_OUTPUT\n",
    "op(dt=model.critical_dt, time_m=int(1000/model.critical_dt))"
   ],
   "outputs": []
  },
  {
   "cell_type": "code",
   "execution_count": 27,
   "metadata": {},
   "source": [
    "rec2_plot2 = rec2.resample(num=1001)\n",
    "rec3_plot2 = rec3.resample(num=1001)"
   ],
   "outputs": []
  },
  {
   "cell_type": "code",
   "execution_count": 28,
   "metadata": {},
   "source": [
    "#NBVAL_SKIP\n",
    "# OBC data of vx/vz\n",
    "plt.figure(figsize=(15, 15))\n",
    "plt.subplot(121)\n",
    "plt.imshow(rec2_plot2.data, vmin=-1e-3, vmax=1e-3, cmap=\"seismic\",\n",
    "           interpolation='lanczos', extent=extent, aspect=aspect)\n",
    "plt.ylabel(\"Time (s)\", fontsize=20)\n",
    "plt.xlabel(\"Receiver position (m)\", fontsize=20)\n",
    "plt.subplot(122)\n",
    "plt.imshow(rec3_plot2.data, vmin=-1e-3, vmax=1e-3, cmap=\"seismic\",\n",
    "           interpolation='lanczos', extent=extent, aspect=aspect)\n",
    "plt.ylabel(\"Time (s)\", fontsize=20)\n",
    "plt.xlabel(\"Receiver position (m)\", fontsize=20)"
   ],
   "outputs": []
  },
  {
   "cell_type": "code",
   "execution_count": 29,
   "metadata": {},
   "source": [
    "assert np.isclose(norm(rec2), .407183, atol=0, rtol=1e-3)\n",
    "assert np.isclose(norm(rec3), .209852, atol=0, rtol=1e-3)"
   ],
   "outputs": []
  },
  {
   "cell_type": "markdown",
   "metadata": {},
   "source": [
    "# Rotated staggered grid\n",
    "\n",
    "Now let's use the rotated staggered grid to avoid dispersion and instabilities. This method is usually used for TTI elastic modeling but we show it here for a simplified isotropic case"
   ]
  },
  {
   "cell_type": "markdown",
   "metadata": {},
   "source": [
    "## Simple example of RSFD\n",
    "\n",
    "We first show the stencil generated by the RSFD method compared to the standard staggered grid method"
   ]
  },
  {
   "cell_type": "code",
   "execution_count": 30,
   "metadata": {},
   "source": [
    "x = model.grid.dimensions[0]\n",
    "f = Function(name='f', grid=model.grid, space_order=2, staggered=NODE)\n",
    "dfdx, dfdxrsfd = f.dx, f.dx45"
   ],
   "outputs": []
  },
  {
   "cell_type": "code",
   "execution_count": 31,
   "metadata": {},
   "source": [
    "dfdx.evaluate"
   ],
   "outputs": []
  },
  {
   "cell_type": "code",
   "execution_count": 32,
   "metadata": {},
   "source": [
    "dfdxrsfd.evaluate"
   ],
   "outputs": []
  },
  {
   "cell_type": "markdown",
   "metadata": {},
   "source": [
    "## Elastic modeling"
   ]
  },
  {
   "cell_type": "code",
   "execution_count": 33,
   "metadata": {},
   "source": [
    "from devito import div45, grad45\n",
    "\n",
    "all_node = [[NODE for _ in range(model.grid.dim)] for _ in range(model.grid.dim)]\n",
    "all_vert = [model.grid.dimensions for _ in range(model.grid.dim)] \n",
    "\n",
    "so = 8\n",
    "v_rsfd = VectorTimeFunction(name='vr', grid=model.grid, space_order=so, time_order=1, staggered=all_vert)\n",
    "tau_rsfd = TensorTimeFunction(name='tr', grid=model.grid, space_order=so, time_order=1, staggered=all_node)\n",
    "\n",
    "# The source injection term\n",
    "src_xx = src.inject(field=v_rsfd.forward.diagonal(), expr=s*src)\n",
    "\n",
    "# First order elastic wave equation\n",
    "pde_v = v_rsfd.dt - ro * div45(tau_rsfd)\n",
    "pde_tau = tau_rsfd.dt - l * diag(div45(v_rsfd.forward)) - mu * (grad45(v_rsfd.forward) + grad45(v_rsfd.forward).transpose(inner=False))\n",
    "# Time update\n",
    "u_v = Eq(v_rsfd.forward, model.damp * solve(pde_v, v_rsfd.forward))\n",
    "u_t = Eq(tau_rsfd.forward,  model.damp * solve(pde_tau, tau_rsfd.forward))\n",
    "\n",
    "# Receiver\n",
    "rec_term = rec.interpolate(expr=tau_rsfd[0, 0] + tau_rsfd[1, 1])\n",
    "rec_term += rec2.interpolate(expr=v_rsfd[1])\n",
    "rec_term += rec3.interpolate(expr=v_rsfd[0])\n",
    "\n",
    "op = Operator([u_v] + [u_t] + src_xx + rec_term)"
   ],
   "outputs": []
  },
  {
   "cell_type": "code",
   "execution_count": 34,
   "metadata": {},
   "source": [
    "#NBVAL_IGNORE_OUTPUT\n",
    "op(dt=model.critical_dt)"
   ],
   "outputs": []
  },
  {
   "cell_type": "code",
   "execution_count": 35,
   "metadata": {},
   "source": [
    "rec_plot2 = rec.resample(num=1001)\n",
    "rec2_plot2 = rec2.resample(num=1001)\n",
    "rec3_plot2 = rec3.resample(num=1001)"
   ],
   "outputs": []
  },
  {
   "cell_type": "code",
   "execution_count": 36,
   "metadata": {},
   "source": [
    "#NBVAL_SKIP\n",
    "# Pressure (txx + tzz) data at sea surface\n",
    "extent = [rec_plot.coordinates.data[0, 0], rec_plot.coordinates.data[-1, 0], 1e-3*tn, t0]\n",
    "aspect = rec_plot.coordinates.data[-1, 0]/(1e-3*tn)/.5\n",
    "\n",
    "plt.figure(figsize=(15, 15))\n",
    "plt.imshow(np.dot(scale_for_plot, rec_plot.data), vmin=-.01, vmax=.01, cmap=\"seismic\",\n",
    "           interpolation='lanczos', extent=extent, aspect=aspect)\n",
    "plt.ylabel(\"Time (s)\", fontsize=20)\n",
    "plt.xlabel(\"Receiver position (m)\", fontsize=20)"
   ],
   "outputs": []
  },
  {
   "cell_type": "code",
   "execution_count": 37,
   "metadata": {},
   "source": [
    "#NBVAL_SKIP\n",
    "# OBC data of vx/vz\n",
    "plt.figure(figsize=(15, 15))\n",
    "plt.subplot(121)\n",
    "plt.imshow(rec2_plot.data, vmin=-1e-3, vmax=1e-3, cmap=\"seismic\",\n",
    "           interpolation='lanczos', extent=extent, aspect=aspect)\n",
    "plt.ylabel(\"Time (s)\", fontsize=20)\n",
    "plt.xlabel(\"Receiver position (m)\", fontsize=20)\n",
    "plt.subplot(122)\n",
    "plt.imshow(rec3_plot.data, vmin=-1e-3, vmax=1e-3, cmap=\"seismic\",\n",
    "           interpolation='lanczos', extent=extent, aspect=aspect)\n",
    "plt.ylabel(\"Time (s)\", fontsize=20)\n",
    "plt.xlabel(\"Receiver position (m)\", fontsize=20)"
   ],
   "outputs": []
  },
  {
   "cell_type": "code",
   "execution_count": 38,
   "metadata": {},
   "source": [
    "assert np.isclose(norm(rec), 29.83, atol=0, rtol=1e-3)\n",
    "assert np.isclose(norm(rec2), 3.4437, atol=0, rtol=1e-3)\n",
    "assert np.isclose(norm(rec3), 4.5632, atol=0, rtol=1e-3)"
   ],
   "outputs": []
  }
 ],
 "metadata": {
  "@webio": {
   "lastCommId": null,
   "lastKernelId": null
  },
  "hide_input": false,
  "kernelspec": {
   "display_name": "Python 3 (ipykernel)",
   "language": "python",
   "name": "python3"
  },
  "language_info": {
   "codemirror_mode": {
    "name": "ipython",
    "version": 3
   },
   "file_extension": ".py",
   "mimetype": "text/x-python",
   "name": "python",
   "nbconvert_exporter": "python",
   "pygments_lexer": "ipython3",
   "version": "3.12.3"
  },
  "latex_envs": {
   "LaTeX_envs_menu_present": true,
   "autoclose": false,
   "autocomplete": true,
   "bibliofile": "biblio.bib",
   "cite_by": "apalike",
   "current_citInitial": 1,
   "eqLabelWithNumbers": true,
   "eqNumInitial": 1,
   "hotkeys": {
    "equation": "Ctrl-E",
    "itemize": "Ctrl-I"
   },
   "labels_anchors": false,
   "latex_user_defs": false,
   "report_style_numbering": false,
   "user_envs_cfg": false
  },
  "widgets": {
   "state": {},
   "version": "1.1.2"
  }
 },
 "nbformat": 4,
 "nbformat_minor": 4
}
