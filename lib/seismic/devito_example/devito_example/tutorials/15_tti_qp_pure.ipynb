{
 "cells": [
  {
   "cell_type": "markdown",
   "id": "3208de8a",
   "metadata": {},
   "source": [
    "# 15 - TTI pure qP-wave equation implementation"
   ]
  },
  {
   "cell_type": "markdown",
   "id": "672c4e16",
   "metadata": {},
   "source": [
    "The aim of this notebook is to show how to solve the pure qP-wave equation using the finite-difference (FD) scheme. The 2D TTI pure qP-wave equation can be written as ([Mu et al., 2020](https://library.seg.org/doi/10.1190/geo2019-0320.1))\n",
    "\n",
    "$$\n",
    "\\begin{align}\n",
    "\\frac{1}{v_{p}^{2}}\\frac{\\partial^{2}p(\\textbf{x},t)}{\\partial t^{2}} = & \\,\\, (1+2\\delta\\sin^{2}\\theta\\cos^{2}\\theta + 2\\epsilon\\cos^{4}\\theta)\\frac{\\partial^{4}q(\\textbf{x},t)}{\\partial x^{4}} \\nonumber \\\\\n",
    "& + (1+2\\delta\\sin^{2}\\theta\\cos^{2}\\theta + 2\\epsilon\\sin^{4}\\theta)\\frac{\\partial^{4}q(\\textbf{x},t)}{\\partial z^{4}} \\nonumber \\\\\n",
    "&  + (2 - \\delta\\sin^{2}2\\theta+3\\epsilon\\sin^{2}2\\theta+2\\delta\\cos^{2}\\theta)\\frac{\\partial^{4}q(\\textbf{x},t)}{\\partial x^{2}\\partial z^{2}} \\nonumber \\\\\n",
    "& +(\\delta\\sin4\\theta-4\\epsilon\\sin2\\theta\\cos^{2}\\theta)\\frac{\\partial^4 q(\\textbf{x},t)}{\\partial x^{3}\\partial z} \\nonumber \\\\\n",
    "& +(-\\delta\\sin4\\theta-4\\epsilon\\sin2\\theta\\cos^{2}\\theta)\\frac{\\partial^4 q(\\textbf{x},t)}{\\partial x\\partial z^{3}} \\nonumber \\\\\n",
    "& + f(\\textbf{x}_{s},t), \\nonumber \\\\\n",
    "\\frac{\\partial^{2}q(\\textbf{x},t)}{\\partial x^{2}} + \\frac{\\partial^{2}q(\\textbf{x},t)}{\\partial z^{2}} = & p(\\textbf{x},t), \\nonumber\n",
    "\\end{align}\n",
    "$$\n",
    "\n",
    "where $q(\\textbf{x},t)$ is an auxiliary wavefield, which is introduced for implementing the FD scheme."
   ]
  },
  {
   "cell_type": "markdown",
   "id": "a2219242",
   "metadata": {},
   "source": [
    "First of all, it is necessary to import some Devito modules and other packages that will be used in the implementation."
   ]
  },
  {
   "cell_type": "code",
   "execution_count": 1,
   "id": "d81ef0be",
   "metadata": {},
   "source": [
    "import numpy as np\n",
    "from devito import (Function, TimeFunction, cos, sin, solve,\n",
    "                    Eq, Operator, configuration, norm)\n",
    "from examples.seismic import TimeAxis, RickerSource, Receiver, demo_model\n",
    "from matplotlib import pyplot as plt"
   ],
   "outputs": []
  },
  {
   "cell_type": "markdown",
   "id": "917216d5",
   "metadata": {},
   "source": [
    "We will start with the definitions of the grid and the physical parameters $v_{p}, \\theta, \\epsilon, \\delta$. For simplicity, we won't use any absorbing boundary conditions to avoid reflections of outgoing waves at the boundaries of the computational domain, but we will have boundary conditions (zero Dirichlet) at $x=0,nx$ and $z=0,nz$ for the solution of the Poisson equation. We use a homogeneous model. The model is discretized with a grid of $101 \\times 101$ and spacing of 10 m. The $v_{p}, \\epsilon, \\delta$ and $\\theta$ parameters of this model are 3600 m∕s, 0.23, 0.17, and 45°, respectively. "
   ]
  },
  {
   "cell_type": "code",
   "execution_count": 2,
   "id": "4f545ff1",
   "metadata": {},
   "source": [
    "# NBVAL_IGNORE_OUTPUT   \n",
    "\n",
    "shape   = (101,101) # 101x101 grid\n",
    "spacing = (10.,10.) # spacing of 10 meters\n",
    "origin  = (0.,0.)  \n",
    "nbl = 0  # number of pad points\n",
    "\n",
    "model = demo_model('layers-tti', spacing=spacing, space_order=8,\n",
    "                   shape=shape, nbl=nbl, nlayers=1)\n",
    "\n",
    "# initialize Thomsem parameters to those used in Mu et al., (2020)\n",
    "model.update('vp', np.ones(shape)*3.6) # km/s\n",
    "model.update('epsilon', np.ones(shape)*0.23)\n",
    "model.update('delta', np.ones(shape)*0.17)\n",
    "model.update('theta', np.ones(shape)*(45.*(np.pi/180.))) # radians"
   ],
   "outputs": []
  },
  {
   "cell_type": "markdown",
   "id": "84e33564",
   "metadata": {},
   "source": [
    "In cell below, symbols used in the PDE definition are obtained from the `model` object. Note that trigonometric functions proper of Devito are exploited."
   ]
  },
  {
   "cell_type": "code",
   "execution_count": 3,
   "id": "5609da9c",
   "metadata": {},
   "source": [
    "# Get symbols from model\n",
    "theta = model.theta\n",
    "delta = model.delta\n",
    "epsilon = model.epsilon\n",
    "m = model.m\n",
    "\n",
    "# Use trigonometric functions from Devito\n",
    "costheta  = cos(theta)\n",
    "sintheta  = sin(theta)\n",
    "cos2theta = cos(2*theta)\n",
    "sin2theta = sin(2*theta)\n",
    "sin4theta = sin(4*theta)"
   ],
   "outputs": []
  },
  {
   "cell_type": "markdown",
   "id": "5c005d37",
   "metadata": {},
   "source": [
    "Accordingly to [Mu et al., (2020)](https://library.seg.org/doi/10.1190/geo2019-0320.1), the time sampling can be chosen as \n",
    "$$\n",
    "\\Delta t < \\frac{\\Delta d}{\\pi \\cdot (v_{p})_{max}}\\sqrt{\\dfrac{1}{(1+\\eta_{max}|\\cos\\theta-\\sin\\theta|_{max}^{2})}}\n",
    "$$,\n",
    "\n",
    "where $\\eta_{max}$ denotes the maximum value between $|\\epsilon|_{max}$ and $|\\delta|_{max}$, $|cos\\theta-sin\\theta|_{max}$ is the maximum value of $|cos\\theta-sin\\theta|$."
   ]
  },
  {
   "cell_type": "code",
   "execution_count": 4,
   "id": "550ae9b8",
   "metadata": {},
   "source": [
    "# NBVAL_IGNORE_OUTPUT\n",
    "\n",
    "# Values used to compute the time sampling\n",
    "epsilonmax = np.max(np.abs(epsilon.data[:]))\n",
    "deltamax = np.max(np.abs(delta.data[:]))\n",
    "etamax = max(epsilonmax, deltamax)\n",
    "vmax = model._max_vp\n",
    "max_cos_sin = np.amax(np.abs(np.cos(theta.data[:]) - np.sin(theta.data[:])))\n",
    "dvalue = min(spacing)"
   ],
   "outputs": []
  },
  {
   "cell_type": "markdown",
   "id": "4b54c0b0",
   "metadata": {},
   "source": [
    "The next step is to define the simulation time. It has to be small enough to avoid reflections from borders. Note we will use the `dt` computed below rather than the one provided by the property() function `critical_dt` in the `SeismicModel` class, as the latter only works for the coupled pseudoacoustic equation."
   ]
  },
  {
   "cell_type": "code",
   "execution_count": 5,
   "id": "d25d4e93",
   "metadata": {},
   "source": [
    "# Compute the dt and set time range\n",
    "t0 = 0.   #  Simulation time start\n",
    "tn = 150. #  Simulation time end (0.15 second = 150 msec)\n",
    "dt = (dvalue/(np.pi*vmax))*np.sqrt(1/(1+etamax*(max_cos_sin)**2)) # eq. above (cell 3)\n",
    "time_range = TimeAxis(start=t0,stop=tn,step=dt)\n",
    "print(\"time_range; \", time_range)"
   ],
   "outputs": []
  },
  {
   "cell_type": "markdown",
   "id": "ea4df594",
   "metadata": {},
   "source": [
    "In exactly the same form as in the [Cavity flow with Navier-Stokes]() tutorial, we will use two operators, one for solving the Poisson equation in pseudotime and one for advancing in time. But unlike what was done in such tutorial, in this case, we write the FD solution of the poisson equation in a manually way, without using the `laplace` shortcut and `solve` functionality (just to break up the routine and try to vary). The internal time loop can be controlled by supplying the number of pseudotime steps (`niter_poisson` iterations) as a `time` argument to the operator. A Ricker wavelet source with peak frequency of 20 Hz is located at center of the model."
   ]
  },
  {
   "cell_type": "code",
   "execution_count": 6,
   "id": "72831343",
   "metadata": {},
   "source": [
    "# NBVAL_IGNORE_OUTPUT\n",
    "\n",
    "# time stepping \n",
    "p = TimeFunction(name=\"p\", grid=model.grid, time_order=2, space_order=2)\n",
    "q = Function(name=\"q\", grid=model.grid, space_order=8)\n",
    "\n",
    "# Main equations\n",
    "term1_p = (1 + 2*delta*(sintheta**2)*(costheta**2) + 2*epsilon*costheta**4)*q.dx4\n",
    "term2_p = (1 + 2*delta*(sintheta**2)*(costheta**2) + 2*epsilon*sintheta**4)*q.dy4\n",
    "term3_p = (2-delta*(sin2theta)**2 + 3*epsilon*(sin2theta)**2 + 2*delta*(cos2theta)**2)*((q.dy2).dx2)\n",
    "term4_p = ( delta*sin4theta - 4*epsilon*sin2theta*costheta**2)*((q.dy).dx3)\n",
    "term5_p = (-delta*sin4theta - 4*epsilon*sin2theta*sintheta**2)*((q.dy3).dx)\n",
    "\n",
    "stencil_p = solve(m*p.dt2 - (term1_p + term2_p + term3_p + term4_p + term5_p), p.forward)\n",
    "update_p = Eq(p.forward, stencil_p)\n",
    "\n",
    "# Poisson eq. (following notebook 6 from CFD examples)\n",
    "b = Function(name='b', grid=model.grid, space_order=2)\n",
    "pp = TimeFunction(name='pp', grid=model.grid, space_order=2)\n",
    "\n",
    "# Create stencil and boundary condition expressions\n",
    "x, z = model.grid.dimensions\n",
    "t = model.grid.stepping_dim\n",
    "\n",
    "update_q = Eq( pp[t+1,x,z],((pp[t,x+1,z] + pp[t,x-1,z])*z.spacing**2 + (pp[t,x,z+1] + pp[t,x,z-1])*x.spacing**2 -\n",
    "         b[x,z]*x.spacing**2*z.spacing**2) / (2*(x.spacing**2 + z.spacing**2)))\n",
    "\n",
    "bc = [Eq(pp[t+1,x, 0], 0.)]\n",
    "bc += [Eq(pp[t+1,x, shape[1]+2*nbl-1], 0.)]\n",
    "bc += [Eq(pp[t+1,0, z], 0.)]\n",
    "bc += [Eq(pp[t+1,shape[0]-1+2*nbl, z], 0.)]\n",
    "\n",
    "# set source and receivers\n",
    "src = RickerSource(name='src',grid=model.grid,f0=0.02,npoint=1,time_range=time_range)\n",
    "src.coordinates.data[:,0] = model.domain_size[0]* .5\n",
    "src.coordinates.data[:,1] = model.domain_size[0]* .5\n",
    "# Define the source injection\n",
    "src_term = src.inject(field=p.forward,expr=src * dt**2 / m)\n",
    "\n",
    "rec  = Receiver(name='rec',grid=model.grid,npoint=shape[0],time_range=time_range)\n",
    "rec.coordinates.data[:, 0] = np.linspace(model.origin[0],model.domain_size[0], num=model.shape[0])\n",
    "rec.coordinates.data[:, 1] = 2*spacing[1]\n",
    "# Create interpolation expression for receivers\n",
    "rec_term = rec.interpolate(expr=p.forward)\n",
    "\n",
    "# Operators\n",
    "optime=Operator([update_p] + src_term + rec_term)\n",
    "oppres=Operator([update_q] + bc)\n",
    "\n",
    "# you can print the generated code for both operators by typing print(optime) and print(oppres)"
   ],
   "outputs": []
  },
  {
   "cell_type": "markdown",
   "id": "f338fd91",
   "metadata": {},
   "source": [
    "The time steps are advanced through a Python loop where both operators `optime` and `oppres`are called. Note the use of module indices to get proper buffers. We set the number of iteration `niter_poisson` for approximating the solution to Poisson equation as 1200."
   ]
  },
  {
   "cell_type": "code",
   "execution_count": 7,
   "id": "b7ae4857",
   "metadata": {},
   "source": [
    "# NBVAL_IGNORE_OUTPUT\n",
    "psave =np.empty ((time_range.num,model.grid.shape[0],model.grid.shape[1]))\n",
    "niter_poisson = 1200\n",
    "\n",
    "# This is the time loop.\n",
    "for step in range(0,time_range.num-2):\n",
    "    q.data[:,:]=pp.data[(niter_poisson+1)%2,:,:]\n",
    "    optime(time_m=step, time_M=step, dt=dt)\n",
    "    pp.data[:,:]=0.\n",
    "    b.data[:,:]=p.data[(step+1)%3,:,:]\n",
    "    oppres(time_M = niter_poisson)\n",
    "    psave[step,:,:]=p.data[(step+1)%3,:,:]"
   ],
   "outputs": []
  },
  {
   "cell_type": "code",
   "execution_count": 8,
   "id": "33785207",
   "metadata": {},
   "source": [
    "# Some useful definitions for plotting if nbl is set to any other value than zero\n",
    "nxpad,nzpad = shape[0] + 2 * nbl, shape[1] + 2 * nbl\n",
    "shape_pad   = np.array(shape) + 2 * nbl\n",
    "origin_pad  = tuple([o - s*nbl for o, s in zip(origin, spacing)])\n",
    "extent_pad  = tuple([s*(n-1) for s, n in zip(spacing, shape_pad)])"
   ],
   "outputs": []
  },
  {
   "cell_type": "markdown",
   "id": "19bad90b",
   "metadata": {},
   "source": [
    "We can plot equally spaced snaps (by `factor`) from the full history saved in `psave` using matplotlib."
   ]
  },
  {
   "cell_type": "code",
   "execution_count": 9,
   "id": "8d5a4a54",
   "metadata": {},
   "source": [
    "# NBVAL_IGNORE_OUTPUT\n",
    "\n",
    "# Note: flip sense of second dimension to make the plot positive downwards\n",
    "plt_extent = [origin_pad[0], origin_pad[0] + extent_pad[0],\n",
    "              origin_pad[1] + extent_pad[1], origin_pad[1]]\n",
    "\n",
    "# Plot the wavefields, each normalized to scaled maximum of last time step\n",
    "kt = (time_range.num - 2) - 1\n",
    "amax = 0.05 * np.max(np.abs(psave[kt,:,:]))\n",
    "\n",
    "nsnaps = 10\n",
    "factor = round(time_range.num/nsnaps)\n",
    "\n",
    "fig, axes = plt.subplots(2, 5, figsize=(18, 7), sharex=True)\n",
    "fig.suptitle(\"Snapshots\", size=14)\n",
    "for count, ax in enumerate(axes.ravel()):\n",
    "    snapshot = factor*count\n",
    "    ax.imshow(np.transpose(psave[snapshot,:,:]), cmap=\"seismic\",\n",
    "               vmin=-amax, vmax=+amax, extent=plt_extent)\n",
    "    ax.plot(model.domain_size[0]* .5, model.domain_size[1]* .5, \\\n",
    "         'red', linestyle='None', marker='*', markersize=8, label=\"Source\")\n",
    "    ax.grid()\n",
    "    ax.tick_params('both', length=2, width=0.5, which='major',labelsize=10)\n",
    "    ax.set_title(\"Wavefield at t=%.2fms\" % (factor*count*dt),fontsize=10)\n",
    "for ax in axes[1, :]:\n",
    "    ax.set_xlabel(\"X Coordinate (m)\",fontsize=10)\n",
    "for ax in axes[:, 0]:\n",
    "    ax.set_ylabel(\"Z Coordinate (m)\",fontsize=10)"
   ],
   "outputs": []
  },
  {
   "cell_type": "markdown",
   "id": "23446b78",
   "metadata": {},
   "source": [
    "## References\n",
    "\n",
    "- **Least-squares reverse time migration in TTI media using a pure qP-wave equation** (2020)\n",
    "<br> Xinru Mu, Jianping Huang, Jidong Yang, Xu Guo, and Yundong Guo\n",
    "<br> Geophysics, Vol. 85, No. 4\n",
    "<br> https://doi.org/10.1190/geo2019-0320.1"
   ]
  }
 ],
 "metadata": {
  "kernelspec": {
   "display_name": "Python 3 (ipykernel)",
   "language": "python",
   "name": "python3"
  },
  "language_info": {
   "codemirror_mode": {
    "name": "ipython",
    "version": 3
   },
   "file_extension": ".py",
   "mimetype": "text/x-python",
   "name": "python",
   "nbconvert_exporter": "python",
   "pygments_lexer": "ipython3",
   "version": "3.8.12"
  }
 },
 "nbformat": 4,
 "nbformat_minor": 5
}
