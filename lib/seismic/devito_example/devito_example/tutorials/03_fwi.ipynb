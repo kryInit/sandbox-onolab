{
 "cells": [
  {
   "cell_type": "markdown",
   "metadata": {},
   "source": [
    "# 03 - Full-Waveform Inversion (FWI)\n",
    "\n",
    "This notebook is the third in a series of tutorial highlighting various aspects of seismic inversion based on Devito operators. In this second example we aim to highlight the core ideas behind seismic inversion, where we create an image of the subsurface from field recorded data. This tutorial follows on the modelling tutorial and will reuse the modelling and velocity model.\n",
    "\n",
    "## Inversion requirement\n",
    "\n",
    "Seismic inversion relies on two known parameters:\n",
    "\n",
    "- **Field data** - or also called **recorded data**. This is a shot record corresponding to the true velocity model. In practice this data is acquired as described in the first tutorial. In order to simplify this tutorial we will fake field data by modelling it with the true velocity model.\n",
    "\n",
    "- **Initial velocity model**. This is a velocity model that has been obtained by processing the field data. This model is a rough and very smooth estimate of the velocity as an initial estimate for the inversion. This is a necessary requirement for any optimization (method).\n",
    "\n",
    "## Inversion computational setup\n",
    "\n",
    "In this tutorial, we will introduce the gradient operator. This operator corresponds to the imaging condition introduced in the previous tutorial with some minor modifications that are defined by the objective function (also referred to in the tutorial series as the *functional*, *f*) and its gradient, *g*. We will define these two terms in the tutorial too.\n",
    "\n",
    "## Notes on the operators\n",
    "\n",
    "As we have already described the creation of a forward modelling operator, we will only call a wrapper function here. This wrapper already contains all the necessary operators for seismic modeling, imaging and inversion. Operators introduced for the first time in this tutorial will be properly described."
   ]
  },
  {
   "cell_type": "code",
   "execution_count": 1,
   "metadata": {},
   "source": [
    "import numpy as np\n",
    "%matplotlib inline\n",
    "\n",
    "from devito import configuration\n",
    "configuration['log-level'] = 'WARNING'"
   ],
   "outputs": []
  },
  {
   "cell_type": "markdown",
   "metadata": {},
   "source": [
    "## Computational considerations\n",
    "\n",
    "As we will see, FWI is computationally extremely demanding, even more than RTM. To keep this tutorial as lightwight as possible we therefore again use a very small demonstration model. We also define here a few parameters for the final example runs that can be changed to modify the overall runtime of the tutorial."
   ]
  },
  {
   "cell_type": "code",
   "execution_count": 2,
   "metadata": {},
   "source": [
    "nshots = 9  # Number of shots to create gradient from\n",
    "nreceivers = 101  # Number of receiver locations per shot \n",
    "fwi_iterations = 5  # Number of outer FWI iterations"
   ],
   "outputs": []
  },
  {
   "cell_type": "markdown",
   "metadata": {},
   "source": [
    "# True and smooth velocity models\n",
    "\n",
    "We will use a very simple model domain, consisting of a circle within a 2D domain. We will again use the \"true\" model to generate our synthetic shot data and use a \"smooth\" model as our initial guess. In this case the smooth model is very smooth indeed - it is simply a constant background velocity without any features."
   ]
  },
  {
   "cell_type": "code",
   "execution_count": 3,
   "metadata": {},
   "source": [
    "#NBVAL_IGNORE_OUTPUT\n",
    "from examples.seismic import demo_model, plot_velocity, plot_perturbation\n",
    "\n",
    "# Define true and initial model\n",
    "shape = (101, 101)  # Number of grid point (nx, nz)\n",
    "spacing = (10., 10.)  # Grid spacing in m. The domain size is now 1km by 1km\n",
    "origin = (0., 0.)  # Need origin to define relative source and receiver locations\n",
    "\n",
    "model = demo_model('circle-isotropic', vp_circle=3.0, vp_background=2.5,\n",
    "                    origin=origin, shape=shape, spacing=spacing, nbl=40)\n",
    "\n",
    "model0 = demo_model('circle-isotropic', vp_circle=2.5, vp_background=2.5,\n",
    "                     origin=origin, shape=shape, spacing=spacing, nbl=40,\n",
    "                     grid = model.grid)\n",
    "\n",
    "plot_velocity(model)\n",
    "plot_velocity(model0)\n",
    "plot_perturbation(model0, model)"
   ],
   "outputs": []
  },
  {
   "cell_type": "code",
   "execution_count": 4,
   "metadata": {},
   "source": [
    "assert model.grid == model0.grid\n",
    "assert model.vp.grid == model0.vp.grid"
   ],
   "outputs": []
  },
  {
   "cell_type": "markdown",
   "metadata": {},
   "source": [
    "## Acquisition geometry\n",
    "\n",
    "In this tutorial, we will use the easiest case for inversion, namely a transmission experiment. The sources are located on one side of the model and the receivers on the other side. This allows to record most of the information necessary for inversion, as reflections usually lead to poor inversion results."
   ]
  },
  {
   "cell_type": "code",
   "execution_count": 5,
   "metadata": {},
   "source": [
    "#NBVAL_IGNORE_OUTPUT\n",
    "# Define acquisition geometry: source\n",
    "from examples.seismic import AcquisitionGeometry\n",
    "\n",
    "t0 = 0.\n",
    "tn = 1000. \n",
    "f0 = 0.010\n",
    "# First, position source centrally in all dimensions, then set depth\n",
    "src_coordinates = np.empty((1, 2))\n",
    "src_coordinates[0, :] = np.array(model.domain_size) * .5\n",
    "src_coordinates[0, 0] = 20.  # Depth is 20m\n",
    "\n",
    "\n",
    "# Define acquisition geometry: receivers\n",
    "\n",
    "# Initialize receivers for synthetic and imaging data\n",
    "rec_coordinates = np.empty((nreceivers, 2))\n",
    "rec_coordinates[:, 1] = np.linspace(0, model.domain_size[0], num=nreceivers)\n",
    "rec_coordinates[:, 0] = 980.\n",
    "\n",
    "# Geometry\n",
    "\n",
    "geometry = AcquisitionGeometry(model, rec_coordinates, src_coordinates, t0, tn, f0=f0, src_type='Ricker')\n",
    "# We can plot the time signature to see the wavelet\n",
    "geometry.src.show()"
   ],
   "outputs": []
  },
  {
   "cell_type": "code",
   "execution_count": 6,
   "metadata": {},
   "source": [
    "#NBVAL_IGNORE_OUTPUT\n",
    "# Plot acquisition geometry\n",
    "plot_velocity(model, source=geometry.src_positions,\n",
    "              receiver=geometry.rec_positions[::4, :])"
   ],
   "outputs": []
  },
  {
   "cell_type": "markdown",
   "metadata": {},
   "source": [
    "## True and smooth data\n",
    "\n",
    "We can generate shot records for the true and smoothed initial velocity models, since the difference between them will again form the basis of our imaging procedure."
   ]
  },
  {
   "cell_type": "code",
   "execution_count": 7,
   "metadata": {},
   "source": [
    "# Compute synthetic data with forward operator \n",
    "from examples.seismic.acoustic import AcousticWaveSolver\n",
    "\n",
    "solver = AcousticWaveSolver(model, geometry, space_order=4)\n",
    "true_d, _, _ = solver.forward(vp=model.vp)"
   ],
   "outputs": []
  },
  {
   "cell_type": "code",
   "execution_count": 8,
   "metadata": {},
   "source": [
    "# Compute initial data with forward operator \n",
    "smooth_d, _, _ = solver.forward(vp=model0.vp)"
   ],
   "outputs": []
  },
  {
   "cell_type": "code",
   "execution_count": 9,
   "metadata": {},
   "source": [
    "#NBVAL_IGNORE_OUTPUT\n",
    "from examples.seismic import plot_shotrecord\n",
    "\n",
    "# Plot shot record for true and smooth velocity model and the difference\n",
    "plot_shotrecord(true_d.data, model, t0, tn)\n",
    "plot_shotrecord(smooth_d.data, model, t0, tn)\n",
    "plot_shotrecord(smooth_d.data - true_d.data, model, t0, tn)"
   ],
   "outputs": []
  },
  {
   "cell_type": "markdown",
   "metadata": {},
   "source": [
    "# Full-Waveform Inversion\n",
    "\n",
    "\n",
    "## Formulation\n",
    "\n",
    "Full-waveform inversion (FWI) aims to invert an accurate model of the discrete wave velocity, $\\mathbf{c}$, or equivalently the square slowness of the wave, $\\mathbf{m} = \\frac{1}{\\mathbf{c}^2}$, from a given set of measurements of the pressure wavefield $\\mathbf{u}$. This can be expressed as the following optimization problem [1, 2]:\n",
    "\n",
    "\\begin{aligned}\n",
    "\t\\mathop{\\hbox{minimize}}_{\\mathbf{m}} \\Phi_s(\\mathbf{m})&=\\frac{1}{2}\\left\\lVert\\mathbf{P}_r\n",
    "\t\\mathbf{u} - \\mathbf{d}\\right\\rVert_2^2 \\\\\n",
    "\t\\mathbf{u} &= \\mathbf{A}(\\mathbf{m})^{-1} \\mathbf{P}_s^T \\mathbf{q}_s, \n",
    "\\end{aligned}\n",
    "\n",
    "where $\\mathbf{P}_r$ is the sampling operator at the receiver locations, $\\mathbf{P}_s^T$ is the injection operator at the source locations, $\\mathbf{A}(\\mathbf{m})$ is the operator representing the discretized wave equation matrix, $\\mathbf{u}$ is the discrete synthetic pressure wavefield, $\\mathbf{q}_s$ is the corresponding pressure source and $\\mathbf{d}$ is the measured data. It is worth noting that $\\mathbf{m}$ is the unknown in this formulation and that multiple implementations of the wave equation operator $\\mathbf{A}(\\mathbf{m})$ are possible. \n",
    "\n",
    "We have already defined a concrete solver scheme for $\\mathbf{A}(\\mathbf{m})$ in the first tutorial, including appropriate implementations of the sampling operator $\\mathbf{P}_r$ and source term $\\mathbf{q}_s$.\n",
    "\n",
    "To solve this optimization problem using a gradient-based method, we use the\n",
    "adjoint-state method to evaluate the gradient $\\nabla\\Phi_s(\\mathbf{m})$:\n",
    "\n",
    "\\begin{align}\n",
    " \\nabla\\Phi_s(\\mathbf{m})=\\sum_{\\mathbf{t} =1}^{n_t}\\mathbf{u}[\\mathbf{t}] \\mathbf{v}_{tt}[\\mathbf{t}] =\\mathbf{J}^T\\delta\\mathbf{d}_s,\n",
    "\\end{align}\n",
    "\n",
    "where $n_t$ is the number of computational time steps, $\\delta\\mathbf{d}_s = \\left(\\mathbf{P}_r \\mathbf{u} - \\mathbf{d} \\right)$ is the data residual (difference between the measured data and the modelled data), $\\mathbf{J}$ is the Jacobian operator and $\\mathbf{v}_{tt}$ is the second-order time derivative of the adjoint wavefield solving:\n",
    "\n",
    "\\begin{align}\n",
    " \\mathbf{A}^T(\\mathbf{m}) \\mathbf{v} = \\mathbf{P}_r^T \\delta\\mathbf{d}.\n",
    "\\end{align}\n",
    "\n",
    "We see that the gradient of the FWI function is the previously defined imaging condition with an extra second-order time derivative. We will therefore reuse the operators defined previously inside a Devito wrapper."
   ]
  },
  {
   "cell_type": "markdown",
   "metadata": {},
   "source": [
    "## FWI gradient operator\n",
    "\n",
    "To compute a single gradient $\\nabla\\Phi_s(\\mathbf{m})$ in our optimization workflow we again use `solver.forward` to compute the entire forward wavefield $\\mathbf{u}$ and a similar pre-defined gradient operator to compute the adjoint wavefield `v`. The gradient operator provided by our `solver` utility also computes the correlation between the wavefields, allowing us to encode a similar procedure to the previous imaging tutorial as our gradient calculation:\n",
    "\n",
    "- Simulate the forward wavefield with the background velocity model to get the synthetic data and save the full wavefield $\\mathbf{u}$\n",
    "- Compute the data residual\n",
    "- Back-propagate the data residual and compute on the fly the gradient contribution at each time step. \n",
    "\n",
    "This procedure is applied to multiple source positions and summed to obtain a gradient image of the subsurface. We again prepare the source locations for each shot and visualize them, before defining a single gradient computation over a number of shots as a single function."
   ]
  },
  {
   "cell_type": "code",
   "execution_count": 10,
   "metadata": {},
   "source": [
    "#NBVAL_IGNORE_OUTPUT\n",
    "\n",
    "# Prepare the varying source locations sources\n",
    "source_locations = np.empty((nshots, 2), dtype=np.float32)\n",
    "source_locations[:, 0] = 30.\n",
    "source_locations[:, 1] = np.linspace(0., 1000, num=nshots)\n",
    "\n",
    "plot_velocity(model, source=source_locations)"
   ],
   "outputs": []
  },
  {
   "cell_type": "code",
   "execution_count": 11,
   "metadata": {},
   "source": [
    "from devito import Eq, Operator\n",
    "\n",
    "# Computes the residual between observed and synthetic data into the residual\n",
    "def compute_residual(residual, dobs, dsyn):\n",
    "    if residual.grid.distributor.is_parallel:\n",
    "        # If we run with MPI, we have to compute the residual via an operator\n",
    "        # First make sure we can take the difference and that receivers are at the \n",
    "        # same position\n",
    "        assert np.allclose(dobs.coordinates.data[:], dsyn.coordinates.data)\n",
    "        assert np.allclose(residual.coordinates.data[:], dsyn.coordinates.data)\n",
    "        # Create a difference operator\n",
    "        diff_eq = Eq(residual, dsyn.subs({dsyn.dimensions[-1]: residual.dimensions[-1]}) -\n",
    "                               dobs.subs({dobs.dimensions[-1]: residual.dimensions[-1]}))\n",
    "        Operator(diff_eq)()\n",
    "    else:\n",
    "        # A simple data difference is enough in serial\n",
    "        residual.data[:] = dsyn.data[:] - dobs.data[:]\n",
    "    \n",
    "    return residual"
   ],
   "outputs": []
  },
  {
   "cell_type": "code",
   "execution_count": 12,
   "metadata": {},
   "source": [
    "# Create FWI gradient kernel \n",
    "from devito import Function, TimeFunction, norm\n",
    "from examples.seismic import Receiver\n",
    "\n",
    "import scipy\n",
    "def fwi_gradient(vp_in):    \n",
    "    # Create symbols to hold the gradient\n",
    "    grad = Function(name=\"grad\", grid=model.grid)\n",
    "    # Create placeholders for the data residual and data\n",
    "    residual = Receiver(name='residual', grid=model.grid,\n",
    "                        time_range=geometry.time_axis, \n",
    "                        coordinates=geometry.rec_positions)\n",
    "    d_obs = Receiver(name='d_obs', grid=model.grid,\n",
    "                     time_range=geometry.time_axis, \n",
    "                     coordinates=geometry.rec_positions)\n",
    "    d_syn = Receiver(name='d_syn', grid=model.grid,\n",
    "                     time_range=geometry.time_axis, \n",
    "                     coordinates=geometry.rec_positions)\n",
    "    objective = 0.\n",
    "    for i in range(nshots):\n",
    "        # Update source location\n",
    "        geometry.src_positions[0, :] = source_locations[i, :]\n",
    "        \n",
    "        # Generate synthetic data from true model\n",
    "        _, _, _ = solver.forward(vp=model.vp, rec=d_obs)\n",
    "        \n",
    "        # Compute smooth data and full forward wavefield u0\n",
    "        _, u0, _ = solver.forward(vp=vp_in, save=True, rec=d_syn)\n",
    "        \n",
    "        # Compute gradient from data residual and update objective function \n",
    "        compute_residual(residual, d_obs, d_syn)\n",
    "        \n",
    "        objective += .5*norm(residual)**2\n",
    "        solver.gradient(rec=residual, u=u0, vp=vp_in, grad=grad)\n",
    "    \n",
    "    return objective, grad"
   ],
   "outputs": []
  },
  {
   "cell_type": "markdown",
   "metadata": {},
   "source": [
    "Having defined our FWI gradient procedure we can compute the initial iteration from our starting model. This allows us to visualize the gradient alongside the model perturbation and the effect of the gradient update on the model."
   ]
  },
  {
   "cell_type": "code",
   "execution_count": 13,
   "metadata": {},
   "source": [
    "# Compute gradient of initial model\n",
    "ff, update = fwi_gradient(model0.vp)\n",
    "assert np.isclose(ff, 57283, rtol=1e0)"
   ],
   "outputs": []
  },
  {
   "cell_type": "code",
   "execution_count": 14,
   "metadata": {},
   "source": [
    "#NBVAL_IGNORE_OUTPUT\n",
    "from devito import mmax\n",
    "from examples.seismic import plot_image\n",
    "\n",
    "# Plot the FWI gradient\n",
    "plot_image(-update.data, vmin=-1e4, vmax=1e4, cmap=\"jet\")\n",
    "\n",
    "# Plot the difference between the true and initial model.\n",
    "# This is not known in practice as only the initial model is provided.\n",
    "plot_image(model0.vp.data - model.vp.data, vmin=-1e-1, vmax=1e-1, cmap=\"jet\")\n",
    "\n",
    "# Show what the update does to the model\n",
    "alpha = .5 / mmax(update)\n",
    "plot_image(model0.vp.data + alpha*update.data, vmin=2.5, vmax=3.0, cmap=\"jet\")"
   ],
   "outputs": []
  },
  {
   "cell_type": "markdown",
   "metadata": {},
   "source": [
    "We see that the gradient and the true perturbation have the same sign, therefore, with an appropriate scaling factor, we will update the model in the correct direction."
   ]
  },
  {
   "cell_type": "code",
   "execution_count": 15,
   "metadata": {},
   "source": [
    "from devito import Min, Max\n",
    "# Define bounding box constraints on the solution.\n",
    "def update_with_box(vp, alpha, dm, vmin=2.0, vmax=3.5):\n",
    "    \"\"\"\n",
    "    Apply gradient update in-place to vp with box constraint\n",
    "\n",
    "    Notes:\n",
    "    ------\n",
    "    For more advanced algorithm, one will need to gather the non-distributed\n",
    "    velocity array to apply constrains and such.\n",
    "    \"\"\"\n",
    "    update = vp + alpha * dm\n",
    "    update_eq = Eq(vp, Max(Min(update, vmax), vmin))\n",
    "    Operator(update_eq)()"
   ],
   "outputs": []
  },
  {
   "cell_type": "code",
   "execution_count": 16,
   "metadata": {},
   "source": [
    "#NBVAL_SKIP\n",
    "\n",
    "from devito import mmax\n",
    "\n",
    "# Run FWI with gradient descent\n",
    "history = np.zeros((fwi_iterations, 1))\n",
    "for i in range(0, fwi_iterations):\n",
    "    # Compute the functional value and gradient for the current\n",
    "    # model estimate\n",
    "    phi, direction = fwi_gradient(model0.vp)\n",
    "    \n",
    "    # Store the history of the functional values\n",
    "    history[i] = phi\n",
    "    \n",
    "    # Artificial Step length for gradient descent\n",
    "    # In practice this would be replaced by a Linesearch (Wolfe, ...)\n",
    "    # that would guarantee functional decrease Phi(m-alpha g) <= epsilon Phi(m)\n",
    "    # where epsilon is a minimum decrease constant\n",
    "    alpha = .05 / mmax(direction)\n",
    "    \n",
    "    # Update the model estimate and enforce minimum/maximum values\n",
    "    update_with_box(model0.vp , alpha , direction)\n",
    "    \n",
    "    # Log the progress made\n",
    "    print('Objective value is %f at iteration %d' % (phi, i+1))"
   ],
   "outputs": []
  },
  {
   "cell_type": "code",
   "execution_count": 17,
   "metadata": {},
   "source": [
    "#NBVAL_IGNORE_OUTPUT\n",
    "\n",
    "# Plot inverted velocity model\n",
    "plot_velocity(model0)"
   ],
   "outputs": []
  },
  {
   "cell_type": "code",
   "execution_count": 18,
   "metadata": {},
   "source": [
    "#NBVAL_SKIP\n",
    "import matplotlib.pyplot as plt\n",
    "\n",
    "# Plot objective function decrease\n",
    "plt.figure()\n",
    "plt.loglog(history)\n",
    "plt.xlabel('Iteration number')\n",
    "plt.ylabel('Misift value Phi')\n",
    "plt.title('Convergence')\n",
    "plt.show()"
   ],
   "outputs": []
  },
  {
   "cell_type": "markdown",
   "metadata": {},
   "source": [
    "## References\n",
    "\n",
    "[1] _Virieux, J. and Operto, S.: An overview of full-waveform inversion in exploration geophysics, GEOPHYSICS, 74, WCC1–WCC26, doi:10.1190/1.3238367, http://library.seg.org/doi/abs/10.1190/1.3238367, 2009._\n",
    "\n",
    "[2] _Haber, E., Chung, M., and Herrmann, F. J.: An effective method for parameter estimation with PDE constraints with multiple right hand sides, SIAM Journal on Optimization, 22, http://dx.doi.org/10.1137/11081126X, 2012._"
   ]
  },
  {
   "cell_type": "markdown",
   "metadata": {},
   "source": [
    "<sup>This notebook is part of the tutorial \"Optimised Symbolic Finite Difference Computation with Devito\" presented at the Intel® HPC Developer Conference 2017.</sup>"
   ]
  }
 ],
 "metadata": {
  "@webio": {
   "lastCommId": null,
   "lastKernelId": null
  },
  "hide_input": false,
  "kernelspec": {
   "display_name": "Python 3",
   "language": "python",
   "name": "python3"
  },
  "language_info": {
   "codemirror_mode": {
    "name": "ipython",
    "version": 3
   },
   "file_extension": ".py",
   "mimetype": "text/x-python",
   "name": "python",
   "nbconvert_exporter": "python",
   "pygments_lexer": "ipython3",
   "version": "3.8.8"
  },
  "latex_envs": {
   "LaTeX_envs_menu_present": true,
   "autoclose": false,
   "autocomplete": true,
   "bibliofile": "biblio.bib",
   "cite_by": "apalike",
   "current_citInitial": 1,
   "eqLabelWithNumbers": true,
   "eqNumInitial": 1,
   "hotkeys": {
    "equation": "Ctrl-E",
    "itemize": "Ctrl-I"
   },
   "labels_anchors": false,
   "latex_user_defs": false,
   "report_style_numbering": false,
   "user_envs_cfg": false
  },
  "widgets": {
   "state": {},
   "version": "1.1.2"
  }
 },
 "nbformat": 4,
 "nbformat_minor": 4
}
