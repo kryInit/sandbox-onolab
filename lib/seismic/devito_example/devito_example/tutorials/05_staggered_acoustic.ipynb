{
 "cells": [
  {
   "cell_type": "markdown",
   "metadata": {},
   "source": [
    "# 05 - First order acoustic modeling on a staggered grid"
   ]
  },
  {
   "cell_type": "code",
   "execution_count": 1,
   "metadata": {
    "scrolled": true
   },
   "source": [
    "from devito import *\n",
    "from examples.seismic.source import DGaussSource, TimeAxis\n",
    "from examples.seismic import plot_image\n",
    "import numpy as np\n",
    "\n",
    "from sympy import init_printing, latex\n",
    "init_printing(use_latex='mathjax')"
   ],
   "outputs": []
  },
  {
   "cell_type": "code",
   "execution_count": 2,
   "metadata": {
    "scrolled": true
   },
   "source": [
    "# Initial grid: 1km x 1km, with spacing 100m\n",
    "extent = (2000., 2000.)\n",
    "shape = (81, 81)\n",
    "x = SpaceDimension(name='x', spacing=Constant(name='h_x', value=extent[0]/(shape[0]-1)))\n",
    "z = SpaceDimension(name='z', spacing=Constant(name='h_z', value=extent[1]/(shape[1]-1)))\n",
    "grid = Grid(extent=extent, shape=shape, dimensions=(x, z))"
   ],
   "outputs": []
  },
  {
   "cell_type": "code",
   "execution_count": 3,
   "metadata": {},
   "source": [
    "# Timestep size from Eq. 7 with V_p=6000. and dx=100\n",
    "t0, tn = 0., 200.\n",
    "dt = 1e2*(1. / np.sqrt(2.)) / 60.\n",
    "time_range = TimeAxis(start=t0, stop=tn, step=dt)\n",
    "\n",
    "src = DGaussSource(name='src', grid=grid, f0=0.01, time_range=time_range, a=0.004)\n",
    "src.coordinates.data[:] = [1000., 1000.]"
   ],
   "outputs": []
  },
  {
   "cell_type": "code",
   "execution_count": 4,
   "metadata": {
    "scrolled": true
   },
   "source": [
    "#NBVAL_SKIP\n",
    "\n",
    "src.show()"
   ],
   "outputs": []
  },
  {
   "cell_type": "code",
   "execution_count": 5,
   "metadata": {
    "scrolled": true
   },
   "source": [
    "# Now we create the velocity and pressure fields\n",
    "p = TimeFunction(name='p', grid=grid, staggered=NODE, space_order=2, time_order=1)\n",
    "v = VectorTimeFunction(name='v', grid=grid, space_order=2, time_order=1)"
   ],
   "outputs": []
  },
  {
   "cell_type": "code",
   "execution_count": 6,
   "metadata": {
    "scrolled": true
   },
   "source": [
    "from devito.finite_differences.operators import div, grad\n",
    "t = grid.stepping_dim\n",
    "time = grid.time_dim\n",
    "\n",
    "# We need some initial conditions\n",
    "V_p = 4.0\n",
    "density = 1.\n",
    "\n",
    "ro = 1/density\n",
    "l2m = V_p*V_p*density\n",
    "\n",
    "# The source injection term\n",
    "src_p = src.inject(field=p.forward, expr=src)\n",
    "\n",
    "# 2nd order acoustic according to fdelmoc\n",
    "u_v_2 = Eq(v.forward, solve(v.dt - ro * grad(p), v.forward))\n",
    "u_p_2 = Eq(p.forward, solve(p.dt - l2m * div(v.forward), p.forward))"
   ],
   "outputs": []
  },
  {
   "cell_type": "code",
   "execution_count": 7,
   "metadata": {},
   "source": [
    "u_v_2"
   ],
   "outputs": []
  },
  {
   "cell_type": "code",
   "execution_count": 8,
   "metadata": {},
   "source": [
    "u_p_2"
   ],
   "outputs": []
  },
  {
   "cell_type": "code",
   "execution_count": 9,
   "metadata": {},
   "source": [
    "op_2 = Operator([u_v_2, u_p_2] + src_p)"
   ],
   "outputs": []
  },
  {
   "cell_type": "code",
   "execution_count": 10,
   "metadata": {},
   "source": [
    "#NBVAL_IGNORE_OUTPUT\n",
    "\n",
    "# Propagate the source\n",
    "op_2(time=src.time_range.num-1, dt=dt)"
   ],
   "outputs": []
  },
  {
   "cell_type": "code",
   "execution_count": 11,
   "metadata": {},
   "source": [
    "#NBVAL_SKIP\n",
    "\n",
    "# Let's see what we got....\n",
    "plot_image(v[0].data[0])\n",
    "plot_image(v[1].data[0])\n",
    "plot_image(p.data[0])"
   ],
   "outputs": []
  },
  {
   "cell_type": "code",
   "execution_count": 12,
   "metadata": {},
   "source": [
    "norm_p = norm(p)\n",
    "assert np.isclose(norm_p, .35098, atol=1e-4, rtol=0)"
   ],
   "outputs": []
  },
  {
   "cell_type": "code",
   "execution_count": 13,
   "metadata": {
    "scrolled": true
   },
   "source": [
    "# # 4th order acoustic according to fdelmoc\n",
    "p4 = TimeFunction(name='p', grid=grid, staggered=NODE, space_order=4, time_order=1)\n",
    "v4 = VectorTimeFunction(name='v', grid=grid, space_order=4, time_order=1)\n",
    "src_p = src.inject(field=p4.forward, expr=src)\n",
    "u_v_4 = Eq(v4.forward, solve(v4.dt - ro * grad(p4), v4.forward))\n",
    "u_p_4 = Eq(p4.forward, solve(p4.dt - l2m * div(v4.forward), p4.forward))"
   ],
   "outputs": []
  },
  {
   "cell_type": "code",
   "execution_count": 14,
   "metadata": {
    "scrolled": true
   },
   "source": [
    "#NBVAL_IGNORE_OUTPUT\n",
    "op_4 = Operator([u_v_4, u_p_4] + src_p)\n",
    "# Propagate the source\n",
    "op_4(time=src.time_range.num-1, dt=dt)"
   ],
   "outputs": []
  },
  {
   "cell_type": "code",
   "execution_count": 15,
   "metadata": {
    "scrolled": false
   },
   "source": [
    "#NBVAL_SKIP\n",
    "\n",
    "# Let's see what we got....\n",
    "plot_image(v4[0].data[-1])\n",
    "plot_image(v4[1].data[-1])\n",
    "plot_image(p4.data[-1])"
   ],
   "outputs": []
  },
  {
   "cell_type": "code",
   "execution_count": 16,
   "metadata": {},
   "source": [
    "norm_p = norm(p)\n",
    "assert np.isclose(norm_p, .35098, atol=1e-4, rtol=0)"
   ],
   "outputs": []
  }
 ],
 "metadata": {
  "hide_input": false,
  "kernelspec": {
   "display_name": "Python 3",
   "language": "python",
   "name": "python3"
  },
  "language_info": {
   "codemirror_mode": {
    "name": "ipython",
    "version": 3
   },
   "file_extension": ".py",
   "mimetype": "text/x-python",
   "name": "python",
   "nbconvert_exporter": "python",
   "pygments_lexer": "ipython3",
   "version": "3.9.9"
  },
  "latex_envs": {
   "LaTeX_envs_menu_present": true,
   "autoclose": false,
   "autocomplete": true,
   "bibliofile": "biblio.bib",
   "cite_by": "apalike",
   "current_citInitial": 1,
   "eqLabelWithNumbers": true,
   "eqNumInitial": 1,
   "hotkeys": {
    "equation": "Ctrl-E",
    "itemize": "Ctrl-I"
   },
   "labels_anchors": false,
   "latex_user_defs": false,
   "report_style_numbering": false,
   "user_envs_cfg": false
  },
  "widgets": {
   "state": {},
   "version": "1.1.2"
  }
 },
 "nbformat": 4,
 "nbformat_minor": 2
}
