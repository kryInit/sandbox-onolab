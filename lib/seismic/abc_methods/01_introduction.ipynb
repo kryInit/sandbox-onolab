{
 "cells": [
  {
   "cell_type": "markdown",
   "metadata": {
    "collapsed": true
   },
   "source": [
    "# 1 - Introduction to Acoustic Problem"
   ]
  },
  {
   "cell_type": "markdown",
   "metadata": {},
   "source": [
    "# 1.1 - Introduction\n",
    "\n",
    "This notebook brings the description of the acoustic wave equation, which we also refer as the *acoustic problem*, \n",
    "including the discretization by finite differences and the setup for the tests we employ."
   ]
  },
  {
   "cell_type": "markdown",
   "metadata": {},
   "source": [
    "# 1.2 - The acoustic problem\n",
    "\n",
    "Let $D=\\Omega \\times I\\subset\\mathbb{R}^{3}$ be the domain of the problem to be studied, where $\\Omega=\\left[x_{I},x_{F}\\right] \\times\\left[z_{I},z_{F}\\right]$ is the spatial domain $D$ and $I=\\left[0,t_{F}\\right]$ is the time interval of the integration. As usual, $\\partial\\Omega$ denotes the boundary of $\\Omega$, \n",
    "represented bellow.\n",
    "\n",
    "<img src='domain1.png' width=500>\n",
    "\n",
    "The spatial variables are $x$ and $z$ (which represents depth) and  $t$ denotes time. The function $u(x,z,t):D\\rightarrow \\mathbb{R}$  represents the displacament of the acoustic wave, obeying the following equation:\n",
    "\n",
    "\\begin{equation}\n",
    "u_{tt}(x,z,t)-c^2(x,z)\\Delta(u(x,z,t))=c^2(x,z)f(x,z,t).\n",
    "\\end{equation}\n",
    "\n",
    "where $f(x,z,t):D\\rightarrow \\mathbb{R}$ denotes external forcing and $c(x,z):\\Omega\\rightarrow \\mathbb{R}$ is the speed of propagation of the wave. The initial conditions are given by:\n",
    "\n",
    "\\begin{equation}\n",
    "u(x,z,0) = 0.0 \\hspace{.5cm} \\mbox{ and } \\hspace{.5cm} u_t(x,z,0)= 0.0.\n",
    "\\end{equation}\n",
    "\n",
    "The usual boundary conditions for the wave equation, leading to a well posed problem, are either of Dirichlet or Neumann type. At the surface ($z=0$) a Neumann boundary condition will be employed, while at the bottom and lateral boundaries we initially employ Dirichlet null boundary conditions:\n",
    "\n",
    "\\begin{equation}\n",
    "\\left. u(x,z,t) \\right|_{\\partial\\Omega_{i}} = 0.0 \\hspace{.3cm} \\mbox{ for $i=1,2$ and $3$ } \\hspace{.5cm} \\mbox{ and } \\hspace{.5cm}\n",
    "\\left. \\displaystyle\\frac{\\partial u(x,z,t)}{\\partial z} \\right|_{\\partial\\Omega_{4}}= 0.0.\n",
    "\\end{equation}\n",
    "\n",
    "These boundary conditions on  $\\partial\\Omega_{1}$, $\\partial\\Omega_{2}$ and $\\partial\\Omega_{3}$ are not natural for the seismic applications, being imposed by the necessity of employing a limited domain for computational purposes. They are the source of artificial wave reflections, which need to be mitigated by special treatments, with the use of absorbing boundary conditions or absorbing layers, which are the main subject of our notebooks.\n",
    "\n",
    "As a source term we employ a Ricker wave, given by: \n",
    "\n",
    "\\begin{equation}\n",
    "R(t)= \\left(1-2\\pi^{2}f_{0}^{2}\\left(t-\\displaystyle\\frac{1}{f_{0}} \\right)^{2}\\right)e^{\\pi^{2}f_{0}^{2}\\left(t-\\displaystyle\\frac{1}{f_{0}} \\right)^{2}},\n",
    "\\end{equation}\n",
    "\n",
    "where $f_{0}\\in\\mathbb{R}_{+}$ is the peak frequency. This will be used as a point source at a fixed position $(\\bar{x},\\bar{z})$, such that $f(\\bar{x},\\bar{z},t)=R(t)$ and $f$ is zero elsewhere."
   ]
  },
  {
   "cell_type": "markdown",
   "metadata": {},
   "source": [
    "# 1.3 - Finite Difference Discretization\n",
    "\n",
    "\n",
    "## 1.3.1 - The computational grid\n",
    "\n",
    "The time interval $I=\\left[0,t_{F}\\right]$ is discretized as:\n",
    "\n",
    "- $t_k=k\\Delta t, k=0,1,\\cdots,m, \\mbox{ where } \\Delta t=t_F/m$, \n",
    " while the spatial domain grid is given by \n",
    "- $\\Omega_\\Delta = \\{(x_i,z_j),i=0,\\cdots,nx, \\ j=0,\\cdots,nz\\}$, \n",
    " with $x_i=x_I+i\\Delta x$ and $z_j=j\\Delta z$, $\\Delta_x=(x_F-x_I)/nx$ and $\\Delta_z=(z_F-z_I)/nz$.\n",
    "\n",
    " The choices of the values of $\\Delta t$, $\\Delta x$ and $\\Delta z$ will have to obey a CFL restriction,\n",
    " due to the fact that we will employ an explicit temporal discretization.\n",
    "\n",
    "  Normally, the variables will be computed on the grid. For example, the velocity field $c(x,z)$ will be evaluated on $\\Omega_\\Delta$. The source term, which is time dependent, is evaluated at points $(x_i,z_j,t_k)$.\n",
    "  \n",
    "  In some cases, the discretization will require to have fields on grids which are staggered (in one or more directions). For instance, a spatial grid staggered only in the x-direction will be given by:\n",
    "- $\\Omega^x_\\Delta=\\{(x_{i+1/2},z_j), i=0,\\cdots,nx-1,\\ j=0,\\cdots,nz\\}, \\mbox{ with } x_{i+1/2}=(i+\\frac{1}{2})\\Delta x$.\n",
    "\n",
    " Grid staggering in other directions, including the temporal one, are defined analogously. \n",
    "\n",
    "\n",
    "\n",
    "## 1.3.2 - Discretization of the wave equation\n",
    "\n",
    " We employ a stantard second order explicit discretization of the wave equation, based on centered finite differences. Using the notation $u_{i,j,k}=u(x_i,z_j,t_k)$ we have the following discrete set of equations:\n",
    "\n",
    "\\begin{equation}\n",
    " \\frac{u_{i,j,k+1}-2u_{i,j,k}+u_{i,j,k-1}}{\\Delta^2 t}= c^2_{i,j,k}(\\frac{u_{i-1,j,k}-2u_{i,j,k}+u_{i+1,j,k}}{\\Delta^2 x} + \\frac{u_{i,j-1,k}-2u_{i,j,k}+u_{i,j+1,k}}{\\Delta^2 z}) + c^2_{i,j,k} f_{i,j,k}\n",
    "\\end{equation}\n",
    " for $i=1,\\cdots,nx-1, \\ j=1,\\cdots,nz-1, k=1,\\cdots,m-1$. \n",
    " \n",
    " The boundary conditions complete the set of equations. We have that $u_{0,j,k}=u_{nx,j,k}=u_{i,nz,k}=0$, according to the Dirichlet null conditions at the bottom and lateral boundaries. Moreover, $u_{i,0,k}=u_{i,1,k}$ due to the zero Neumman boundary condition at the surface and $u_{i,j,0}=u_{i,j,1}=0$ due to the initial conditions. \n",
    "\n",
    " This is the basic discretization of the wave equation, to be employed in all notebooks. It will be complemented\n",
    " by some other terms and / or equations, when considering how to discretize the absorbing boundary conditions\n",
    " and absorbing boundary layers."
   ]
  },
  {
   "cell_type": "markdown",
   "metadata": {},
   "source": [
    "# 1.4 - The standard problem\n",
    "\n",
    "In order to simulate the acoustic problem with the several absorbing boundary treatments, we define a standard problem to be used not only in this notebook, but also in the following ones. The spatial domain $\\Omega$ will be defined by the following parameters:\n",
    "\n",
    "- $x_{I}$ =  0.0 Km;\n",
    "- $x_{F}$ =  1.0 Km = 1000 m;\n",
    "- $z_{I}$ =  0.0 Km;\n",
    "- $z_{F}$ =  1.0 Km = 1000 m;\n",
    "\n",
    "with\n",
    "\n",
    "- $\\Delta x$ = 0.01 km = 10m;\n",
    "- $\\Delta z$ = 0.01 km = 10m;\n",
    "\n",
    " The integration will be carried out from \n",
    "\n",
    "- $t_{I}$ = 0 s = 0 ms;\n",
    "\n",
    "to\n",
    "\n",
    "- $t_{F}$ = 1 s = 1000 ms;\n",
    "\n",
    "The choice of $\\Delta t$ has to respect the CFL condition:\n",
    "\n",
    "\\begin{equation}\n",
    "{\\Delta t}\\leq\\displaystyle\\frac{h\\nu}{v_{max}},\n",
    "\\end{equation}\n",
    "\n",
    "where $\\nu\\leq\\frac{1}{\\sqrt{2}}$ and\n",
    "\n",
    "\\begin{equation}\n",
    "h = \\min\\{ \\Delta x, \\Delta z \\}.\n",
    "\\end{equation}\n",
    "\n",
    "The term $v_{max}$ is the maximum velocity propagation in $\\Omega$ and is given by:\n",
    "\n",
    "\\begin{equation}\n",
    "v_{max}=\\max_{(x,z)\\in \\Omega}\\left\\vert c(x,z) \\right\\vert.\n",
    "\\end{equation}\n",
    "\n",
    "The choice of $\\Delta t$ respecting the CFL condition defines the number of timesteps $NT$:\n",
    "\n",
    "\\begin{equation}\n",
    "\\Delta t =\\frac{T}{NT}.\n",
    "\\end{equation}\n",
    "\n",
    "In all the simulations we employ $\\nu=0.4$. In this way, the temporal parameters are given by:\n",
    "\n",
    "- $\\Delta t$ $\\approx$ 0.0016 s = 1.6 ms;\n",
    "- $NT$ = 626.\n",
    "\n",
    " The source $f(x, z, t)$  will be a Ricker source with the following properties:\n",
    "\n",
    "- Postion at $x:$ $\\bar{x} = 500 m = 0.5 Km$;\n",
    "- Position at $z:$ $\\bar{z} = 10 m = 0.01 Km$;\n",
    "- Peak frequence: $f_{0} = 10 Hz = 0.01 Khz$;\n",
    "\n",
    "The graph of $f(\\bar{x}, \\bar{z}, t)$ will be generated when building the code. We employ a synthetic velocity model $c(x,z)$ with the following properties:\n",
    "\n",
    "- Minimum propagation speed: $v_{min} = 1500 m/s = 1,5 Km/s$;\n",
    "- Maximum propagation speed: $v_{max} = 2500 m/s = 2,5 Km/s$;\n",
    "\n",
    "The figure of the velocity profile will be generated when building the code. We will consider 'receivers' along the $x$ direction (at all discrete points between $0.0$ Km and $1.0$ Km) at the depth $z=0.01$ Km, where we measure the displacement $u(x,z,t)$ throughout the time integration. Based on these values at the receivers we bild a $seismogram$ at the end of the integration."
   ]
  },
  {
   "cell_type": "markdown",
   "metadata": {},
   "source": [
    "# 1.5 - Numerical Simulations\n",
    "\n",
    "In the numerical simulations, we initially import the packages of interest, in particular, those that are part of the Devito library. First we import the basic Python packages."
   ]
  },
  {
   "cell_type": "code",
   "execution_count": 1,
   "metadata": {},
   "source": [
    "# NBVAL_IGNORE_OUTPUT\n",
    "\n",
    "import numpy                   as np\n",
    "import matplotlib.pyplot       as plot\n",
    "import math                    as mt\n",
    "import matplotlib.ticker       as mticker    \n",
    "from   mpl_toolkits.axes_grid1 import make_axes_locatable\n",
    "from   matplotlib              import cm"
   ],
   "outputs": []
  },
  {
   "cell_type": "markdown",
   "metadata": {},
   "source": [
    "From Devito's library of examples, we import some specific functions, such as:\n",
    "\n",
    "- *TimeAxis* which generates a temporal structure;\n",
    "- *RickerSource* for the setup of the source term;\n",
    "- *Receiver* which generates a structure of receivers;\n",
    "\n",
    "So, we import these sample libraries and other importants libraries with the following commands:"
   ]
  },
  {
   "cell_type": "code",
   "execution_count": 2,
   "metadata": {},
   "source": [
    "# NBVAL_IGNORE_OUTPUT\n",
    "\n",
    "%matplotlib inline\n",
    "from   examples.seismic  import TimeAxis\n",
    "from   examples.seismic  import RickerSource\n",
    "from   examples.seismic  import Receiver\n",
    "from   devito            import SubDomain, Grid, NODE, TimeFunction, Function, Eq, solve, Operator"
   ],
   "outputs": []
  },
  {
   "cell_type": "markdown",
   "metadata": {},
   "source": [
    "Previously we used the expression *configuration ['log-level']='PERF'*, whose objective is that during execution we can verify the execution parameters of the operators used. We define the spatial parameters to be used in the simulations. In Devito, the mesh data must be defined taking into account *meter (m)* as the unit of measurement. Thus, we have the following variables:\n",
    "\n",
    "- *nptx* and *nptz* correspond to the number of points (nx+1 and nz+1) in the $x$ and $z$ directions, respectively;\n",
    "- *x0* and *x1* determine the starting and ending point in the direction $x$;\n",
    "- *z0* and *z1* determine the starting and ending points in the $z$ direction;\n",
    "- *compx* and *compz* the lengths of the domain in the directions $x$ and $z$, respectively. These values are obtained from *x0*, *x1*, *z0* and *z1*;\n",
    "- *hx* and *hz* correspond to $\\Delta x$ and $\\Delta z$, respectively. These values are calculated in terms of the start/end points and the number of points in each direction, respectively;\n",
    "\n",
    "These variables are defined in the code as follows:"
   ]
  },
  {
   "cell_type": "code",
   "execution_count": 3,
   "metadata": {},
   "source": [
    "nptx   =  101\n",
    "nptz   =  101\n",
    "x0     =  0.\n",
    "x1     =  1000. \n",
    "compx  =  x1-x0\n",
    "z0     =  0.\n",
    "z1     =  1000.\n",
    "compz  =  z1-z0;\n",
    "hx     =  (x1-x0)/(nptx-1)\n",
    "hz     =  (z1-z0)/(nptz-1)"
   ],
   "outputs": []
  },
  {
   "cell_type": "markdown",
   "metadata": {},
   "source": [
    "Once the spatial parameters are defined, we start the construction of the *spatial grid* using the Devito DSL. The required parameters are:\n",
    "\n",
    "- *origin* is the point of origin of the grid;\n",
    "- *extent* is the vector with the lengths of the domain in each of the directions;\n",
    "- *shape* is the vector with the number of points in each direction;\n",
    "- *spacing* is the vector with the spacing in each of the directions;\n",
    "\n",
    "These parameters are set as follows:"
   ]
  },
  {
   "cell_type": "code",
   "execution_count": 4,
   "metadata": {},
   "source": [
    "origin  = (x0,z0)\n",
    "extent  = (compx,compz)\n",
    "shape   = (nptx,nptz)\n",
    "spacing = (hx,hz)"
   ],
   "outputs": []
  },
  {
   "cell_type": "markdown",
   "metadata": {},
   "source": [
    "Once the mesh parameters are built, we can define the structures that represent $\\Omega$ subdomains, that is, particular regions of $\\Omega$, named *subdomains*. In the present notebook, there is no need to split  the domain in particular subregions, so we define a single *subdomain* that correponds to the full domain $\\Omega$. This *subdomain* is built with the following command:"
   ]
  },
  {
   "cell_type": "code",
   "execution_count": 5,
   "metadata": {},
   "source": [
    "class d0domain(SubDomain):\n",
    "    name = 'd0'\n",
    "    def define(self, dimensions):\n",
    "        x, z = dimensions\n",
    "        return {x: z, z: z}\n",
    "d0_domain = d0domain()"
   ],
   "outputs": []
  },
  {
   "cell_type": "markdown",
   "metadata": {},
   "source": [
    "After defining the spatial parameters and *subdomains*, we generate the *spatial grid*:"
   ]
  },
  {
   "cell_type": "code",
   "execution_count": 6,
   "metadata": {},
   "source": [
    "grid = Grid(origin=origin, extent=extent, shape=shape, subdomains=(d0_domain))"
   ],
   "outputs": []
  },
  {
   "cell_type": "markdown",
   "metadata": {},
   "source": [
    "The velocity field is set bellow, representing two different layers:"
   ]
  },
  {
   "cell_type": "code",
   "execution_count": 7,
   "metadata": {},
   "source": [
    "v0 = np.zeros((nptx,nptz))                     \n",
    "p0 = 0    \n",
    "p1 = int((1/2)*nptz)\n",
    "p2 = nptz  \n",
    "v0[0:nptx,p0:p1] = 1.5\n",
    "v0[0:nptx,p1:p2] = 2.5"
   ],
   "outputs": []
  },
  {
   "cell_type": "markdown",
   "metadata": {},
   "source": [
    "Below we include a routine to plot the velocity field."
   ]
  },
  {
   "cell_type": "code",
   "execution_count": 8,
   "metadata": {},
   "source": [
    "def graph2dvel(vel):\n",
    "        plot.figure()\n",
    "        plot.figure(figsize=(16,8))\n",
    "        fscale =  1/10**(3)\n",
    "        scale  = np.amax(vel)\n",
    "        extent = [fscale*x0,fscale*x1, fscale*z1, fscale*z0]\n",
    "        fig = plot.imshow(np.transpose(vel), vmin=0.,vmax=scale, cmap=cm.seismic, extent=extent)\n",
    "        plot.gca().xaxis.set_major_formatter(mticker.FormatStrFormatter('%.1f km'))\n",
    "        plot.gca().yaxis.set_major_formatter(mticker.FormatStrFormatter('%.1f km'))\n",
    "        plot.title('Velocity Profile')\n",
    "        plot.grid()\n",
    "        ax = plot.gca()\n",
    "        divider = make_axes_locatable(ax)\n",
    "        cax = divider.append_axes(\"right\", size=\"5%\", pad=0.05)\n",
    "        cbar = plot.colorbar(fig, cax=cax, format='%.2e')\n",
    "        cbar.set_label('Velocity [km/s]')\n",
    "        plot.show()"
   ],
   "outputs": []
  },
  {
   "cell_type": "markdown",
   "metadata": {},
   "source": [
    "Below we include the plot of velocity field."
   ]
  },
  {
   "cell_type": "code",
   "execution_count": 9,
   "metadata": {},
   "source": [
    "# NBVAL_IGNORE_OUTPUT\n",
    "\n",
    "graph2dvel(v0)"
   ],
   "outputs": []
  },
  {
   "cell_type": "markdown",
   "metadata": {},
   "source": [
    "To build the *temporal grid* we use the command *TimeAxis*. Before using  *TimeAxis*, we need to set the following parameters:\n",
    "\n",
    "- *t0* is the initial time simulation in milliseconds (ms);\n",
    "- *tn* is the final time simulation in milliseconds (ms);\n",
    "- *CFL* is the numerical value that imposes a restriction on the size of the time step, in order to obtain stability of the method;\n",
    "- *vmax* denotes the maximum velocity propagation. This value is obtained by analyzing the maximum value of the *vel* array;\n",
    "- *dtmax* is the upper limit for $\\Delta t$. This value is constructed from the *hx*, *hy* and *vmax* values.\n",
    "- *ntmax* is the number of time steps required to reach time $t_ {F}$;\n",
    "- dt0 is the value of$\\Delta t$ that can be used in the numerical method and that guarantees its stability;\n",
    "\n",
    "The parameters mentioned above are given by:"
   ]
  },
  {
   "cell_type": "code",
   "execution_count": 10,
   "metadata": {},
   "source": [
    "t0    = 0.\n",
    "tn    = 1000.   \n",
    "CFL   = 0.4\n",
    "vmax  = np.amax(v0) \n",
    "dtmax = np.float64((min(hx,hz)*CFL)/(vmax))\n",
    "ntmax = int((tn-t0)/dtmax)+1\n",
    "dt0   = np.float64((tn-t0)/ntmax)"
   ],
   "outputs": []
  },
  {
   "cell_type": "markdown",
   "metadata": {},
   "source": [
    "To generate the *temporal grid* we use the variables given above and allocate them to some local variables of the *TimeAxis* function:\n",
    "\n",
    "- The start time *t0* is assigned to the local variable *start*;\n",
    "- The final time *tn* is assigned to the local variable *stop*;\n",
    "- The local variable *num* corresponds to the total number of steps in time,*ntmax*, plus 1, where this increase represents the initial time step.\n",
    "\n",
    "We can then generate the *time_range* as follows:"
   ]
  },
  {
   "cell_type": "code",
   "execution_count": 11,
   "metadata": {},
   "source": [
    "# NBVAL_IGNORE_OUTPUT\n",
    "\n",
    "time_range = TimeAxis(start=t0,stop=tn,num=ntmax+1)\n",
    "nt         = time_range.num - 1"
   ],
   "outputs": []
  },
  {
   "cell_type": "markdown",
   "metadata": {},
   "source": [
    "Once we have defined the spatial and temporal structures, we need to know the symbolic values that are associated with these grids:\n",
    "\n",
    "- *hxs* and *hzs* represent the symbolic values of the *hx* and *hz* parameters, respectively;\n",
    "- *x* and *z* represent the symbolic values of the variables $x$ and $z$. We emphasize that in Devito we do not have the explicit values of $x$ and $z$, but their position in the spatial grid, that is, *x* and *z* are integer values and mark positions in the $x*hx$ grid and $z*hz$;\n",
    "- *t* is the symbolic representation of the temporal dimension, similar to that represented by the variables *x* and *z* in the spatial dimension. *t* is also an integer position and represents $t*dt$;\n",
    "- *dt* is the symbolic representation of $\\Delta t$ time step;\n",
    "\n",
    "These symbolic values are defined with the following commands:"
   ]
  },
  {
   "cell_type": "code",
   "execution_count": 12,
   "metadata": {},
   "source": [
    "(hxs,hzs) = grid.spacing_map  \n",
    "(x, z)    = grid.dimensions     \n",
    "t         = grid.stepping_dim\n",
    "dt        = grid.stepping_dim.spacing"
   ],
   "outputs": []
  },
  {
   "cell_type": "markdown",
   "metadata": {},
   "source": [
    "To generate the Ricker source, we set the parameters:\n",
    "\n",
    "- *f0*, the source frequency in $Khz$;\n",
    "- *nsource* is the number of sources we want to include in the simulation;\n",
    "- *xposf* is the position in meters of the source in the direction $x$. This position can be defined by a point value (when choosing 1 source) or a vector of positions (when choosing more than 1 source);\n",
    "- *zposf* is the position in meters of the source in the $z$ direction. This position can be defined by a point value (when choosing 1 source) or a vector of positions (when choosing more than 1 source);\n",
    "\n",
    "**Observation 1:** *xposf* and *zposf* are associated as follows: these generate the ordered pairs where the sources are positioned, that is, when we define these variables we are defining the positioning of the source(s).\n",
    "\n",
    "**Observation 2:** The Ricker source will be used to compose the external force term $f(x, z, t)$ that appears in the acoustic equation.\n",
    "\n",
    "We choose a single source, with frequency of $0.005Khz$, positioned at $\\bar{x}$ = 500m and $\\bar{z}$ = 10m."
   ]
  },
  {
   "cell_type": "code",
   "execution_count": 13,
   "metadata": {},
   "source": [
    "f0      = 0.01\n",
    "nsource = 1\n",
    "xposf   = 0.5*compx\n",
    "zposf   = hz"
   ],
   "outputs": []
  },
  {
   "cell_type": "markdown",
   "metadata": {},
   "source": [
    "Ricker's source is generated by the class *RickerSource* whose local variables are:\n",
    "\n",
    "- *name* is the symbolic name of the source;\n",
    "- *grid* is the grid where the font will be placed;\n",
    "- *f0* is the frequency of the source;\n",
    "- *npoint* is the number of fonts that will be placed;\n",
    "- *time_range* is the structure that contains the time informations that we are using in our simulations;\n",
    "- *staggered* is the type of positioning of the points;\n",
    "- *src.coordinates.data[:, 0]* is the positioning of the source in the $x$ direction;\n",
    "- *src.coordinates.data[:, 1]* is the positioning of the source in the $z$ direction;\n",
    "\n",
    "We choose the following values for the local variables of the *RickerSource* command:\n",
    "\n",
    "- *name=src;*\n",
    "- *grid=grid;*\n",
    "- *f0=f0;*\n",
    "- *npoint=nsource*;\n",
    "- *time_range=time_range;*\n",
    "- *staggered=NODE;* We use the NODE option which is for grid points of type *non-staggered *;\n",
    "- *src.coordinates.data [:, 0]=xposf;*\n",
    "- *src.coordinates.data [:, 1]= zposf;*\n",
    "\n",
    "With the above definitions we generate the Ricker font as follows:"
   ]
  },
  {
   "cell_type": "code",
   "execution_count": 14,
   "metadata": {},
   "source": [
    "src = RickerSource(name='src',grid=grid,f0=f0,npoint=nsource,time_range=time_range,staggered=NODE,dtype=np.float64)\n",
    "src.coordinates.data[:, 0] = xposf\n",
    "src.coordinates.data[:, 1] = zposf"
   ],
   "outputs": []
  },
  {
   "cell_type": "markdown",
   "metadata": {},
   "source": [
    "In order to set the receivers we need to define:\n",
    "\n",
    "- *nrec*, the number of receivers that we want to insert in the grid;\n",
    "- *nxpos*,the position in meters of receivers in the direction $x$. This position can be defined by a point value (when choosing 1 receiver) or a vector of positions (when choosing more than 1 receivers);\n",
    "- *nzpos*, the position in meters of receivers in the $z$ direction. This position can be defined by a point value (when choosing 1 receiver) or a vector of positions (when choosing more than 1 receivers);\n",
    "\n",
    "**Note:** *nxpos* and *nzpos* are associated as follows: these generate the ordered pairs where the receivers are positioned, that is, when we define these variables we are defining the positioning of the receiver(s).\n",
    "\n",
    "Below we include the plot of Ricker source."
   ]
  },
  {
   "cell_type": "code",
   "execution_count": 15,
   "metadata": {},
   "source": [
    "# NBVAL_IGNORE_OUTPUT\n",
    "\n",
    "src.show()"
   ],
   "outputs": []
  },
  {
   "cell_type": "markdown",
   "metadata": {},
   "source": [
    "In our case, we choose the number of grid points in the $x$ direction for the number of receivers, which are  positioned along the grid line in the $x$ direction at the height $\\bar{z}$ = 10m. In this way our variables are chosen as:"
   ]
  },
  {
   "cell_type": "code",
   "execution_count": 16,
   "metadata": {},
   "source": [
    "nrec   = nptx\n",
    "nxpos  = np.linspace(x0,x1,nrec)\n",
    "nzpos  = hz"
   ],
   "outputs": []
  },
  {
   "cell_type": "markdown",
   "metadata": {},
   "source": [
    "Receivers are generated by the command *Receiver* whose local variables are:\n",
    "\n",
    "- *name* is the symbolic name of the Receiver;\n",
    "- *grid* is the grid where the receivers will be placed;\n",
    "- *npoint* is the number of receivers that will be placed;\n",
    "- *time_range* is the structure that contains the time informations that we are using in our simulations;\n",
    "- *staggered* is the type of positioning of the points;\n",
    "- *rec.coordinates.data [:, 0]* is the positioning of receivers in the direction $x$;\n",
    "- *rec.coordinates.data [:, 1]* is the positioning of receivers in the $z$ direction;\n",
    "\n",
    "We employ the following values for the local variables of the *Receiver* command:\n",
    "\n",
    "- *name=rec;*\n",
    "- *grid=grid;*\n",
    "- *npoint=nrec*;\n",
    "- *time_range=time_range;*\n",
    "- *staggered=NODE;* We use the NODE option which is for grid points of type *non-staggered*;\n",
    "- *rec.coordinates.data[:, 0]=nxpos;*\n",
    "- *rec.coordinates.data[:, 1]=nzpos;*\n",
    "\n",
    "We then generate the Receivers:"
   ]
  },
  {
   "cell_type": "code",
   "execution_count": 17,
   "metadata": {},
   "source": [
    "rec = Receiver(name='rec',grid=grid,npoint=nrec,time_range=time_range,staggered=NODE,dtype=np.float64)\n",
    "rec.coordinates.data[:, 0] = nxpos\n",
    "rec.coordinates.data[:, 1] = nzpos"
   ],
   "outputs": []
  },
  {
   "cell_type": "markdown",
   "metadata": {},
   "source": [
    "The next step is to create a variable in which we want to allocate the displacement field, which varies in space and time. It will be a field of type *TimeFunction*. The parameters needed to create a *TimeFunction* are:\n",
    "\n",
    "- *name* is the symbolic name that is given to this field;\n",
    "- *grid* is the spatial and temporal grid in which this field will be evaluated;\n",
    "- *time_order* is the order of approximation of the time derivatives;\n",
    "- *space_order* is the order of approximation of spatial derivatives;\n",
    "- *staggered* is the type of positioning of the points (NODE means that the variables are located at the grid points);\n"
   ]
  },
  {
   "cell_type": "code",
   "execution_count": 18,
   "metadata": {},
   "source": [
    "u = TimeFunction(name=\"u\",grid=grid,time_order=2,space_order=2,staggered=NODE,dtype=np.float64)"
   ],
   "outputs": []
  },
  {
   "cell_type": "markdown",
   "metadata": {},
   "source": [
    "We also need to create a field for the wave propagation velocity, a field which will not change over time. Therefore it is defined as a *Function* type field. The parameters needed to create a *Function* are:\n",
    "\n",
    "- *name* is the symbolic name that is given to this field;\n",
    "- *grid* is the spatial grid on which this field will be evaluated;\n",
    "- *space_order* is the order of approximation of spatial derivatives;\n",
    "- *staggered* is the type of positioning of the points;\n",
    "\n",
    "In addition, we need to associate the velocity values previously defined to the field's *.data* property, that is, we just need to do the following operation:\n",
    "\n",
    "- *name.data[:,:]=m[:,:]*,\n",
    "\n",
    "where *m* denotes the array with predefined values. "
   ]
  },
  {
   "cell_type": "code",
   "execution_count": 19,
   "metadata": {},
   "source": [
    "vel0 = Function(name=\"vel0\",grid=grid,space_order=2,staggered=NODE,dtype=np.float64)\n",
    "vel0.data[:,:] = v0[:,:]"
   ],
   "outputs": []
  },
  {
   "cell_type": "markdown",
   "metadata": {},
   "source": [
    "Once we have created the Ricker source, we can then create the external force term in the acoustics equation. This insertion of the external force term in the acoustic equation takes into account the discretization of the differential equation. Therefore, it is multiplied by $\\Delta^2 t$ and $c^2(x,z)$.\n",
    "\n",
    "To insert the Ricker source we use the *src.inject*, whose local variables are:\n",
    "\n",
    "- *field* is the field in which the source term will be injected;\n",
    "- *expr* defines the expression of the source to be injected;\n",
    "\n",
    "We set\n",
    "\n",
    "- *field=u.forward*, where * forward * indicates that we are working with field * u * at time * t + 1 *;\n",
    "- *expr=$src*dt^{2}*vel0^{2}$ *, where src represents the Ricker source that was created in a previous structure and $vel0$ denotes the velocity field of the problem;\n",
    "\n",
    "The source term is called *src_term* and it is created as follows:"
   ]
  },
  {
   "cell_type": "code",
   "execution_count": 20,
   "metadata": {},
   "source": [
    "src_term = src.inject(field=u.forward,expr=src*dt**2*vel0**2)"
   ],
   "outputs": []
  },
  {
   "cell_type": "markdown",
   "metadata": {},
   "source": [
    "To define the Receivers we use the structure called *rec.interpolate*. We need to define the expression *expr* to\n",
    "be computed at the receivers location, which in this case is the value of the displacement.\n",
    "\n",
    "In this way, the Receivers term is named *rec_term* and is created as follows:"
   ]
  },
  {
   "cell_type": "code",
   "execution_count": 21,
   "metadata": {},
   "source": [
    "rec_term = rec.interpolate(expr=u)"
   ],
   "outputs": []
  },
  {
   "cell_type": "markdown",
   "metadata": {},
   "source": [
    "We now create the acoustic equation without the external force term. As defined previusly, *u* represents the displacement field and *vel0* the field that carries the velocity information. \n",
    "\n",
    "- The structure that creates Equations in Devito is *Eq(eq)*, where *eq* is the equation we want to assign;\n",
    "- .dt2 calculates the second temporal derivative of the field it is applied to;\n",
    "- .laplace builds the spatial Laplacian operator of a given field. In the present case, this operator is .dx2 + .dz2;\n",
    "\n",
    "The acoustic equation without the source term has the following form:\n",
    "\n",
    "- $ u_ {tt} - c ^ {2} (u_ {xx} + u_ {zz}) $\n",
    "\n",
    "Using Devito's notation, we have\n",
    "\n",
    "- eq = u.dt2 - vel0 * vel0 * u.laplace\n",
    "\n",
    "Then, using the operator *Eq(eq)*  we create the *pde* that represents the acoustic equation without the source term:"
   ]
  },
  {
   "cell_type": "code",
   "execution_count": 22,
   "metadata": {},
   "source": [
    "pde = Eq(u.dt2 - u.laplace*vel0**2)"
   ],
   "outputs": []
  },
  {
   "cell_type": "markdown",
   "metadata": {},
   "source": [
    "For Devito to solve a predefined *pde* we use the expression *solve(pde,field)* where the parameters are the equation we want to solve (*pde*) and the field being  updated (*field1*). In our case, we want to solve the *pde* in the *u.forward* field, so we have\n",
    "\n",
    "- solve(pde,u.forward)\n",
    "\n",
    "Now we need Devito to assign this solution to a field, where we use the command *Eq()* again, with a few more options: more precisely we will have *Eq(field2,eq2,subdomain)*, where *field2* is the field who will receive the solution of *eq2* computed in the given *subdomain*. Since the only subdomain we have is *d0*,we define the expression of the subdomain as:\n",
    "\n",
    "- subdomain=grid.subdomains ['d0']\n",
    "\n",
    "Altogether we define the *stencil* for the acoustic problem:"
   ]
  },
  {
   "cell_type": "code",
   "execution_count": 23,
   "metadata": {},
   "source": [
    "stencil  =  Eq(u.forward, solve(pde,u.forward),subdomain = grid.subdomains['d0'])"
   ],
   "outputs": []
  },
  {
   "cell_type": "markdown",
   "metadata": {},
   "source": [
    "We also need to create the boundary conditions.\n",
    "\n",
    "The *u* field is such that *u=u[t, x, y]* where *(t, x, y)* are integer positions. We know that $x\\in \\{0,nptx \\}$ and $z\\in \\{0,nptz \\}$. For the term $t$ the field *u* a priori stores only 3 values of *t*, since *time_order=2*. These values are:\n",
    "\n",
    "- *u[t-1, x, z]* or *u.backward* is the solution at the instant *t-1*;\n",
    "- *u[t, x, z]* or *u* is the solution at instant *t*;\n",
    "- *u[t + 1, x, z]* or *u.forward* is the solution at the instant *t+1*;\n",
    "\n",
    "We know that the first and last points of the mesh in the direction $x$ are associated with positions *0* and *nptx-1*. Similarly, the first and last point of the mesh in the $z$ direction are associated with positions *0* and *nptz-1*. Using the structure of the command *Eq(field,value)* we have that the condition of null Dirichilet can be described as:\n",
    "\n",
    "- *Eq(u[t+1,0,y],0.);*\n",
    "- *Eq(u[t+1,nptx-1,y],0.);*\n",
    "- *Eq(u[t+1,x,npty-1],0.);*\n",
    "\n",
    "The free-surface condition (using a backward discretization in the *z* direction) is given by:\n",
    "\n",
    "- *Eq(u[t+1,x,0],u[t+1,x,1]);*\n",
    "\n",
    "Putting all these boundary conditions together in a term named *bc* we have to:"
   ]
  },
  {
   "cell_type": "code",
   "execution_count": 24,
   "metadata": {},
   "source": [
    "bc  = [Eq(u[t+1,0,z],0.),Eq(u[t+1,nptx-1,z],0.),Eq(u[t+1,x,nptz-1],0.),Eq(u[t+1,x,0],u[t+1,x,1])]"
   ],
   "outputs": []
  },
  {
   "cell_type": "markdown",
   "metadata": {},
   "source": [
    "We then define the operator (*op*) that will combine the acoustic equation with the source term, boundary conditions and receivers.\n",
    "\n",
    "- 1. The acoustic wave equation: *[stencil];*\n",
    "- 2. Source term: *src_term;*\n",
    "- 3. Boundary conditions: *bc;*\n",
    "- 4. Receivers: *rec_term;*\n",
    "- 5. To replace any symbolic terms associated with *grid*: *subs=grid.spacing_map;*\n",
    "\n",
    "So we define the *op* generated by the following command:"
   ]
  },
  {
   "cell_type": "code",
   "execution_count": 25,
   "metadata": {
    "scrolled": true
   },
   "source": [
    "# NBVAL_IGNORE_OUTPUT\n",
    "\n",
    "op  = Operator([stencil] + src_term + bc + rec_term,subs=grid.spacing_map)"
   ],
   "outputs": []
  },
  {
   "cell_type": "markdown",
   "metadata": {},
   "source": [
    "Before starting we reset the field *u* in all its values."
   ]
  },
  {
   "cell_type": "code",
   "execution_count": 26,
   "metadata": {},
   "source": [
    "u.data[:] = 0."
   ],
   "outputs": []
  },
  {
   "cell_type": "markdown",
   "metadata": {},
   "source": [
    "We assign to *op* the number of time steps it must execute, using the local variable *time*, and the size of the time step, using the local variable *dt*, so that:\n",
    "\n",
    "- *time=nt*;\n",
    "- *dt=dt0*;\n"
   ]
  },
  {
   "cell_type": "code",
   "execution_count": 27,
   "metadata": {},
   "source": [
    "# NBVAL_IGNORE_OUTPUT\n",
    "\n",
    "op(time=nt,dt=dt0)"
   ],
   "outputs": []
  },
  {
   "cell_type": "markdown",
   "metadata": {},
   "source": [
    "To view the result of the displacement field at the end time, let's create a plot routine as follows:"
   ]
  },
  {
   "cell_type": "code",
   "execution_count": 28,
   "metadata": {},
   "source": [
    "def graph2d(U):    \n",
    "    plot.figure()\n",
    "    plot.figure(figsize=(16,8))\n",
    "    fscale =  1/10**(3)\n",
    "    scale  = np.amax(U)/10.\n",
    "    extent = [fscale*x0,fscale*x1,fscale*z1,fscale*z0]\n",
    "    fig = plot.imshow(np.transpose(U),vmin=-scale, vmax=scale, cmap=cm.seismic, extent=extent)\n",
    "    plot.gca().xaxis.set_major_formatter(mticker.FormatStrFormatter('%.1f km'))\n",
    "    plot.gca().yaxis.set_major_formatter(mticker.FormatStrFormatter('%.1f km'))\n",
    "    plot.axis('equal')\n",
    "    plot.title('Map - Acoustic Problem with Devito')\n",
    "    plot.grid()\n",
    "    ax = plot.gca()\n",
    "    divider = make_axes_locatable(ax)\n",
    "    cax = divider.append_axes(\"right\", size=\"5%\", pad=0.05)\n",
    "    cbar = plot.colorbar(fig, cax=cax, format='%.2e')\n",
    "    cbar.set_label('Displacement [km]')\n",
    "    plot.draw()\n",
    "    plot.show()"
   ],
   "outputs": []
  },
  {
   "cell_type": "markdown",
   "metadata": {},
   "source": [
    "To access the solution in the *u* field, we will access the *0* position in *u.data*, that is,\n",
    "\n",
    "-*u.data [0,:,:]*\n",
    "\n",
    "We pass this value as an argument to the function *graph2d(U)*."
   ]
  },
  {
   "cell_type": "code",
   "execution_count": 29,
   "metadata": {
    "scrolled": false
   },
   "source": [
    "# NBVAL_IGNORE_OUTPUT\n",
    "\n",
    "graph2d(u.data[0,:,:])"
   ],
   "outputs": []
  },
  {
   "cell_type": "markdown",
   "metadata": {},
   "source": [
    "Realize that the solution has a large amount of noise, which is generated by the reflections at the boudaries. The main objective of this series of notebooks is to present several numerical schemes designed to reduce the wave reflections on the computational boundaries of the domain during simulation.\n",
    "\n",
    "We now create a routine to plot the shot records of the Receivers"
   ]
  },
  {
   "cell_type": "code",
   "execution_count": 30,
   "metadata": {},
   "source": [
    "def graph2drec(rec):    \n",
    "        plot.figure()\n",
    "        plot.figure(figsize=(16,8))\n",
    "        fscaled = 1/10**(3)\n",
    "        fscalet = 1/10**(3)\n",
    "        scale   = np.amax(rec)/10.\n",
    "        extent  = [fscaled*x0,fscaled*x1, fscalet*tn, fscalet*t0]\n",
    "        fig = plot.imshow(rec, vmin=-scale, vmax=scale, cmap=cm.seismic, extent=extent)\n",
    "        plot.gca().xaxis.set_major_formatter(mticker.FormatStrFormatter('%.1f km'))\n",
    "        plot.gca().yaxis.set_major_formatter(mticker.FormatStrFormatter('%.1f s'))\n",
    "        plot.axis('equal')\n",
    "        plot.title('Receivers Signal Profile - Devito')\n",
    "        ax = plot.gca()\n",
    "        divider = make_axes_locatable(ax)\n",
    "        cax = divider.append_axes(\"right\", size=\"5%\", pad=0.05)\n",
    "        cbar = plot.colorbar(fig, cax=cax, format='%.2e')\n",
    "        plot.show()"
   ],
   "outputs": []
  },
  {
   "cell_type": "markdown",
   "metadata": {},
   "source": [
    "To access the result of the displacement in the receivers, we access the term *rec.data* and pass this term as an argument to the function *graph2drec*."
   ]
  },
  {
   "cell_type": "code",
   "execution_count": 31,
   "metadata": {
    "scrolled": false
   },
   "source": [
    "# NBVAL_IGNORE_OUTPUT\n",
    "\n",
    "graph2drec(rec.data)"
   ],
   "outputs": []
  },
  {
   "cell_type": "markdown",
   "metadata": {},
   "source": [
    "From this plot we can clearly see the reflections of the waves at the lateral boundaries."
   ]
  },
  {
   "cell_type": "code",
   "execution_count": 32,
   "metadata": {},
   "source": [
    "assert np.isclose(np.linalg.norm(rec.data), 990, rtol=1)"
   ],
   "outputs": []
  },
  {
   "cell_type": "markdown",
   "metadata": {},
   "source": [
    "# 1.6 - Conclusions\n",
    "\n",
    "We conclude our introduction to the Acoustic Problem, including simulations in the Devito environment, highlighting the following items:\n",
    "\n",
    "- The simulation time when using Devito is small, when compared to routines that use pure Python;\n",
    "- Devito has a simplified language for building operators and equations, once the user acquires familiarity with the package;\n",
    "- When no reflection reduction strategy is used, at the end of the simulation we observe a large amount of noise in our image;\n",
    "- The constructions employed here can be used as a basis for implementing the methods with absorbing boundary conditions or absorbing boundary layers;"
   ]
  },
  {
   "cell_type": "markdown",
   "metadata": {},
   "source": [
    "# 1.7 - References\n",
    "\n",
    "- Berenger, J.-P. (1994). \"A perfectly matched layer for the absorption of electromagnetic waves\", Journal of Computational Physics, 114(2), 185-200. DOI: 10.1006/jcph.1994.1159. <a href=\"https://www.sciencedirect.com/science/article/pii/S0021999184711594\">Reference Link.</a>\n",
    "\n",
    "- Clayton, R., & Engquist, B. (1977). \"Absorbing boundary conditions for acoustic and elastic wave equations\", Bulletin of the seismological society of America, 67(6), 1529-1540. <a href=\"https://pubs.geoscienceworld.org/ssa/bssa/article/67/6/1529/117727?casa_token=4TvjJGJDLQwAAAAA:Wm-3fVLn91tdsdHv9H6Ek7tTQf0jwXVSF10zPQL61lXtYZhaifz7jsHxqTvrHPufARzZC2-lDw\">Reference Link.</a>\n",
    "\n",
    "- Engquist, B., & Majda, A. (1979). \"Radiation boundary conditions for acoustic and elastic wave calculations,\" Communications on pure and applied mathematics, 32(3), 313-357. DOI: 10.1137/0727049. <a href=\"https://epubs.siam.org/doi/abs/10.1137/0727049\">Reference Link.</a>\n",
    "\n",
    "- Fichtner, A. (2010). ”Full seismic waveform modelling and inversion”, Springer Science and Business Media. <a href=\"https://www.springer.com/gp/book/9783642158063\">Reference Link.</a>\n",
    "\n",
    "- Grote, M. J. and Sim, I. (2010). \"Efficient PML for the wave equation\", arXiv preprint arXiv:1001.0319. <a href=\"https://arxiv.org/abs/1001.0319\">Reference Link.</a>\n",
    "\n",
    "- Higdon, R. L. (1987). \"Absorbing boundary conditions for difference approximations to the multidimensional wave equation,\" Mathematics of computation, 47(176), 437-459. DOI: 10.1090/S0025-5718-1986-0856696-4. <a href=\"https://www.ams.org/journals/mcom/1986-47-176/S0025-5718-1986-0856696-4/\">Reference Link.</a>\n",
    "\n",
    "- Higdon, Robert L. \"Numerical absorbing boundary conditions for the wave equation,\" Mathematics of computation, v. 49, n. 179, p. 65-90, 1987. DOI: 10.1090/S0025-5718-1987-0890254-1. <a href=\"https://www.ams.org/journals/mcom/1987-49-179/S0025-5718-1987-0890254-1/\">Reference Link.</a>\n",
    "\n",
    "- Liu, Y., & Sen, M. K. (2018). \"An improved hybrid absorbing boundary condition for wave equation modeling,\" Journal of Geophysics and Engineering, 15(6), 2602-2613. DOI: 10.1088/1742-2140/aadd31. <a href=\"https://academic.oup.com/jge/article/15/6/2602/5209803\">Reference Link.</a>\n",
    "\n",
    "- Sochaki, J., Kubichek, R., George, J., Fletcher, W.R. and Smithson, S. (1987). \"Absorbing boundary conditions and surface waves,\" Geophysics, 52(1), 60-71. DOI: 10.1190/1.1442241. <a href=\"https://library.seg.org/doi/abs/10.1190/1.1442241\">Reference Link.</a>"
   ]
  }
 ],
 "metadata": {
  "celltoolbar": "Raw Cell Format",
  "hide_input": false,
  "kernelspec": {
   "display_name": "Python 3",
   "language": "python",
   "name": "python3"
  },
  "language_info": {
   "codemirror_mode": {
    "name": "ipython",
    "version": 3
   },
   "file_extension": ".py",
   "mimetype": "text/x-python",
   "name": "python",
   "nbconvert_exporter": "python",
   "pygments_lexer": "ipython3",
   "version": "3.8.5"
  },
  "latex_envs": {
   "LaTeX_envs_menu_present": true,
   "autoclose": false,
   "autocomplete": true,
   "bibliofile": "biblio.bib",
   "cite_by": "apalike",
   "current_citInitial": 1,
   "eqLabelWithNumbers": true,
   "eqNumInitial": 1,
   "hotkeys": {
    "equation": "Ctrl-E",
    "itemize": "Ctrl-I"
   },
   "labels_anchors": false,
   "latex_user_defs": false,
   "report_style_numbering": false,
   "user_envs_cfg": false
  },
  "widgets": {
   "state": {},
   "version": "1.1.2"
  }
 },
 "nbformat": 4,
 "nbformat_minor": 1
}
