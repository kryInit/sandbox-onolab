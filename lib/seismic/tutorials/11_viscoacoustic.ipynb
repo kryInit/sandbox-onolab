{
 "cells": [
  {
   "cell_type": "markdown",
   "metadata": {},
   "source": [
    "# 11 - Implementation of a Devito viscoacoustic equations\n",
    "\n",
    "## This tutorial is contributed by SENAI CIMATEC (2020)\n",
    "\n",
    "This tutorial is based on:\n",
    "\n",
    "<br>**Linear inversion in layered viscoacoustic media using a time‐domain method** (1994)\n",
    "<br>Joakim O. Blanch and William W. Symes\n",
    "<br>SEG Technical Program Expanded Abstracts\n",
    "<br>https://doi.org/10.1190/1.1822695\n",
    "\n",
    "<br>**True-amplitude prestack depth migration** (2007)\n",
    "<br>Feng Deng and George A. McMechan \n",
    "<br>GEOPHYSICS Technical Papers \n",
    "<br>https://doi.org/10.1190/1.2714334\n",
    "\n",
    "<br>**Attenuation compensation for least-squares reverse time migration using the viscoacoustic-wave equation** (2014)\n",
    "<br>Gaurav Dutta and Gerard T. Schuster\n",
    "<br>GEOPHYSICS Technical Papers\n",
    "<br>https://doi.org/10.1190/geo2013-0414.1\n",
    "\n",
    "<br>**Multiscale viscoacoustic waveform inversion with the second generation wavelet transform and adaptive time–space domain finite-difference method** (2014)\n",
    "<br>Zhiming Ren, Yang Liu,and Qunshan Zhang\n",
    "<br>Geophysical Journal International, Volume 197, Issue 2, 1 May 2014, Pages 948–974\n",
    "<br>https://doi.org/10.1093/gji/ggu024\n",
    "\n",
    "<br>**Viscoacoustic prestack reverse time migration based on the optimal time-space domain high-order finite-difference method** (2014)\n",
    "<br>Yan Zhao, Yang Liu, and Zhi-Ming Ren \n",
    "<br>Appl. Geophys. 11, 50–62. \n",
    "<br>https://doi.org/10.1007/s11770-014-0414-8\n",
    "\n",
    "<br>**A stable and efficient approach of Q reverse time migration** (2018)\n",
    "<br>Yan Zhao, Ningbo Mao, and Zhiming Ren\n",
    "<br>GEOPHYSICS Technical Papers\n",
    "<br>https://doi.org/10.1190/geo2018-0022.1"
   ]
  },
  {
   "cell_type": "markdown",
   "metadata": {},
   "source": [
    "## Introduction \n",
    "\n",
    "The conversion of mechanical energy to heat, occurs during the propagation of seismic waves on the subsurface, due to the viscosity of the rocks. The presence of oil and gas in these rocks causes seismic attenuations. Thus, associated effects, such as dispersion and dissipation, can significantly affect the amplitudes, as well as the phase of the seismic pulse.  However, in the seismic exploration, the subsurface has still been considered as an ideal elastic/acoustic medium, that is, disregarding its mitigating effect. In practice, the propagation of seismic waves on the subsurface is in many ways different from propagation in an ideal solid. \n",
    "\n",
    "For example, some subsurface rocks have anisotropic properties, are heterogeneous, porous and so on. The acoustic/elastic wave equation is not sensitive enough to describe propagation in these more complicated mediums. Generally, the viscosity of materials in the subsurface causes energy dissipation and consequently a decrease in amplitude, in addition to modifying the frequency content of the waves. This phenomenon of energy dissipation of the wave is called seismic absorption or attenuation. \n",
    "\n",
    "The goal of this tutorial is to perform a seismic modeling taking into account the viscosity of the medium, so that it is possible to more accurately simulate the seismic data and consequently build images with better resolution in the processing of this data, in addition to extracting more detailed information on rocky materials through seismic inversion. \n",
    "\n",
    "This tutorial follow three main viscoacoustic approaches in time-space domain:\n",
    "\n",
    "- Blanch and Symes (1995) / Dutta and Schuster (2014)\n",
    "\n",
    "- Ren et al. (2014)\n",
    "\n",
    "- Deng and McMechan (2007)"
   ]
  },
  {
   "cell_type": "markdown",
   "metadata": {},
   "source": [
    "<h1><center>Table of symbols</center></h1>\n",
    "\n",
    "| Symbol &nbsp; &nbsp; &nbsp; &nbsp; | Description\n",
    "| :---         | :---             \n",
    "|$f$                                  |Frequency                                            |\n",
    "|$f_o$                                |Reference frequency                                  |\n",
    "|$\\omega$                             |Angular frenquency                                   |\n",
    "|$\\omega_0$                           |Angular Reference Frequency                          |\n",
    "|$v$                                  |Velocity model                                       |\n",
    "|$v_0$                                |Reference velocity at $\\omega_0$                     |\n",
    "|$\\kappa$                             |Bulk modulus                                         |\n",
    "|$g$                                  |Absorption coefficient                               |\n",
    "|$\\tau$                               |Relaxation time                                      |\n",
    "|$\\tau_\\sigma$                        |Stress relaxation parameter                          |\n",
    "|$\\tau_\\epsilon$                      |Strain relaxation parameter                          |\n",
    "|$Q$                                  |Quality factor                                       |\n",
    "|$\\eta$                               |Viscosity                                            |\n",
    "|$\\rho$                               |Density                                              |\n",
    "|$\\nabla$                             |Nabla operator                                       |\n",
    "|$P({\\bf x},t)$                       |Pressure field                                       |\n",
    "|$r({\\bf x},t)$                       |Memory variable                                      |\n",
    "|${\\bf v}({\\bf x},t)$                 |Particle velocity                                    |\n",
    "|$S({\\bf x}_s,t)$                     |Source                                               |"
   ]
  },
  {
   "cell_type": "markdown",
   "metadata": {},
   "source": [
    "# Seismic modelling with Devito"
   ]
  },
  {
   "cell_type": "markdown",
   "metadata": {},
   "source": [
    "Before start with the viscoacoustic approaches we will describe a setup of seismic modelling with Devito in a simple 2D case. We will create a physical model of our domain and define a single source and an according set of receivers to model for the forward model. But first, we initialize some basic utilities."
   ]
  },
  {
   "cell_type": "code",
   "execution_count": 1,
   "metadata": {},
   "source": [
    "import numpy as np\n",
    "import sympy as sp\n",
    "\n",
    "import matplotlib.pyplot as plt\n",
    "\n",
    "from devito import *\n",
    "from examples.seismic.source import RickerSource, WaveletSource, TimeAxis\n",
    "from examples.seismic import ModelViscoacoustic, plot_image, setup_geometry, plot_velocity"
   ],
   "outputs": []
  },
  {
   "cell_type": "code",
   "execution_count": 2,
   "metadata": {},
   "source": [
    "nx = 300\n",
    "nz = 300\n",
    "\n",
    "# Define a physical size\n",
    "shape = (nx, nz)\n",
    "spacing = (20., 20.)\n",
    "origin = (0., 0.)\n",
    "nlayers = 3\n",
    "nbl = 50\n",
    "space_order = 8\n",
    "dtype = np.float32\n",
    "\n",
    "# Model physical parameters:\n",
    "vp = np.zeros(shape)\n",
    "qp = np.zeros(shape)\n",
    "rho = np.zeros(shape)\n",
    "\n",
    "# Define a velocity profile. The velocity is in km/s\n",
    "vp_top = 1.5\n",
    "vp_bottom = 3.5\n",
    "\n",
    "# Define a velocity profile in km/s\n",
    "v = np.empty(shape, dtype=dtype)\n",
    "v[:] = vp_top  # Top velocity (background)\n",
    "vp_i = np.linspace(vp_top, vp_bottom, nlayers)\n",
    "for i in range(1, nlayers):\n",
    "    v[..., i*int(shape[-1] / nlayers):] = vp_i[i]  # Bottom velocity\n",
    "\n",
    "qp[:] = 3.516*((v[:]*1000.)**2.2)*10**(-6) # Li's empirical formula\n",
    "\n",
    "rho[:] = 0.31*(v[:]*1000.)**0.25 # Gardner's relation"
   ],
   "outputs": []
  },
  {
   "cell_type": "code",
   "execution_count": 3,
   "metadata": {
    "tags": [
     "nbval-ignore-output"
    ]
   },
   "source": [
    "#NBVAL_IGNORE_OUTPUT\n",
    "model = ModelViscoacoustic(space_order=space_order, vp=v, qp=qp, b=1/rho, \n",
    "                           origin=origin, shape=shape, spacing=spacing, \n",
    "                           nbl=nbl)"
   ],
   "outputs": []
  },
  {
   "cell_type": "code",
   "execution_count": 4,
   "metadata": {},
   "source": [
    "#NBVAL_IGNORE_OUTPUT\n",
    "aspect_ratio = model.shape[0]/model.shape[1]\n",
    "\n",
    "plt_options_model = {'cmap': 'jet', 'extent': [model.origin[0], model.origin[0] + model.domain_size[0],\n",
    "                                               model.origin[1] + model.domain_size[1], model.origin[1]]}\n",
    "fig, ax = plt.subplots(nrows=1, ncols=3, figsize=(15, 5))\n",
    "\n",
    "slices = [slice(model.nbl, -model.nbl), slice(model.nbl, -model.nbl)]\n",
    "\n",
    "img1 = ax[0].imshow(np.transpose(model.vp.data[slices]), vmin=1.5, vmax=3.5, **plt_options_model)\n",
    "fig.colorbar(img1, ax=ax[0])\n",
    "ax[0].set_title(r\"V (km/s)\", fontsize=20)\n",
    "ax[0].set_xlabel('X (m)', fontsize=20)\n",
    "ax[0].set_ylabel('Depth (m)', fontsize=20)\n",
    "ax[0].set_aspect('auto')\n",
    "\n",
    "img2 = ax[1].imshow(np.transpose(qp), vmin=15, vmax=220, **plt_options_model)\n",
    "fig.colorbar(img2, ax=ax[1])\n",
    "ax[1].set_title(\"Q\", fontsize=20)\n",
    "ax[1].set_xlabel('X (m)', fontsize=20)\n",
    "ax[1].set_ylabel('Depth (m)', fontsize=20)\n",
    "ax[1].set_aspect('auto')\n",
    "\n",
    "img3 = ax[2].imshow(np.transpose(rho), vmin=1.9, vmax=2.4, **plt_options_model)\n",
    "fig.colorbar(img3, ax=ax[2])\n",
    "ax[2].set_title(r\"Density $\\rho$ (g/cm^3)\", fontsize=20)\n",
    "ax[2].set_xlabel('X (m)', fontsize=20)\n",
    "ax[2].set_ylabel('Depth (m)', fontsize=20)\n",
    "ax[2].set_aspect('auto')\n",
    "\n",
    "plt.tight_layout()"
   ],
   "outputs": []
  },
  {
   "cell_type": "code",
   "execution_count": 5,
   "metadata": {},
   "source": [
    "f0 = 0.005 # peak/dominant frequency \n",
    "b = model.b\n",
    "rho = 1./b\n",
    "\n",
    "# velocity model\n",
    "vp = model.vp\n",
    "lam = vp * vp * rho\n",
    "\n",
    "t_s = (sp.sqrt(1.+1./model.qp**2)-1./model.qp)/f0\n",
    "t_ep = 1./(f0**2*t_s)\n",
    "tt = (t_ep/t_s) - 1.\n",
    "\n",
    "s = model.grid.stepping_dim.spacing\n",
    "damp = model.damp"
   ],
   "outputs": []
  },
  {
   "cell_type": "code",
   "execution_count": 6,
   "metadata": {},
   "source": [
    "# Time step in ms and time range:\n",
    "t0, tn = 0., 2000.\n",
    "dt = model.critical_dt\n",
    "time_range = TimeAxis(start=t0, stop=tn, step=dt)"
   ],
   "outputs": []
  },
  {
   "cell_type": "code",
   "execution_count": 7,
   "metadata": {},
   "source": [
    "from examples.seismic import Receiver\n",
    "\n",
    "def src_rec(p, model):\n",
    "    src = RickerSource(name='src', grid=model.grid, f0=f0, time_range=time_range)\n",
    "    src.coordinates.data[0, :] = np.array(model.domain_size) * .5\n",
    "    src.coordinates.data[0, -1] = 8.  \n",
    "\n",
    "    # Create symbol for receivers\n",
    "    rec = Receiver(name='rec', grid=model.grid, npoint=shape[0], time_range=time_range)\n",
    "\n",
    "    # Prescribe even spacing for receivers along the x-axis\n",
    "    rec.coordinates.data[:, 0] = np.linspace(0, model.domain_size[0], num=shape[0])\n",
    "    rec.coordinates.data[:, 1] = 8.  \n",
    "\n",
    "    src_term = src.inject(field=p.forward, expr=(s*src))\n",
    "    rec_term = rec.interpolate(expr=p)\n",
    "    \n",
    "    return src_term + rec_term, src, rec"
   ],
   "outputs": []
  },
  {
   "cell_type": "markdown",
   "metadata": {},
   "source": [
    "Auxiliary functions for plotting data:"
   ]
  },
  {
   "cell_type": "code",
   "execution_count": 8,
   "metadata": {},
   "source": [
    "def plot_receiver(rec):\n",
    "    rec_plot = rec.resample(num=1001)\n",
    "    scale_for_plot = np.diag(np.linspace(1.0, 2.5, 1001)**2.0)\n",
    "    # Pressure (txx + tzz) data at sea surface\n",
    "    extent = [rec_plot.coordinates.data[0, 0], rec_plot.coordinates.data[-1, 0], 1e-3*tn, t0]\n",
    "    aspect = rec_plot.coordinates.data[-1, 0]/(1e-3*tn)/.5\n",
    "\n",
    "    plt.figure(figsize=(10, 10))\n",
    "    plt.imshow(np.dot(scale_for_plot, rec_plot.data), vmin=-.01, vmax=.01, cmap=\"seismic\",\n",
    "           interpolation='lanczos', extent=extent, aspect=aspect)\n",
    "    plt.ylabel(\"Time (s)\", fontsize=20)\n",
    "    plt.xlabel(\"Receiver position (m)\", fontsize=20)"
   ],
   "outputs": []
  },
  {
   "cell_type": "code",
   "execution_count": 9,
   "metadata": {},
   "source": [
    "def plot_v_and_p(model, v, p):\n",
    "    \n",
    "    slices = [slice(model.nbl, -model.nbl), slice(model.nbl, -model.nbl)]\n",
    "    scale = .5*1e-3\n",
    "\n",
    "    plt_options_model = {'extent': [model.origin[0] , model.origin[0] + model.domain_size[0],\n",
    "                                    model.origin[1] + model.domain_size[1], model.origin[1]]}\n",
    "\n",
    "    fig, ax = plt.subplots(nrows=1, ncols=3, figsize=(15, 7))\n",
    "\n",
    "    ax[0].imshow(np.transpose(v[0].data[0][slices]), vmin=-scale, vmax=scale, cmap=\"RdGy\", **plt_options_model)\n",
    "    ax[0].imshow(np.transpose(model.vp.data[slices]), vmin=1.5, vmax=3.5, cmap=\"jet\", alpha=.5, **plt_options_model)\n",
    "    ax[0].set_aspect('auto')\n",
    "    ax[0].set_xlabel('X (m)', fontsize=20)\n",
    "    ax[0].set_ylabel('Depth (m)', fontsize=20)\n",
    "    ax[0].set_title(r\"$v_{x}$\", fontsize=20)\n",
    "\n",
    "    ax[1].imshow(np.transpose(v[1].data[0][slices]), vmin=-scale, vmax=scale, cmap=\"RdGy\", **plt_options_model)\n",
    "    ax[1].imshow(np.transpose(model.vp.data[slices]), vmin=1.5, vmax=3.5, cmap=\"jet\", alpha=.5, **plt_options_model)\n",
    "    ax[1].set_aspect('auto')\n",
    "    ax[1].set_xlabel('X (m)', fontsize=20)\n",
    "    ax[1].set_title(r\"$v_{z}$\", fontsize=20)\n",
    "\n",
    "    ax[2].imshow(np.transpose(p.data[0][slices]), vmin=-scale, vmax=scale, cmap=\"RdGy\", **plt_options_model)\n",
    "    ax[2].imshow(np.transpose(model.vp.data[slices]), vmin=1.5, vmax=3.5, cmap=\"jet\", alpha=.5, **plt_options_model)\n",
    "    ax[2].set_aspect('auto')\n",
    "    ax[2].set_xlabel('X (m)', fontsize=20)\n",
    "    ax[2].set_title(r\"$P$\", fontsize=20)"
   ],
   "outputs": []
  },
  {
   "cell_type": "markdown",
   "metadata": {},
   "source": [
    "## Equation based on standard linear solid (SLS) rheological model\n",
    "\n",
    "The equations of motion for a viscoacoustic medium can be written as:\n",
    "\n",
    "\\begin{equation}\n",
    "\\left\\{\n",
    "\\begin{array}{lcl}\n",
    "\\frac{\\partial P}{\\partial t} + \\kappa (\\tau + 1)(\\nabla \\cdot {\\bf v}) + r = S({\\bf x}_{s}, t) \\\\\n",
    "\\frac{\\partial {\\bf v}}{\\partial t} + \\frac{1}{\\rho}\\nabla{P} = 0 \\\\\n",
    "\\frac{\\partial r}{\\partial t} + \\frac{1}{\\tau_{\\sigma}} [r + \\tau \\kappa (\\nabla \\cdot {\\bf v})] = 0.\n",
    "\\end{array}\n",
    "\\right.\n",
    "\\end{equation}\n",
    "\n",
    "Where $\\tau = \\tau_{\\epsilon}/\\tau_{\\sigma} -1$ represents the magnitude of  $Q$. $\\tau_{\\epsilon}$ and $\\tau_{\\sigma}$ are, respectively, the stress and strain relaxation parameters, given by:\n",
    "\n",
    "\\begin{equation}\n",
    "\\tau_\\sigma = \\frac{\\sqrt{Q^2+1}-1}{2 \\pi f_0 Q}\n",
    "\\end{equation}\n",
    "and\n",
    "\\begin{equation}\n",
    "\\tau_\\epsilon= \\frac{\\sqrt{Q^2+1}+1}{2\\pi f_0 Q}\n",
    "\\end{equation}\n"
   ]
  },
  {
   "cell_type": "code",
   "execution_count": 10,
   "metadata": {},
   "source": [
    "# Stencil created from Blanch and Symes (1995) / Dutta and Schuster (2014) \n",
    "def SLS(model, p, r, v):\n",
    "\n",
    "    # Bulk modulus\n",
    "    bm = rho * (vp * vp)\n",
    "\n",
    "    # Define PDE to v\n",
    "    pde_v = v.dt + b * grad(p)\n",
    "    u_v = Eq(v.forward, damp * solve(pde_v, v.forward))    \n",
    "\n",
    "    # Define PDE to r\n",
    "    pde_r = r.dt + (1. / t_s) * (r + tt * bm * div(v.forward))\n",
    "    u_r = Eq(r.forward, damp * solve(pde_r, r.forward))\n",
    "\n",
    "    # Define PDE to p\n",
    "    pde_p = p.dt + bm * (tt + 1.) * div(v.forward) + r.forward\n",
    "    u_p = Eq(p.forward, damp * solve(pde_p, p.forward))\n",
    "    \n",
    "    return [u_v, u_r, u_p]"
   ],
   "outputs": []
  },
  {
   "cell_type": "code",
   "execution_count": 11,
   "metadata": {},
   "source": [
    "# Seismic Modelling from Blanch and Symes (1995) / Dutta and Schuster (2014) viscoacoustic wave equation.\n",
    "def modelling_SLS(model):\n",
    "    \n",
    "    # Create symbols for particle velocity, pressure field, memory variable, source and receivers\n",
    "    \n",
    "    v = VectorTimeFunction(name=\"v\", grid=model.grid, time_order=1, space_order=space_order)\n",
    "\n",
    "    p = TimeFunction(name=\"p\", grid=model.grid, time_order=1, space_order=space_order, \n",
    "                     staggered=NODE)\n",
    "\n",
    "    r = TimeFunction(name=\"r\", grid=model.grid, time_order=1, space_order=space_order, \n",
    "                     staggered=NODE)\n",
    "    \n",
    "    # define the source injection and create interpolation expression for receivers\n",
    "    \n",
    "    src_rec_expr, src, rec = src_rec(p, model)\n",
    "    \n",
    "    eqn = SLS(model, p, r, v)\n",
    "    \n",
    "    op = Operator(eqn + src_rec_expr, subs=model.spacing_map)\n",
    "    \n",
    "    op(time=time_range.num-1, dt=dt, src=src, rec=rec)\n",
    "    \n",
    "    return rec, v, p"
   ],
   "outputs": []
  },
  {
   "cell_type": "code",
   "execution_count": 12,
   "metadata": {},
   "source": [
    "#NBVAL_IGNORE_OUTPUT\n",
    "rec, v, p = modelling_SLS(model)"
   ],
   "outputs": []
  },
  {
   "cell_type": "code",
   "execution_count": 13,
   "metadata": {},
   "source": [
    "#NBVAL_IGNORE_OUTPUT\n",
    "plot_receiver(rec)"
   ],
   "outputs": []
  },
  {
   "cell_type": "code",
   "execution_count": 14,
   "metadata": {},
   "source": [
    "assert np.isclose(np.linalg.norm(rec.data), 16, rtol=10)"
   ],
   "outputs": []
  },
  {
   "cell_type": "code",
   "execution_count": 15,
   "metadata": {},
   "source": [
    "#NBVAL_IGNORE_OUTPUT\n",
    "plot_v_and_p(model, v, p)"
   ],
   "outputs": []
  },
  {
   "cell_type": "code",
   "execution_count": 16,
   "metadata": {},
   "source": [
    "assert np.isclose(norm(v[0]), 1.87797, atol=1e-3, rtol=0)"
   ],
   "outputs": []
  },
  {
   "cell_type": "markdown",
   "metadata": {},
   "source": [
    "## Equation based on Kelvin-Voigt (KV) rheological model\n",
    "\n",
    "The viscoacoustic wave equation in time domain is written as:\n",
    "\n",
    "\\begin{equation}\n",
    "\\frac{\\partial^{2}P}{\\partial{t^2}} - v^{2}\\nabla^{2}{P} - \\eta\\nabla^{2}\\left(\\frac{\\partial P}{\\partial t}\\right) = S({\\bf x}_{s}, t),\n",
    "\\end{equation}\n",
    "\n",
    "where $\\eta = \\frac{v^2}{\\omega_{0}Q}$ represents the viscosity of medium.\n",
    "\n",
    "Considering the variable density $\\rho$, the equation can be rewritten as:\n",
    "\n",
    "\\begin{equation}\n",
    "\\frac{\\partial^{2}P}{\\partial{t^2}} - \\kappa \\nabla \\cdot \\frac{1}{\\rho} \\nabla{P} - \\eta \\rho \\nabla \\cdot \\frac{1}{\\rho} \\nabla \\left(\\frac{\\partial{P}}{\\partial{t}}\\right) = S({\\bf x}_{s}, t).\n",
    "\\end{equation}\n",
    "\n",
    "The equation can be written using a first order formulation, given by:\n",
    "\n",
    "\\begin{equation}\n",
    "\\left\\{\n",
    "\\begin{array}{ll}\n",
    "\\frac{\\partial P}{\\partial t} + \\kappa \\nabla \\cdot {\\bf v} - \\eta \\rho \\nabla \\cdot \\frac{1}{\\rho} \\nabla{P} = S({\\bf x}_{s}, t) \\\\\n",
    "\\frac{\\partial {\\bf v}}{\\partial t} + \\frac{1}{\\rho} \\nabla{P} = 0\n",
    "\\end{array}\n",
    "\\right.\n",
    "\\end{equation}"
   ]
  },
  {
   "cell_type": "code",
   "execution_count": 17,
   "metadata": {},
   "source": [
    "# Stencil created from Ren et al. (2014) viscoacoustic wave equation.\n",
    "def KV(model, p, v):\n",
    "\n",
    "    # Angular frequency \n",
    "    w = 2. * np.pi * f0\n",
    "\n",
    "    # Define PDE to v\n",
    "    pde_v = v.dt + b * grad(p)\n",
    "    u_v = Eq(v.forward, damp * solve(pde_v, v.forward))\n",
    "\n",
    "    # Define PDE to p\n",
    "    pde_p = p.dt + lam * div(v.forward) - (lam / (w * model.qp)) * div(b * grad(p, shift=.5), shift=-.5)\n",
    "\n",
    "    u_p = Eq(p.forward, damp * solve(pde_p, p.forward))\n",
    "    \n",
    "    return [u_v, u_p]"
   ],
   "outputs": []
  },
  {
   "cell_type": "code",
   "execution_count": 18,
   "metadata": {},
   "source": [
    "# Seismic Modelling from Ren et al. (2014) viscoacoustic wave equation.\n",
    "def modelling_KV(model):\n",
    "    \n",
    "    # Create symbols for particle velocity, pressure field, source and receivers\n",
    "\n",
    "    v = VectorTimeFunction(name=\"v\", grid=model.grid, time_order=1, space_order=space_order)\n",
    "\n",
    "    p = TimeFunction(name=\"p\", grid=model.grid, time_order=1, space_order=space_order, \n",
    "                     staggered=NODE)\n",
    "\n",
    "    # define the source injection and create interpolation expression for receivers\n",
    "    \n",
    "    src_rec_expr, src, rec = src_rec(p, model)\n",
    "    \n",
    "    eqn = KV(model, p, v)\n",
    "    \n",
    "    op = Operator(eqn + src_rec_expr, subs=model.spacing_map)\n",
    "    \n",
    "    op(time=time_range.num-1, dt=dt, src=src, rec=rec)\n",
    "    \n",
    "    return rec, v, p"
   ],
   "outputs": []
  },
  {
   "cell_type": "code",
   "execution_count": 19,
   "metadata": {},
   "source": [
    "#NBVAL_IGNORE_OUTPUT\n",
    "rec, v, p = modelling_KV(model)"
   ],
   "outputs": []
  },
  {
   "cell_type": "code",
   "execution_count": 20,
   "metadata": {},
   "source": [
    "#NBVAL_IGNORE_OUTPUT\n",
    "plot_receiver(rec)"
   ],
   "outputs": []
  },
  {
   "cell_type": "code",
   "execution_count": 21,
   "metadata": {},
   "source": [
    "assert np.isclose(np.linalg.norm(rec.data), 15, rtol=10)"
   ],
   "outputs": []
  },
  {
   "cell_type": "code",
   "execution_count": 22,
   "metadata": {},
   "source": [
    "#NBVAL_IGNORE_OUTPUT\n",
    "plot_v_and_p(model, v, p)"
   ],
   "outputs": []
  },
  {
   "cell_type": "code",
   "execution_count": 23,
   "metadata": {},
   "source": [
    "assert np.isclose(norm(v[0]), 1.0639238, atol=1e-3, rtol=0)"
   ],
   "outputs": []
  },
  {
   "cell_type": "markdown",
   "metadata": {},
   "source": [
    "## Equation based on Maxwell rheological model\n",
    "\n",
    "The viscoacoustic wave equation for the propagating pressure $P$ in the time-space domain:\n",
    "\n",
    "\\begin{equation}\n",
    "\\frac{1}{v^2}\\frac{\\partial^{2}P}{\\partial{t^2}} - \\nabla^{2}P + \\frac{g}{v}\\frac{\\partial P}{\\partial{t}}  = S({\\bf x}_{s}, t),\n",
    "\\end{equation}\n",
    "\n",
    "where $g$ is the absorption coefficient, given by:\n",
    "\n",
    "\\begin{equation}\n",
    "g = \\frac{2\\pi f_{0}}{vQ},\n",
    "\\end{equation}\n",
    "\n",
    "The equation can be written using a first order formulation, given by:\n",
    "\n",
    "\\begin{equation}\n",
    "\\left\\{\n",
    "\\begin{array}{lcl}\n",
    "\\frac{\\partial P}{\\partial t} + \\kappa (\\nabla \\cdot {\\bf v}) + \\frac{2\\pi f_{0}}{Q}P= S({\\bf x}_{s}, t) \\\\\n",
    "\\frac{\\partial {\\bf v}}{\\partial t} + \\frac{1}{\\rho}\\nabla{P} = 0 \\\\\n",
    "\\end{array}\n",
    "\\right.\n",
    "\\end{equation}\n"
   ]
  },
  {
   "cell_type": "code",
   "execution_count": 24,
   "metadata": {},
   "source": [
    "# Stencil created from Deng and McMechan (2007) viscoacoustic wave equation.\n",
    "def Maxwell(model, p, v):\n",
    "\n",
    "    # Angular frequency \n",
    "    w = 2. * np.pi * f0\n",
    "\n",
    "    # Define PDE to v\n",
    "    pde_v = v.dt + b * grad(p)\n",
    "    u_v = Eq(v.forward, damp * solve(pde_v, v.forward))\n",
    "\n",
    "    # Define PDE to p\n",
    "    pde_p = p.dt + lam * div(v.forward) + (w / model.qp) * p\n",
    "    u_p = Eq(p.forward, damp * solve(pde_p, p.forward))\n",
    "    \n",
    "    return [u_v, u_p]"
   ],
   "outputs": []
  },
  {
   "cell_type": "code",
   "execution_count": 25,
   "metadata": {},
   "source": [
    "# Seismic Modelling from Deng and McMechan (2007) viscoacoustic wave equation.\n",
    "def modelling_Maxwell(model):\n",
    "    \n",
    "    # Create symbols for particle velocity, pressure field, source and receivers\n",
    "    \n",
    "    v = VectorTimeFunction(name=\"v\", grid=model.grid, time_order=1, space_order=space_order)\n",
    "\n",
    "    p = TimeFunction(name=\"p\", grid=model.grid, time_order=1, space_order=space_order, \n",
    "                     staggered=NODE)\n",
    "\n",
    "    # define the source injection and create interpolation expression for receivers\n",
    "    \n",
    "    src_rec_expr, src, rec = src_rec(p, model)\n",
    "    \n",
    "    eqn = Maxwell(model, p, v)\n",
    "    \n",
    "    op = Operator(eqn + src_rec_expr, subs=model.spacing_map)\n",
    "    \n",
    "    op(time=time_range.num-1, dt=dt, src=src, rec=rec)\n",
    "    \n",
    "    return rec, v, p"
   ],
   "outputs": []
  },
  {
   "cell_type": "code",
   "execution_count": 26,
   "metadata": {},
   "source": [
    "#NBVAL_IGNORE_OUTPUT\n",
    "rec, v, p = modelling_Maxwell(model)"
   ],
   "outputs": []
  },
  {
   "cell_type": "code",
   "execution_count": 27,
   "metadata": {},
   "source": [
    "#NBVAL_IGNORE_OUTPUT\n",
    "plot_receiver(rec)"
   ],
   "outputs": []
  },
  {
   "cell_type": "code",
   "execution_count": 28,
   "metadata": {},
   "source": [
    "assert np.isclose(np.linalg.norm(rec.data), 16, rtol=10)"
   ],
   "outputs": []
  },
  {
   "cell_type": "code",
   "execution_count": 29,
   "metadata": {},
   "source": [
    "#NBVAL_IGNORE_OUTPUT\n",
    "plot_v_and_p(model, v, p)"
   ],
   "outputs": []
  },
  {
   "cell_type": "code",
   "execution_count": 30,
   "metadata": {},
   "source": [
    "assert np.isclose(norm(v[0]), 1.1323929, atol=1e-3, rtol=0)"
   ],
   "outputs": []
  },
  {
   "cell_type": "markdown",
   "metadata": {},
   "source": [
    "# More references\n",
    "\n",
    "[1] https://academic.oup.com/gji/article/197/2/948/616510\n",
    "\n",
    "[2] https://link.springer.com/article/10.1007/s11770-014-0414-8\n",
    "\n",
    "[3] https://janth.home.xs4all.nl/Software/fdelmodcManual.pdf"
   ]
  }
 ],
 "metadata": {
  "@webio": {
   "lastCommId": null,
   "lastKernelId": null
  },
  "hide_input": false,
  "kernelspec": {
   "display_name": "Python 3",
   "language": "python",
   "name": "python3"
  },
  "language_info": {
   "codemirror_mode": {
    "name": "ipython",
    "version": 3
   },
   "file_extension": ".py",
   "mimetype": "text/x-python",
   "name": "python",
   "nbconvert_exporter": "python",
   "pygments_lexer": "ipython3",
   "version": "3.9.9"
  },
  "latex_envs": {
   "LaTeX_envs_menu_present": true,
   "autoclose": false,
   "autocomplete": true,
   "bibliofile": "biblio.bib",
   "cite_by": "apalike",
   "current_citInitial": 1,
   "eqLabelWithNumbers": true,
   "eqNumInitial": 1,
   "hotkeys": {
    "equation": "Ctrl-E",
    "itemize": "Ctrl-I"
   },
   "labels_anchors": false,
   "latex_user_defs": false,
   "report_style_numbering": false,
   "user_envs_cfg": false
  }
 },
 "nbformat": 4,
 "nbformat_minor": 4
}
