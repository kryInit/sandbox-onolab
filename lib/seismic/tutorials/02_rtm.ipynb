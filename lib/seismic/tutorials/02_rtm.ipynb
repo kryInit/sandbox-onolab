{
 "cells": [
  {
   "cell_type": "markdown",
   "metadata": {
    "collapsed": true
   },
   "source": [
    "# 02 - Reverse Time Migration\n",
    "\n",
    "This notebook is the second in a series of tutorial highlighting various aspects of seismic inversion based on Devito operators. In this second example we aim to highlight the core ideas behind seismic inversion, where we create an image of the subsurface from field recorded data. This tutorial follows on the modelling tutorial and will reuse the modelling operator and velocity model.\n",
    "\n",
    "## Imaging requirement\n",
    "\n",
    "Seismic imaging relies on two known parameters:\n",
    "\n",
    "- **Field data** - or also called **recorded data**. This is a shot record corresponding to the true velocity model. In practice this data is acquired as described in the first tutorial. In order to simplify this tutorial we will generate synthetic field data by modelling it with the **true velocity model**.\n",
    "\n",
    "- **Background velocity model**. This is a velocity model that has been obtained by processing and inverting the field data. We will look at this methods in the following tutorial as it relies on the method we are describing here. This velocity model is usually a **smooth version** of the true velocity model."
   ]
  },
  {
   "cell_type": "markdown",
   "metadata": {},
   "source": [
    "## Imaging computational setup\n",
    "\n",
    "In this tutorial, we will introduce the back-propagation operator. This operator simulates the adjoint wave-equation, that is a wave-equation solved in a reversed time order. This time reversal led to the naming of the method we present here, called Reverse Time Migration. The notion of adjoint in exploration geophysics is fundamental as most of the wave-equation based imaging and inversion methods rely on adjoint based optimization methods.\n",
    "\n",
    "## Notes on the operators\n",
    "\n",
    "As we have already described the creation of a forward modelling operator, we will use a thin wrapper function instead. This wrapper is provided by a utility class called `AcousticWaveSolver`, which provides all the necessary operators for seismic modeling, imaging and inversion. The `AcousticWaveSolver` provides a more concise API for common wave propagation operators and caches the Devito `Operator` objects to avoid unnecessary recompilation. Operators introduced for the first time in this tutorial will be properly described.\n",
    "\n",
    "As before we initialize printing and import some utilities. We also raise the Devito log level to avoid excessive logging for repeated operator invocations."
   ]
  },
  {
   "cell_type": "code",
   "execution_count": 1,
   "metadata": {},
   "source": [
    "import numpy as np\n",
    "%matplotlib inline\n",
    "\n",
    "from devito import configuration\n",
    "configuration['log-level'] = 'WARNING'"
   ],
   "outputs": []
  },
  {
   "cell_type": "markdown",
   "metadata": {
    "collapsed": true
   },
   "source": [
    "## Computational considerations\n",
    "\n",
    "Seismic inversion algorithms are generally very computationally demanding and require a large amount of memory to store the forward wavefield. In order to keep this tutorial as lightweight as possible we are using a very simple\n",
    "velocity model that requires low temporal and spatial resolution. For a more realistic model, a second set of preset parameters for a reduced version of the 2D Marmousi data set [1] is provided below in comments. This can be run to create some more realistic subsurface images. However, this second preset is more computationally demanding and requires a slightly more powerful workstation."
   ]
  },
  {
   "cell_type": "code",
   "execution_count": 2,
   "metadata": {},
   "source": [
    "# Configure model presets\n",
    "from examples.seismic import demo_model\n",
    "\n",
    "# Enable model presets here:\n",
    "preset = 'layers-isotropic'  # A simple but cheap model (recommended)\n",
    "# preset = 'marmousi2d-isotropic'  # A larger more realistic model\n",
    "\n",
    "# Standard preset with a simple two-layer model\n",
    "if preset == 'layers-isotropic':\n",
    "    def create_model(grid=None):\n",
    "        return demo_model('layers-isotropic', origin=(0., 0.), shape=(101, 101),\n",
    "                          spacing=(10., 10.), nbl=20, grid=grid, nlayers=2)\n",
    "    filter_sigma = (1, 1)\n",
    "    nshots = 21\n",
    "    nreceivers = 101\n",
    "    t0 = 0.\n",
    "    tn = 1000.  # Simulation last 1 second (1000 ms)\n",
    "    f0 = 0.010  # Source peak frequency is 10Hz (0.010 kHz)\n",
    "\n",
    "\n",
    "# A more computationally demanding preset based on the 2D Marmousi model\n",
    "if preset == 'marmousi2d-isotropic':\n",
    "    def create_model(grid=None):\n",
    "        return demo_model('marmousi2d-isotropic', data_path='../../../../data/',\n",
    "                          grid=grid, nbl=20)\n",
    "    filter_sigma = (6, 6)\n",
    "    nshots = 301  # Need good covergae in shots, one every two grid points\n",
    "    nreceivers = 601  # One recevier every grid point\n",
    "    t0 = 0.\n",
    "    tn = 3500.  # Simulation last 3.5 second (3500 ms)\n",
    "    f0 = 0.025  # Source peak frequency is 25Hz (0.025 kHz)"
   ],
   "outputs": []
  },
  {
   "cell_type": "markdown",
   "metadata": {},
   "source": [
    "# True and smooth velocity models\n",
    "\n",
    "First, we create the model data for the \"true\" model from a given demonstration preset. This model represents the subsurface topology for the purposes of this example and we will later use it to generate our synthetic data readings. We also generate a second model and apply a smoothing filter to it, which represents our initial model for the imaging algorithm. The perturbation between these two models can be thought of as the image we are trying to recover."
   ]
  },
  {
   "cell_type": "code",
   "execution_count": 3,
   "metadata": {},
   "source": [
    "#NBVAL_IGNORE_OUTPUT\n",
    "from examples.seismic import plot_velocity, plot_perturbation\n",
    "from devito import gaussian_smooth\n",
    "\n",
    "# Create true model from a preset\n",
    "model = create_model()\n",
    "\n",
    "# Create initial model and smooth the boundaries\n",
    "model0 = create_model(grid=model.grid)\n",
    "gaussian_smooth(model0.vp, sigma=filter_sigma)\n",
    "\n",
    "# Plot the true and initial model and the perturbation between them\n",
    "plot_velocity(model)\n",
    "plot_velocity(model0)\n",
    "plot_perturbation(model0, model)"
   ],
   "outputs": []
  },
  {
   "cell_type": "markdown",
   "metadata": {},
   "source": [
    "## Acquisition geometry\n",
    "\n",
    "Next we define the positioning and the wave signal of our source, as well as the location of our receivers. To generate the wavelet for our source we require the discretized values of time that we are going to use to model a single \"shot\",\n",
    "which again depends on the grid spacing used in our model. For consistency this initial setup will look exactly as in the previous modelling tutorial, although we will vary the position of our source later on during the actual imaging algorithm."
   ]
  },
  {
   "cell_type": "code",
   "execution_count": 4,
   "metadata": {},
   "source": [
    "#NBVAL_IGNORE_OUTPUT\n",
    "# Define acquisition geometry: source\n",
    "from examples.seismic import AcquisitionGeometry\n",
    "\n",
    "# First, position source centrally in all dimensions, then set depth\n",
    "src_coordinates = np.empty((1, 2))\n",
    "src_coordinates[0, :] = np.array(model.domain_size) * .5\n",
    "src_coordinates[0, -1] = 20.  # Depth is 20m\n",
    "\n",
    "\n",
    "# Define acquisition geometry: receivers\n",
    "\n",
    "# Initialize receivers for synthetic and imaging data\n",
    "rec_coordinates = np.empty((nreceivers, 2))\n",
    "rec_coordinates[:, 0] = np.linspace(0, model.domain_size[0], num=nreceivers)\n",
    "rec_coordinates[:, 1] = 30.\n",
    "\n",
    "# Geometry\n",
    "\n",
    "geometry = AcquisitionGeometry(model, rec_coordinates, src_coordinates, t0, tn, f0=.010, src_type='Ricker')\n",
    "# We can plot the time signature to see the wavelet\n",
    "geometry.src.show()"
   ],
   "outputs": []
  },
  {
   "cell_type": "markdown",
   "metadata": {},
   "source": [
    "# True and smooth data\n",
    "\n",
    "We can now generate the shot record (receiver readings) corresponding to our true and initial models. The difference between these two records will be the basis of the imaging procedure.\n",
    "\n",
    "For this purpose we will use the same forward modelling operator that was introduced in the previous tutorial, provided by the `AcousticWaveSolver` utility class. This object instantiates a set of pre-defined operators according to an initial definition of the acquisition geometry, consisting of source and receiver symbols. The solver objects caches the individual operators and provides a slightly more high-level API that allows us to invoke the modelling modelling operators from the initial tutorial in a single line. In the following cells we use this to generate shot data by only specifying the respective model symbol `m` to use, and the solver will create and return a new `Receiver` object the represents the readings at the previously defined receiver coordinates.  "
   ]
  },
  {
   "cell_type": "code",
   "execution_count": 5,
   "metadata": {},
   "source": [
    "# Compute synthetic data with forward operator \n",
    "from examples.seismic.acoustic import AcousticWaveSolver\n",
    "\n",
    "solver = AcousticWaveSolver(model, geometry, space_order=4)\n",
    "true_d , _, _ = solver.forward(vp=model.vp)"
   ],
   "outputs": []
  },
  {
   "cell_type": "code",
   "execution_count": 6,
   "metadata": {},
   "source": [
    "# Compute initial data with forward operator \n",
    "smooth_d, _, _ = solver.forward(vp=model0.vp)"
   ],
   "outputs": []
  },
  {
   "cell_type": "code",
   "execution_count": 7,
   "metadata": {},
   "source": [
    "#NBVAL_IGNORE_OUTPUT\n",
    "# Plot shot record for true and smooth velocity model and the difference\n",
    "from examples.seismic import plot_shotrecord\n",
    "\n",
    "plot_shotrecord(true_d.data, model, t0, tn)\n",
    "plot_shotrecord(smooth_d.data, model, t0, tn)\n",
    "plot_shotrecord(smooth_d.data - true_d.data, model, t0, tn)"
   ],
   "outputs": []
  },
  {
   "cell_type": "markdown",
   "metadata": {},
   "source": [
    "# Imaging with back-propagation\n",
    "\n",
    "As explained in the introduction of this tutorial, this method is based on back-propagation. \n",
    "\n",
    "## Adjoint wave equation\n",
    "\n",
    "If we go back to the modelling part, we can rewrite the simulation as a linear system solve:\n",
    "\n",
    "\\begin{equation}\n",
    "\\mathbf{A}(\\mathbf{m}) \\mathbf{u} = \\mathbf{q}\n",
    "\\end{equation}\n",
    "\n",
    "where $\\mathbf{m}$ is the discretized square slowness, $\\mathbf{q}$ is the discretized source and $\\mathbf{A}(\\mathbf{m})$ is the discretized wave-equation. The discretized wave-equation matricial representation is a lower triangular matrix that can be solve with forward substitution. The pointwise writing or the forward substitution leads to the time-stepping stencil.\n",
    "\n",
    "On a small problem one could form the matrix explicitly and transpose it to obtain the adjoint discrete wave-equation:\n",
    "\n",
    "\\begin{equation}\n",
    "\\mathbf{A}(\\mathbf{m})^T \\mathbf{v} = \\delta \\mathbf{d}\n",
    "\\end{equation}\n",
    "\n",
    "where $\\mathbf{v}$ is the discrete **adjoint wavefield** and  $\\delta \\mathbf{d}$ is the data residual defined as the difference between the field/observed data and the synthetic data $\\mathbf{d}_s = \\mathbf{P}_r \\mathbf{u}$. In our case we derive the discrete adjoint wave-equation from the discrete forward wave-equation to get its stencil. \n",
    "\n",
    "## Imaging\n",
    "\n",
    "Wave-equation based imaging relies on one simple concept:\n",
    "\n",
    "- If the background velocity model is cinematically correct, the forward wavefield $\\mathbf{u}$ and the adjoint wavefield $\\mathbf{v}$ meet at the reflectors position at zero time offset. \n",
    "\n",
    "The sum over time of the zero time-offset correlation of these two fields then creates an image of the subsurface. Mathematically this leads to the simple imaging condition:\n",
    "\n",
    "\\begin{equation}\n",
    "  \\text{Image} = \\sum_{t=1}^{n_t} \\mathbf{u}[t] \\mathbf{v}[t]\n",
    "\\end{equation}\n",
    "\n",
    "In the following tutorials we will describe a more advanced imaging condition that produces shaper and more accurate results.\n",
    "\n",
    "## Operator\n",
    "\n",
    "We will now define the imaging operator that computes the adjoint wavefield $\\mathbf{v}$ and correlates it with the forward wavefield $\\mathbf{u}$. This operator essentially consists of three components:\n",
    "* Stencil update of the adjoint wavefield `v`\n",
    "* Injection of the data residual at the adjoint source (forward receiver) location\n",
    "* Correlation of `u` and `v` to compute the image contribution at each timestep"
   ]
  },
  {
   "cell_type": "code",
   "execution_count": 8,
   "metadata": {},
   "source": [
    "# Define gradient operator for imaging\n",
    "from devito import TimeFunction, Operator, Eq, solve\n",
    "from examples.seismic import PointSource\n",
    "\n",
    "def ImagingOperator(model, image):\n",
    "    # Define the wavefield with the size of the model and the time dimension\n",
    "    v = TimeFunction(name='v', grid=model.grid, time_order=2, space_order=4)\n",
    "\n",
    "    u = TimeFunction(name='u', grid=model.grid, time_order=2, space_order=4,\n",
    "                     save=geometry.nt)\n",
    "    \n",
    "    # Define the wave equation, but with a negated damping term\n",
    "    eqn = model.m * v.dt2 - v.laplace + model.damp * v.dt.T\n",
    "\n",
    "    # Use `solve` to rearrange the equation into a stencil expression\n",
    "    stencil = Eq(v.backward, solve(eqn, v.backward))\n",
    "    \n",
    "    # Define residual injection at the location of the forward receivers\n",
    "    dt = model.critical_dt\n",
    "    residual = PointSource(name='residual', grid=model.grid,\n",
    "                           time_range=geometry.time_axis,\n",
    "                           coordinates=geometry.rec_positions)    \n",
    "    res_term = residual.inject(field=v.backward, expr=residual * dt**2 / model.m)\n",
    "\n",
    "    # Correlate u and v for the current time step and add it to the image\n",
    "    image_update = Eq(image, image - u * v)\n",
    "\n",
    "    return Operator([stencil] + res_term + [image_update],\n",
    "                    subs=model.spacing_map)"
   ],
   "outputs": []
  },
  {
   "cell_type": "markdown",
   "metadata": {},
   "source": [
    "## Implementation of the imaging loop\n",
    "\n",
    "As just explained, the forward wave-equation is solved forward in time while the adjoint wave-equation is solved in a reversed time order. Therefore, the correlation of these two fields over time requires to store one of the two fields. The computational procedure for imaging follows:\n",
    "\n",
    "- Simulate the forward wave-equation with the background velocity model to get the synthetic data and save the full wavefield $\\mathbf{u}$\n",
    "- Compute the data residual\n",
    "- Back-propagate the data residual and compute on the fly the image contribution at each time step. \n",
    "\n",
    "This procedure is applied to multiple source positions (shots) and summed to obtain the full image of the subsurface. We can first visualize the varying locations of the sources that we will use. "
   ]
  },
  {
   "cell_type": "code",
   "execution_count": 9,
   "metadata": {},
   "source": [
    "#NBVAL_IGNORE_OUTPUT\n",
    "\n",
    "# Prepare the varying source locations\n",
    "source_locations = np.empty((nshots, 2), dtype=np.float32)\n",
    "source_locations[:, 0] = np.linspace(0., 1000, num=nshots)\n",
    "source_locations[:, 1] = 30.\n",
    "\n",
    "plot_velocity(model, source=source_locations)"
   ],
   "outputs": []
  },
  {
   "cell_type": "code",
   "execution_count": 10,
   "metadata": {},
   "source": [
    "# Run imaging loop over shots\n",
    "from devito import Function\n",
    "\n",
    "# Create image symbol and instantiate the previously defined imaging operator\n",
    "image = Function(name='image', grid=model.grid)\n",
    "op_imaging = ImagingOperator(model, image)\n",
    "\n",
    "for i in range(nshots):\n",
    "    print('Imaging source %d out of %d' % (i+1, nshots))\n",
    "    \n",
    "    # Update source location\n",
    "    geometry.src_positions[0, :] = source_locations[i, :]\n",
    "\n",
    "    # Generate synthetic data from true model\n",
    "    true_d, _, _ = solver.forward(vp=model.vp)\n",
    "    \n",
    "    # Compute smooth data and full forward wavefield u0\n",
    "    smooth_d, u0, _ = solver.forward(vp=model0.vp, save=True)\n",
    "    \n",
    "    # Compute gradient from the data residual  \n",
    "    v = TimeFunction(name='v', grid=model.grid, time_order=2, space_order=4)\n",
    "    residual = smooth_d.data - true_d.data\n",
    "    op_imaging(u=u0, v=v, vp=model0.vp, dt=model0.critical_dt, \n",
    "               residual=residual)\n"
   ],
   "outputs": []
  },
  {
   "cell_type": "code",
   "execution_count": 11,
   "metadata": {},
   "source": [
    "#NBVAL_IGNORE_OUTPUT\n",
    "from examples.seismic import plot_image\n",
    "\n",
    "# Plot the inverted image\n",
    "plot_image(np.diff(image.data, axis=1))"
   ],
   "outputs": []
  },
  {
   "cell_type": "code",
   "execution_count": 12,
   "metadata": {},
   "source": [
    "from devito import norm\n",
    "assert np.isclose(norm(image), 1e7, rtol=1e1)"
   ],
   "outputs": []
  },
  {
   "cell_type": "markdown",
   "metadata": {},
   "source": [
    "And we have an image of the subsurface with a strong reflector at the original location."
   ]
  },
  {
   "cell_type": "markdown",
   "metadata": {},
   "source": [
    "## References\n",
    "\n",
    "[1] _Versteeg, R.J. & Grau, G. (eds.) (1991): The Marmousi experience. Proc. EAGE workshop on Practical Aspects of Seismic Data Inversion (Copenhagen, 1990), Eur. Assoc. Explor. Geophysicists, Zeist._"
   ]
  }
 ],
 "metadata": {
  "@webio": {
   "lastCommId": null,
   "lastKernelId": null
  },
  "hide_input": false,
  "kernelspec": {
   "display_name": "Python 3",
   "language": "python",
   "name": "python3"
  },
  "language_info": {
   "codemirror_mode": {
    "name": "ipython",
    "version": 3
   },
   "file_extension": ".py",
   "mimetype": "text/x-python",
   "name": "python",
   "nbconvert_exporter": "python",
   "pygments_lexer": "ipython3",
   "version": "3.7.7"
  },
  "latex_envs": {
   "LaTeX_envs_menu_present": true,
   "autoclose": false,
   "autocomplete": true,
   "bibliofile": "biblio.bib",
   "cite_by": "apalike",
   "current_citInitial": 1,
   "eqLabelWithNumbers": true,
   "eqNumInitial": 1,
   "hotkeys": {
    "equation": "Ctrl-E",
    "itemize": "Ctrl-I"
   },
   "labels_anchors": false,
   "latex_user_defs": false,
   "report_style_numbering": false,
   "user_envs_cfg": false
  },
  "widgets": {
   "state": {},
   "version": "1.1.2"
  }
 },
 "nbformat": 4,
 "nbformat_minor": 1
}
